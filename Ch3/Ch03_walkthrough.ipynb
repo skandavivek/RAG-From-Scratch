{
  "cells": [
    {
      "cell_type": "code",
      "execution_count": 1,
      "id": "366d376a-1b9f-4ebc-b5d2-c1696526adda",
      "metadata": {
        "id": "366d376a-1b9f-4ebc-b5d2-c1696526adda"
      },
      "outputs": [],
      "source": [
        "# !pip install llama-index\n",
        "# !pip install llama-index-vector-stores-qdrant llama-index-readers-file llama-index-embeddings-fastembed llama-index-llms-openai\n",
        "# !pip install -U qdrant_client fastembed\n",
        "# !pip install deepeval -q"
      ]
    },
    {
      "cell_type": "code",
      "source": [
        "import logging\n",
        "import sys\n",
        "import os\n",
        "#from dotenv import load_dotenv\n",
        "from IPython.display import Markdown, display\n",
        "\n",
        "# qdrant official client\n",
        "import qdrant_client\n",
        "\n",
        "# LLama-index dependencies\n",
        "from llama_index.core import VectorStoreIndex, SimpleDirectoryReader\n",
        "from llama_index.core import SimpleDirectoryReader\n",
        "from llama_index.vector_stores.qdrant import QdrantVectorStore\n",
        "#from llama_index.embeddings.fastembed import FastEmbedEmbedding\n",
        "from llama_index.core import Settings"
      ],
      "metadata": {
        "id": "fMjdy1a4Ovtn"
      },
      "id": "fMjdy1a4Ovtn",
      "execution_count": 1,
      "outputs": []
    },
    {
      "cell_type": "markdown",
      "id": "33fe6951-00f8-42ab-bf99-b9905664d358",
      "metadata": {
        "id": "33fe6951-00f8-42ab-bf99-b9905664d358"
      },
      "source": [
        "# Document Extraction"
      ]
    },
    {
      "cell_type": "markdown",
      "id": "b44ed1b4-1332-4e24-904f-70d7373f79e2",
      "metadata": {
        "id": "b44ed1b4-1332-4e24-904f-70d7373f79e2"
      },
      "source": [
        "## Extraction using PyMUPDF"
      ]
    },
    {
      "cell_type": "code",
      "execution_count": null,
      "id": "bff7b72c-2af2-4322-be77-6ca7afffa113",
      "metadata": {
        "id": "bff7b72c-2af2-4322-be77-6ca7afffa113"
      },
      "outputs": [],
      "source": []
    },
    {
      "cell_type": "code",
      "execution_count": null,
      "id": "375d49e9-406e-453a-8b1f-88d97559d238",
      "metadata": {
        "id": "375d49e9-406e-453a-8b1f-88d97559d238"
      },
      "outputs": [],
      "source": [
        "from llama_index.core.schema import TextNode\n",
        "from llama_index.core.node_parser import SentenceSplitter\n",
        "import fitz\n",
        "\n",
        "file_path = \"../data/Q1-2023-Amazon-Earnings-Release.pdf\"\n",
        "doc = fitz.open(file_path) #A\n",
        "#B\n",
        "text_parser = SentenceSplitter(\n",
        "    chunk_size=2048,\n",
        ")\n",
        "text_chunks = [] #C\n",
        "for doc_idx, page in enumerate(doc):\n",
        "    page_text = page.get_text(\"text\")\n",
        "    cur_text_chunks = text_parser.split_text(page_text)\n",
        "    text_chunks.extend(cur_text_chunks)\n",
        "nodes = [] #D\n",
        "for idx, text_chunk in enumerate(text_chunks):\n",
        "    node = TextNode(\n",
        "        text=text_chunk,\n",
        "    )\n",
        "    nodes.append(node)\n"
      ]
    },
    {
      "cell_type": "code",
      "execution_count": null,
      "id": "d3690513-219f-4421-af4a-7059e9b4ca1f",
      "metadata": {
        "id": "d3690513-219f-4421-af4a-7059e9b4ca1f",
        "outputId": "e7144ae2-1122-4769-f91a-5c0f110de87f"
      },
      "outputs": [
        {
          "name": "stdout",
          "output_type": "stream",
          "text": [
            "AMAZON.COM, INC.\n",
            "Consolidated Statements of Comprehensive Income (Loss)\n",
            "(in millions)\n",
            "(unaudited)\n",
            "  \n",
            "Three Months Ended\n",
            "March 31,\n",
            " \n",
            "2022\n",
            "2023\n",
            "Net income (loss)\n",
            "$ \n",
            "(3,844) $ \n",
            "3,172 \n",
            "Other comprehensive income (loss):\n",
            "Foreign currency translation adjustments, net of tax of $(16) and $(10)\n",
            " \n",
            "(333)  \n",
            "386 \n",
            "Net change in unrealized gains (losses) on available-for-sale debt securities:\n",
            "Unrealized gains (losses), net of tax of $1 and $(29)\n",
            " \n",
            "(662)  \n",
            "95 \n",
            "Reclassification adjustment for losses (gains) included in “Other income (expense), \n",
            "net,” net of tax of $0 and $(10)\n",
            " \n",
            "6  \n",
            "33 \n",
            "Net unrealized gains (losses) on available-for-sale debt securities\n",
            " \n",
            "(656)  \n",
            "128 \n",
            "Total other comprehensive income (loss)\n",
            " \n",
            "(989)  \n",
            "514 \n",
            "Comprehensive income (loss)\n",
            "$ \n",
            "(4,833) $ \n",
            "3,686\n"
          ]
        }
      ],
      "source": [
        "print(nodes[8].text)"
      ]
    },
    {
      "cell_type": "markdown",
      "id": "3312d6d6-ae34-4607-ad12-66debdd212f8",
      "metadata": {
        "id": "3312d6d6-ae34-4607-ad12-66debdd212f8"
      },
      "source": [
        "## Extraction using LlamaParse"
      ]
    },
    {
      "cell_type": "code",
      "execution_count": 11,
      "id": "93968620-7b07-467a-a0d5-389ea2ca94a3",
      "metadata": {
        "id": "93968620-7b07-467a-a0d5-389ea2ca94a3"
      },
      "outputs": [],
      "source": [
        "import getpass\n",
        "import os\n",
        "from copy import deepcopy\n",
        "\n"
      ]
    },
    {
      "cell_type": "code",
      "source": [
        "os.environ[\"LLAMA_CLOUD_API_KEY\"] = getpass.getpass()"
      ],
      "metadata": {
        "id": "EXMq-9XLxZWs"
      },
      "id": "EXMq-9XLxZWs",
      "execution_count": null,
      "outputs": []
    },
    {
      "cell_type": "code",
      "execution_count": 12,
      "id": "b42bec72-ba52-4c6a-9c8f-815e77d745cf",
      "metadata": {
        "colab": {
          "base_uri": "https://localhost:8080/"
        },
        "id": "b42bec72-ba52-4c6a-9c8f-815e77d745cf",
        "outputId": "387532f5-7e9f-403e-f81a-83a845679e13"
      },
      "outputs": [
        {
          "name": "stdout",
          "output_type": "stream",
          "text": [
            "··········\n"
          ]
        }
      ],
      "source": [
        "os.environ[\"OPENAI_API_KEY\"] = getpass.getpass()"
      ]
    },
    {
      "cell_type": "code",
      "execution_count": null,
      "id": "289be495-a0e9-4899-b7d2-da4404147e8e",
      "metadata": {
        "id": "289be495-a0e9-4899-b7d2-da4404147e8e"
      },
      "outputs": [],
      "source": [
        "# llama-parse is async-first, running the async code in a notebook requires the use of nest_asyncio\n",
        "import nest_asyncio\n",
        "\n",
        "nest_asyncio.apply()\n",
        "\n",
        "import os"
      ]
    },
    {
      "cell_type": "code",
      "execution_count": null,
      "id": "37e2493a-35d1-4ed9-a038-ab061dda83fa",
      "metadata": {
        "id": "37e2493a-35d1-4ed9-a038-ab061dda83fa",
        "outputId": "fc2785ac-6480-47ea-a4f1-85347dc82fa7"
      },
      "outputs": [
        {
          "name": "stdout",
          "output_type": "stream",
          "text": [
            "Started parsing the file under job_id cac11eca-0a23-4d2b-9ca3-dc10139cf738\n"
          ]
        }
      ],
      "source": [
        "from llama_parse import LlamaParse\n",
        "documents = LlamaParse(result_type=\"markdown\").load_data(\"../data/Q1-2023-Amazon-Earnings-Release.pdf\") #A\n",
        "def get_page_nodes(docs, separator=\"\\n---\\n\"): #B\n",
        "    \"\"\"Split each document into page node, by separator.\"\"\"\n",
        "    nodes = [] #C\n",
        "    for doc in docs:\n",
        "        doc_chunks = doc.text.split(separator)\n",
        "        for doc_chunk in doc_chunks:\n",
        "            node = TextNode(\n",
        "                text=doc_chunk,\n",
        "                metadata=deepcopy(doc.metadata),\n",
        "            )\n",
        "            nodes.append(node)\n",
        "\n",
        "    return nodes\n",
        "\n",
        "\n",
        "nodes_lp = get_page_nodes(documents)\n"
      ]
    },
    {
      "cell_type": "code",
      "execution_count": null,
      "id": "fbb255e1-ea45-4b4d-9b80-235a1906ec45",
      "metadata": {
        "id": "fbb255e1-ea45-4b4d-9b80-235a1906ec45",
        "outputId": "2c87391c-753b-4a6b-986d-e936c2c5a88c"
      },
      "outputs": [
        {
          "name": "stdout",
          "output_type": "stream",
          "text": [
            "# AMAZON.COM, INC.\n",
            "\n",
            "| |Consolidated Statements of Comprehensive Income (Loss)| |\n",
            "|---|---|---|\n",
            "| |(in millions)| |\n",
            "| |(unaudited)| |\n",
            "| |Three Months Ended| |\n",
            "| |March 31,| |\n",
            "| |2022|2023|\n",
            "|Net income (loss)|$ (3,844)|$ 3,172|\n",
            "|Other comprehensive income (loss):| | |\n",
            "|Foreign currency translation adjustments, net of tax of $(16) and $(10)|(333)|386|\n",
            "|Net change in unrealized gains (losses) on available-for-sale debt securities:| | |\n",
            "|Unrealized gains (losses), net of tax of $1 and $(29)|(662)|95|\n",
            "|Reclassification adjustment for losses (gains) included in “Other income (expense), net,” net of tax of $0 and $(10)|6|33|\n",
            "|Net unrealized gains (losses) on available-for-sale debt securities|(656)|128|\n",
            "|Total other comprehensive income (loss)|(989)|514|\n",
            "|Comprehensive income (loss)|$ (4,833)|$ 3,686|\n"
          ]
        }
      ],
      "source": [
        "print(nodes_lp[8].text)"
      ]
    },
    {
      "cell_type": "markdown",
      "id": "96a354ad-2f1d-4424-9b0e-95c74892c172",
      "metadata": {
        "id": "96a354ad-2f1d-4424-9b0e-95c74892c172"
      },
      "source": [
        "# Embeddings and vector databases"
      ]
    },
    {
      "cell_type": "code",
      "execution_count": 4,
      "id": "2a71ebc1-3200-43bc-89e7-0b397ccdadaf",
      "metadata": {
        "colab": {
          "base_uri": "https://localhost:8080/"
        },
        "id": "2a71ebc1-3200-43bc-89e7-0b397ccdadaf",
        "outputId": "4a3c6ff9-ae1c-455d-e9fc-21ab60d64c57"
      },
      "outputs": [
        {
          "name": "stdout",
          "output_type": "stream",
          "text": [
            "··········\n"
          ]
        }
      ],
      "source": [
        "import qdrant_client\n",
        "os.environ[\"QDRANT_API_KEY\"] = getpass.getpass()"
      ]
    },
    {
      "cell_type": "code",
      "execution_count": 5,
      "id": "4163e80f-e878-4dbb-b56e-2c3a4eac52fe",
      "metadata": {
        "colab": {
          "base_uri": "https://localhost:8080/"
        },
        "id": "4163e80f-e878-4dbb-b56e-2c3a4eac52fe",
        "outputId": "17203380-4b7b-49c5-a644-290d3cafbd1c"
      },
      "outputs": [
        {
          "name": "stdout",
          "output_type": "stream",
          "text": [
            "··········\n"
          ]
        }
      ],
      "source": [
        "os.environ[\"QDRANT_URL\"] = getpass.getpass()"
      ]
    },
    {
      "cell_type": "code",
      "execution_count": 6,
      "id": "b1d2854a-1797-42a2-be40-adaa76a40076",
      "metadata": {
        "id": "b1d2854a-1797-42a2-be40-adaa76a40076"
      },
      "outputs": [],
      "source": [
        "from llama_index.llms.openai import OpenAI\n",
        "from llama_index.embeddings.openai import OpenAIEmbedding\n",
        "from llama_index.core import VectorStoreIndex\n",
        "from llama_index.core import Settings\n",
        "\n",
        "embed_model = OpenAIEmbedding(model=\"text-embedding-3-small\")\n",
        "llm = OpenAI(model=\"gpt-3.5-turbo-0125\")\n",
        "\n",
        "Settings.llm = llm\n",
        "Settings.embed_model = embed_model"
      ]
    },
    {
      "cell_type": "markdown",
      "id": "a499fee4-e535-4471-aa07-cddda0beedf2",
      "metadata": {
        "id": "a499fee4-e535-4471-aa07-cddda0beedf2"
      },
      "source": [
        "## Adding docs to qdrant doc store"
      ]
    },
    {
      "cell_type": "code",
      "execution_count": 8,
      "id": "39558ece-9954-43e6-9d1b-64648fb8e836",
      "metadata": {
        "id": "39558ece-9954-43e6-9d1b-64648fb8e836"
      },
      "outputs": [],
      "source": [
        "client = qdrant_client.QdrantClient(\n",
        "    # you can use :memory: mode for fast and light-weight experiments,\n",
        "    # it does not require to have Qdrant deployed anywhere\n",
        "    # but requires qdrant-client >= 1.1.1\n",
        "    # location=\":memory:\"\n",
        "    # otherwise set Qdrant instance address with:\n",
        "    url=os.environ[\"QDRANT_URL\"],\n",
        "    # otherwise set Qdrant instance with host and port:\n",
        "    # host=\"localhost\",\n",
        "    # port=6333\n",
        "    # set API KEY for Qdrant Cloud\n",
        "    api_key=os.environ[\"QDRANT_API_KEY\"],\n",
        "    # path=\"./db/\"\n",
        ")\n",
        "\n",
        "vector_store = QdrantVectorStore(client=client, collection_name=\"01_Basic_RAG\")"
      ]
    },
    {
      "cell_type": "code",
      "execution_count": null,
      "id": "52b41205-5b47-43a7-9626-96061a81b354",
      "metadata": {
        "id": "52b41205-5b47-43a7-9626-96061a81b354",
        "outputId": "3f81e048-27cb-4278-d4b6-bc08eabf644c"
      },
      "outputs": [
        {
          "data": {
            "text/plain": [
              "['72577668-c09a-4e8a-a26d-14e8c9230295',\n",
              " '85adb0a4-f74d-40d0-b2b7-ecfd362a1198',\n",
              " '985c14f4-a3a8-4de3-8b29-3a88c5b1ba7e',\n",
              " '2686627b-76c1-4465-af04-75574afb8742',\n",
              " 'dafca643-32a8-4021-b181-9a2a6dd0b0d5',\n",
              " '8294c379-2732-48c4-9fa4-a2ec649a77eb',\n",
              " '925d581e-a1dc-46e0-afca-614b3d4ec773',\n",
              " '21c56d67-956e-464b-a560-728b3cd8a5bc',\n",
              " '4773975b-2853-49ef-93b3-16298d1c846d',\n",
              " '5e69a5e9-2784-43b2-8731-62ad0e51bbfd',\n",
              " '62a3f80a-9eb7-41a7-9ed8-7d77df0b2260',\n",
              " 'a80f53e3-7884-413a-a0c3-cafafff89a75',\n",
              " 'a5f45c2b-7ccd-4c6b-afd7-882c835d72f8',\n",
              " '9985448a-0cc2-4f5c-b68d-53b4f2861c82',\n",
              " '4b6adec0-e6fe-4978-a093-7d1a5bcc7224']"
            ]
          },
          "execution_count": 22,
          "metadata": {},
          "output_type": "execute_result"
        }
      ],
      "source": [
        "for node in nodes:\n",
        "    node_embedding = embed_model.get_text_embedding(\n",
        "        node.get_content(metadata_mode=\"all\")\n",
        "    )\n",
        "    node.embedding = node_embedding\n",
        "vector_store.add(nodes)\n"
      ]
    },
    {
      "cell_type": "code",
      "execution_count": null,
      "id": "a923c8c5-7490-4f83-b07f-493e41566156",
      "metadata": {
        "id": "a923c8c5-7490-4f83-b07f-493e41566156"
      },
      "outputs": [],
      "source": [
        "from llama_index.core import VectorStoreIndex\n",
        "from llama_index.core import StorageContext"
      ]
    },
    {
      "cell_type": "code",
      "execution_count": 9,
      "id": "a5eb63cd-5c8a-46df-bde6-25e09f14c6a6",
      "metadata": {
        "id": "a5eb63cd-5c8a-46df-bde6-25e09f14c6a6"
      },
      "outputs": [],
      "source": [
        "vector_store = QdrantVectorStore(client=client, collection_name=\"01_Basic_RAG\")\n",
        "\n",
        "\n",
        "index = VectorStoreIndex.from_vector_store(vector_store)\n",
        "query_engine_1 = index.as_query_engine(similarity_top_k = 5)\n"
      ]
    },
    {
      "cell_type": "code",
      "execution_count": 10,
      "id": "0005d195-5d60-472f-ab13-e58f3ca1984b",
      "metadata": {
        "id": "0005d195-5d60-472f-ab13-e58f3ca1984b"
      },
      "outputs": [],
      "source": [
        "query = \"\"\"What was the Comprehensive income (loss) for Amazon for the Three Months Ended March 31, 2022?\"\"\"\n",
        "response = query_engine_1.query(query)"
      ]
    },
    {
      "cell_type": "code",
      "execution_count": 11,
      "id": "db1acb52-8b80-4023-af72-37506f112d70",
      "metadata": {
        "colab": {
          "base_uri": "https://localhost:8080/",
          "height": 36
        },
        "id": "db1acb52-8b80-4023-af72-37506f112d70",
        "outputId": "b1ad18af-7e08-4669-d79a-29980ddceac9"
      },
      "outputs": [
        {
          "output_type": "execute_result",
          "data": {
            "text/plain": [
              "'The Comprehensive income (loss) for Amazon for the Three Months Ended March 31, 2022, was $(4,833) million.'"
            ],
            "application/vnd.google.colaboratory.intrinsic+json": {
              "type": "string"
            }
          },
          "metadata": {},
          "execution_count": 11
        }
      ],
      "source": [
        "str(response)"
      ]
    },
    {
      "cell_type": "code",
      "execution_count": 12,
      "id": "b10ac901-496e-4197-86ce-026cbde32969",
      "metadata": {
        "colab": {
          "base_uri": "https://localhost:8080/"
        },
        "id": "b10ac901-496e-4197-86ce-026cbde32969",
        "outputId": "621d3999-9845-4000-c623-670fadc09c5f"
      },
      "outputs": [
        {
          "output_type": "stream",
          "name": "stdout",
          "text": [
            "AMAZON.COM, INC.\n",
            "Consolidated Statements of Comprehensive Income (Loss)\n",
            "(in millions)\n",
            "(unaudited)\n",
            "  \n",
            "Three Months Ended\n",
            "March 31,\n",
            " \n",
            "2022\n",
            "2023\n",
            "Net income (loss)\n",
            "$ \n",
            "(3,844) $ \n",
            "3,172 \n",
            "Other comprehensive income (loss):\n",
            "Foreign currency translation adjustments, net of tax of $(16) and $(10)\n",
            " \n",
            "(333)  \n",
            "386 \n",
            "Net change in unrealized gains (losses) on available-for-sale debt securities:\n",
            "Unrealized gains (losses), net of tax of $1 and $(29)\n",
            " \n",
            "(662)  \n",
            "95 \n",
            "Reclassification adjustment for losses (gains) included in “Other income (expense), \n",
            "net,” net of tax of $0 and $(10)\n",
            " \n",
            "6  \n",
            "33 \n",
            "Net unrealized gains (losses) on available-for-sale debt securities\n",
            " \n",
            "(656)  \n",
            "128 \n",
            "Total other comprehensive income (loss)\n",
            " \n",
            "(989)  \n",
            "514 \n",
            "Comprehensive income (loss)\n",
            "$ \n",
            "(4,833) $ \n",
            "3,686\n"
          ]
        }
      ],
      "source": [
        "print(response.source_nodes[0].text)"
      ]
    },
    {
      "cell_type": "markdown",
      "id": "6472de25-59a9-4be3-931a-18d7c3ee1689",
      "metadata": {
        "id": "6472de25-59a9-4be3-931a-18d7c3ee1689"
      },
      "source": [
        "## Adding llamaparse extracted docs to qdrant vector store"
      ]
    },
    {
      "cell_type": "code",
      "execution_count": null,
      "id": "3f87843f-d463-485d-afad-9f155850a645",
      "metadata": {
        "id": "3f87843f-d463-485d-afad-9f155850a645"
      },
      "outputs": [],
      "source": [
        "vector_store_lp = QdrantVectorStore(client=client, collection_name=\"02_Basic_RAG_lp\")"
      ]
    },
    {
      "cell_type": "code",
      "execution_count": null,
      "id": "c485d3e2-c3b3-4cd8-84bb-0c67e938e969",
      "metadata": {
        "id": "c485d3e2-c3b3-4cd8-84bb-0c67e938e969",
        "outputId": "fbf26ae0-672f-4eb8-e5f2-cad4a254d50e"
      },
      "outputs": [
        {
          "data": {
            "text/plain": [
              "['761df793-b132-4c5b-b4d1-8ac613c41822',\n",
              " '99627c25-1c97-40c4-8f0b-34ec30b9768e',\n",
              " '94395e16-f46e-4d78-9869-c1b5bfc0d61a',\n",
              " '49187c66-6df9-4460-ba24-91e493793cc2',\n",
              " 'b02c8a98-fe87-4d9c-b085-25f99ff05c1c',\n",
              " 'deb79c2b-b02d-49ba-a8d3-f7c5e8140d49',\n",
              " '538ad7de-e9c4-45aa-96af-b5f42f4560be',\n",
              " '1ffe7812-5a71-474d-a753-4d1c34ca7d5c',\n",
              " '480512a2-5af9-4e30-8fea-fe40a751c6d2',\n",
              " '9196a8e5-cb5b-4aa9-9441-992271ad6b8d',\n",
              " '574b4d94-7e51-42ec-98c2-61993508dd41',\n",
              " 'cf98e131-ab44-4737-8383-529a56e40885',\n",
              " '73c3dfe2-1ec6-4e4f-8956-887baf6e238d',\n",
              " '676af2e2-b8c0-4bae-b149-837f44d03943',\n",
              " '84b86136-fa35-4fe6-ba92-a3f54e2275aa']"
            ]
          },
          "execution_count": 87,
          "metadata": {},
          "output_type": "execute_result"
        }
      ],
      "source": [
        "for node in nodes_lp:\n",
        "    node_embedding = embed_model.get_text_embedding(\n",
        "        node.get_content(metadata_mode=\"all\")\n",
        "    )\n",
        "    node.embedding = node_embedding\n",
        "vector_store_lp.add(nodes_lp)\n"
      ]
    },
    {
      "cell_type": "code",
      "execution_count": 13,
      "id": "90347920-2a9f-4a2b-a9ca-8d45ab224d31",
      "metadata": {
        "id": "90347920-2a9f-4a2b-a9ca-8d45ab224d31"
      },
      "outputs": [],
      "source": [
        "vector_store_lp = QdrantVectorStore(client=client, collection_name=\"02_Basic_RAG_lp\")\n",
        "\n",
        "index = VectorStoreIndex.from_vector_store(vector_store_lp)\n",
        "query_engine_2 = index.as_query_engine(similarity_top_k = 5)\n"
      ]
    },
    {
      "cell_type": "code",
      "execution_count": 14,
      "id": "0a42cbdc-c500-41f5-9403-baa04ea69cb6",
      "metadata": {
        "id": "0a42cbdc-c500-41f5-9403-baa04ea69cb6"
      },
      "outputs": [],
      "source": [
        "query = \"\"\"What was the Comprehensive income (loss) for Amazon for the Three Months Ended March 31, 2022?\"\"\"\n",
        "response = query_engine_2.query(query)"
      ]
    },
    {
      "cell_type": "code",
      "execution_count": 15,
      "id": "c35e22a0-6bc7-4104-b7f8-8bcde15aff5d",
      "metadata": {
        "colab": {
          "base_uri": "https://localhost:8080/",
          "height": 36
        },
        "id": "c35e22a0-6bc7-4104-b7f8-8bcde15aff5d",
        "outputId": "ad11f394-f837-4a83-efd1-3d2379fae346"
      },
      "outputs": [
        {
          "output_type": "execute_result",
          "data": {
            "text/plain": [
              "'The Comprehensive income (loss) for Amazon for the Three Months Ended March 31, 2022, was $ (4,833) million.'"
            ],
            "application/vnd.google.colaboratory.intrinsic+json": {
              "type": "string"
            }
          },
          "metadata": {},
          "execution_count": 15
        }
      ],
      "source": [
        "str(response)"
      ]
    },
    {
      "cell_type": "code",
      "execution_count": 16,
      "id": "482e7848-af44-4b86-a3cd-9b4ce83c9274",
      "metadata": {
        "colab": {
          "base_uri": "https://localhost:8080/"
        },
        "id": "482e7848-af44-4b86-a3cd-9b4ce83c9274",
        "outputId": "f56220d6-2e34-495d-aa42-f3aae5a0550c"
      },
      "outputs": [
        {
          "output_type": "stream",
          "name": "stdout",
          "text": [
            "# AMAZON.COM, INC.\n",
            "\n",
            "| |Consolidated Statements of Comprehensive Income (Loss)| |\n",
            "|---|---|---|\n",
            "| |(in millions)| |\n",
            "| |(unaudited)| |\n",
            "| |Three Months Ended| |\n",
            "| |March 31,| |\n",
            "| |2022|2023|\n",
            "|Net income (loss)|$ (3,844)|$ 3,172|\n",
            "|Other comprehensive income (loss):| | |\n",
            "|Foreign currency translation adjustments, net of tax of $(16) and $(10)|(333)|386|\n",
            "|Net change in unrealized gains (losses) on available-for-sale debt securities:| | |\n",
            "|Unrealized gains (losses), net of tax of $1 and $(29)|(662)|95|\n",
            "|Reclassification adjustment for losses (gains) included in “Other income (expense), net,” net of tax of $0 and $(10)|6|33|\n",
            "|Net unrealized gains (losses) on available-for-sale debt securities|(656)|128|\n",
            "|Total other comprehensive income (loss)|(989)|514|\n",
            "|Comprehensive income (loss)|$ (4,833)|$ 3,686|\n"
          ]
        }
      ],
      "source": [
        "print(response.source_nodes[0].text)"
      ]
    },
    {
      "cell_type": "markdown",
      "id": "62adfb12-0231-4ad9-aebc-f7f52829b613",
      "metadata": {
        "id": "62adfb12-0231-4ad9-aebc-f7f52829b613"
      },
      "source": [
        "# Re-ranking"
      ]
    },
    {
      "cell_type": "code",
      "execution_count": 17,
      "id": "21bd6e36-180f-4da9-aa0f-030cea230a0c",
      "metadata": {
        "id": "21bd6e36-180f-4da9-aa0f-030cea230a0c"
      },
      "outputs": [],
      "source": [
        "from llama_index.core.postprocessor import LLMRerank\n",
        "vector_store = QdrantVectorStore(client=client, collection_name=\"01_Basic_RAG\")\n",
        "\n",
        "\n",
        "index = VectorStoreIndex.from_vector_store(vector_store)"
      ]
    },
    {
      "cell_type": "code",
      "execution_count": 18,
      "id": "6a119fbc-2748-4952-8b86-f52d6e32a17c",
      "metadata": {
        "id": "6a119fbc-2748-4952-8b86-f52d6e32a17c"
      },
      "outputs": [],
      "source": [
        "query_engine_3 = index.as_query_engine(\n",
        "    similarity_top_k=5,\n",
        "    node_postprocessors=[\n",
        "        LLMRerank(\n",
        "            choice_batch_size=15,\n",
        "            top_n=3,\n",
        "        )\n",
        "    ],\n",
        ")"
      ]
    },
    {
      "cell_type": "code",
      "execution_count": 19,
      "id": "3256526d-6444-4059-8d33-cd58dace70d4",
      "metadata": {
        "id": "3256526d-6444-4059-8d33-cd58dace70d4"
      },
      "outputs": [],
      "source": [
        "response = query_engine_3.query(\n",
        "    \"What was the Comprehensive income (loss) for Amazon for the Three Months Ended March 31, 2022?\",\n",
        ")"
      ]
    },
    {
      "cell_type": "code",
      "execution_count": 20,
      "id": "a2923edf-6e2c-4013-99c4-f4f93724b233",
      "metadata": {
        "colab": {
          "base_uri": "https://localhost:8080/",
          "height": 36
        },
        "id": "a2923edf-6e2c-4013-99c4-f4f93724b233",
        "outputId": "e3775c4d-11f3-407c-ded5-6e96f2ec69a1"
      },
      "outputs": [
        {
          "output_type": "execute_result",
          "data": {
            "text/plain": [
              "'The Comprehensive income (loss) for Amazon for the Three Months Ended March 31, 2022, was $(4,833) million.'"
            ],
            "application/vnd.google.colaboratory.intrinsic+json": {
              "type": "string"
            }
          },
          "metadata": {},
          "execution_count": 20
        }
      ],
      "source": [
        "str(response)"
      ]
    },
    {
      "cell_type": "code",
      "execution_count": 21,
      "id": "90475267-1384-4ddc-9b77-fe3dd8852944",
      "metadata": {
        "colab": {
          "base_uri": "https://localhost:8080/"
        },
        "id": "90475267-1384-4ddc-9b77-fe3dd8852944",
        "outputId": "5feb18b4-1b07-41c2-983b-eb9de074bc65"
      },
      "outputs": [
        {
          "output_type": "stream",
          "name": "stdout",
          "text": [
            "AMAZON.COM, INC.\n",
            "Consolidated Statements of Comprehensive Income (Loss)\n",
            "(in millions)\n",
            "(unaudited)\n",
            "  \n",
            "Three Months Ended\n",
            "March 31,\n",
            " \n",
            "2022\n",
            "2023\n",
            "Net income (loss)\n",
            "$ \n",
            "(3,844) $ \n",
            "3,172 \n",
            "Other comprehensive income (loss):\n",
            "Foreign currency translation adjustments, net of tax of $(16) and $(10)\n",
            " \n",
            "(333)  \n",
            "386 \n",
            "Net change in unrealized gains (losses) on available-for-sale debt securities:\n",
            "Unrealized gains (losses), net of tax of $1 and $(29)\n",
            " \n",
            "(662)  \n",
            "95 \n",
            "Reclassification adjustment for losses (gains) included in “Other income (expense), \n",
            "net,” net of tax of $0 and $(10)\n",
            " \n",
            "6  \n",
            "33 \n",
            "Net unrealized gains (losses) on available-for-sale debt securities\n",
            " \n",
            "(656)  \n",
            "128 \n",
            "Total other comprehensive income (loss)\n",
            " \n",
            "(989)  \n",
            "514 \n",
            "Comprehensive income (loss)\n",
            "$ \n",
            "(4,833) $ \n",
            "3,686\n"
          ]
        }
      ],
      "source": [
        "print(response.source_nodes[0].text)"
      ]
    },
    {
      "cell_type": "markdown",
      "id": "04528cd5-19a0-490f-9870-50be9a5d08b6",
      "metadata": {
        "id": "04528cd5-19a0-490f-9870-50be9a5d08b6"
      },
      "source": [
        "# Hybrid Search"
      ]
    },
    {
      "cell_type": "code",
      "execution_count": 22,
      "id": "cd37e0e0-10c3-4dc6-8a60-dd7420ebbfc1",
      "metadata": {
        "colab": {
          "base_uri": "https://localhost:8080/",
          "height": 434,
          "referenced_widgets": [
            "de29cf0d79744fc8a7b4e93402da3b88",
            "2dc6a5ca1d8148908d1be0b2aa4d32e3",
            "1d529973d0d04c8191a7d250231edf4b",
            "e547834e9e4540fa8c71f5980fa1d817",
            "ece1c3caf127434c880c475e174a5604",
            "651a15d9af79461bafa405caa7d90f77",
            "2a6d7eb56639492c8c9105892c2a6001",
            "c21c822b71d24d1295f8300babe2c6fb",
            "2758c9513efd4efa929c6a29e64537f0",
            "e5d85f1f906b4842b732e30d6aab755a",
            "26e841099534410b9446b75ff609a7de",
            "99d9811083154da2ad3f9b7c82223bcc",
            "7194d1bd237b49dc93315dc9b47b9682",
            "9d1ce6c3355d4fa589a75bffb16b47ff",
            "43bfac5b427f431e8eb96592d24e174e",
            "044719ee811645fe8991c72d5880340c",
            "fa9e5b5b03744daea1340961f1d5bb75",
            "22b7e5a7885941298d806ab3ffcbb5a9",
            "06105f5647a5491286d33c8e2030bacc",
            "429b91b0bbc14b1fb3a6dd935ea04cfa",
            "a8625fc35b994912ab68e3dc2b6d3e56",
            "08e54a834fbe4bf8a544b210c224da7f",
            "f1656b9a973b4b9ea606b299e4e7c9ff",
            "1643f840b7334edb9bbb2b0942c919a1",
            "fc85b1f4abf2404e87cf1aaaebda74d4",
            "e05f900bd3794561a588e2fa5520d67f",
            "7fbbee24fb5e429d8322cd3c595e71ec",
            "96e6a53da70249e8929103c9f274b738",
            "93ffb13da5a147ea9b97f6eb528321e3",
            "9aa3cc82ff254ce9b5fb728ae599fc06",
            "df87756a22084649a5e49e3a4be0559c",
            "4366a9abd68c491c96d0c372d8df54be",
            "024acce66f3442449422ee31a179d7fe",
            "bda9cfb0064c4b08849eb6befcf2a072",
            "7013ae63560c4e6ea4b927a1af0de48a",
            "bed48b4a353e4f25a346c4420433459f",
            "8af56e3fe6a8403aa4807b0366431b33",
            "9a32bc3140fa4d768a432a85f6bf2abd",
            "2630407a26de42838174e63b18c92a00",
            "c82b0e39757b4339932bbd9dc51b4a20",
            "101eeb9ea79e4166b06ab2ff2510d06c",
            "61d7b6bdad53407aa990178e96ab816e",
            "a5f0688f41f34befb7e82b6131ef8f81",
            "e1ac7f4492554351926a1e7e02987e1a",
            "f3044cf4bb4a418ab1b236e534ef7469",
            "c198f9e9742e48e49ee8f3feace668f4",
            "96f8562fffcd4d88a78972290b96a5e2",
            "2d3805fb9e214669b9d1253052f588b7",
            "e41a0871949540d09bdcbc5e10e2bdc8",
            "ab40bdec8b4b445196f9e3d2ceb71e94",
            "4e29fd23e51049c69be5744f908a118e",
            "9f0353c38ae544a18177fc7586f37ced",
            "5aede8e6f60f4801a608b037a5559983",
            "0cd12812ab6b4a2e96c935ec3da672a8",
            "f6ae93a56cf14831bb4e2af8c9ab713d",
            "2876fb8aeeda4f4c8d65762e73410ca6",
            "3f2724f1d8844011891e4079dc6c4483",
            "eee17f088fbc4a67b1c5dc24bc479ef2",
            "060d45fea78a4840966b7b19b64709c4",
            "55e279a533534634b12277a555c6f20d",
            "f012124093d748fca64bfe9bc2b80811",
            "4e8f1f6e247348f5b2d5607a335825f9",
            "f049a6db11d345c6a210c7eccbab6e90",
            "26461ffb2265480cbe0a04f91df83302",
            "0afc562e66984108a310c40ba36027e0",
            "1dd06232771045b7965416c4a27f1c8c",
            "6188d9e327b64424931bd92464f2faec",
            "f7d007d531b9439aa4c08b83a667e8ec",
            "401e561b58ee469db8e1cfcf450e5d8a",
            "dc38cba2f601479eaa9c11b9e888201b",
            "70db45f0d7fc4312b15c08330fb10120",
            "b84bd879adfa4a07b8d264118da30036",
            "5661c90269064be5b29e59ff8fd6dad8",
            "3ccab60a50a1464ba78a63ccdeb5c920",
            "9261a409ccbe4f0da3440260a38f514f",
            "059f55fd8cae4e08b312d54ed5294dc5",
            "310e232c86384a2298adc3a54f48c4da",
            "cee7644b23424c25b8a8285f5e8aeb28",
            "641b9cb9345148ef9e5a779023ce5c30",
            "3814909495dc4b5f88cf0ffc48ea622e",
            "6710dde681b44a5ea0d28d3af9aa245b",
            "426e37d651c042d594923c5f8dd0be7c",
            "d3df75e94af44985a11f90786d985dd5",
            "c2ea18a12b19466f8f675ed262fb993f",
            "111c90bc135443cb8a85328c5dac4b99",
            "8de27f551b184ae48d77882f0f04ab2f",
            "45266ae5000d4e13bd5017b1ce16b924",
            "f31ee0d4a19249f3a6962698918e130e",
            "7d9d5e2f93dc41e7b21312986b75a12d",
            "f224d87a3c754ab09b3337307a968b84",
            "fe7a857047f944a2ba81bc2fb9703b94",
            "3031b253e09149b69a96f6e6c6618586",
            "3744143625b3427e8e5e7c646d3da423",
            "f56a161e3a8945c6ad89c313cbb87762",
            "24332430712b497987fc5a3ffb99f72c",
            "341ae2fa1125432dadd6ef130a99a9fa",
            "3b963401dbb84ce09c91c9ffa1429d0a",
            "c6f3495378bf4188a6f91d8ff8481ff6",
            "44c8c11c3e434f1590de13bb9afae967"
          ]
        },
        "id": "cd37e0e0-10c3-4dc6-8a60-dd7420ebbfc1",
        "outputId": "9ebbf5c3-5b21-44de-8969-f9dff0ac0d98"
      },
      "outputs": [
        {
          "output_type": "stream",
          "name": "stderr",
          "text": [
            "/usr/local/lib/python3.10/dist-packages/huggingface_hub/utils/_token.py:89: UserWarning: \n",
            "The secret `HF_TOKEN` does not exist in your Colab secrets.\n",
            "To authenticate with the Hugging Face Hub, create a token in your settings tab (https://huggingface.co/settings/tokens), set it as secret in your Google Colab and restart your session.\n",
            "You will be able to reuse this secret in all of your notebooks.\n",
            "Please note that authentication is recommended but still optional to access public models or datasets.\n",
            "  warnings.warn(\n"
          ]
        },
        {
          "output_type": "display_data",
          "data": {
            "text/plain": [
              "Fetching 5 files:   0%|          | 0/5 [00:00<?, ?it/s]"
            ],
            "application/vnd.jupyter.widget-view+json": {
              "version_major": 2,
              "version_minor": 0,
              "model_id": "de29cf0d79744fc8a7b4e93402da3b88"
            }
          },
          "metadata": {}
        },
        {
          "output_type": "display_data",
          "data": {
            "text/plain": [
              "config.json:   0%|          | 0.00/755 [00:00<?, ?B/s]"
            ],
            "application/vnd.jupyter.widget-view+json": {
              "version_major": 2,
              "version_minor": 0,
              "model_id": "99d9811083154da2ad3f9b7c82223bcc"
            }
          },
          "metadata": {}
        },
        {
          "output_type": "display_data",
          "data": {
            "text/plain": [
              "tokenizer_config.json:   0%|          | 0.00/1.38k [00:00<?, ?B/s]"
            ],
            "application/vnd.jupyter.widget-view+json": {
              "version_major": 2,
              "version_minor": 0,
              "model_id": "f1656b9a973b4b9ea606b299e4e7c9ff"
            }
          },
          "metadata": {}
        },
        {
          "output_type": "display_data",
          "data": {
            "text/plain": [
              "special_tokens_map.json:   0%|          | 0.00/695 [00:00<?, ?B/s]"
            ],
            "application/vnd.jupyter.widget-view+json": {
              "version_major": 2,
              "version_minor": 0,
              "model_id": "bda9cfb0064c4b08849eb6befcf2a072"
            }
          },
          "metadata": {}
        },
        {
          "output_type": "display_data",
          "data": {
            "text/plain": [
              "tokenizer.json:   0%|          | 0.00/712k [00:00<?, ?B/s]"
            ],
            "application/vnd.jupyter.widget-view+json": {
              "version_major": 2,
              "version_minor": 0,
              "model_id": "f3044cf4bb4a418ab1b236e534ef7469"
            }
          },
          "metadata": {}
        },
        {
          "output_type": "display_data",
          "data": {
            "text/plain": [
              "model.onnx:   0%|          | 0.00/532M [00:00<?, ?B/s]"
            ],
            "application/vnd.jupyter.widget-view+json": {
              "version_major": 2,
              "version_minor": 0,
              "model_id": "2876fb8aeeda4f4c8d65762e73410ca6"
            }
          },
          "metadata": {}
        },
        {
          "output_type": "display_data",
          "data": {
            "text/plain": [
              "Fetching 5 files:   0%|          | 0/5 [00:00<?, ?it/s]"
            ],
            "application/vnd.jupyter.widget-view+json": {
              "version_major": 2,
              "version_minor": 0,
              "model_id": "6188d9e327b64424931bd92464f2faec"
            }
          },
          "metadata": {}
        },
        {
          "output_type": "display_data",
          "data": {
            "text/plain": [
              "Fetching 5 files:   0%|          | 0/5 [00:00<?, ?it/s]"
            ],
            "application/vnd.jupyter.widget-view+json": {
              "version_major": 2,
              "version_minor": 0,
              "model_id": "cee7644b23424c25b8a8285f5e8aeb28"
            }
          },
          "metadata": {}
        },
        {
          "output_type": "display_data",
          "data": {
            "text/plain": [
              "Fetching 5 files:   0%|          | 0/5 [00:00<?, ?it/s]"
            ],
            "application/vnd.jupyter.widget-view+json": {
              "version_major": 2,
              "version_minor": 0,
              "model_id": "7d9d5e2f93dc41e7b21312986b75a12d"
            }
          },
          "metadata": {}
        }
      ],
      "source": [
        "vector_store = QdrantVectorStore(client=client, collection_name=\"04_Hybrid_search_1\",enable_hybrid=True)"
      ]
    },
    {
      "cell_type": "code",
      "execution_count": null,
      "id": "1685abaf-33bc-424d-b24d-08071501ad85",
      "metadata": {
        "id": "1685abaf-33bc-424d-b24d-08071501ad85",
        "outputId": "661ee47d-d1cd-43ec-f4b9-b09e4797f090"
      },
      "outputs": [
        {
          "data": {
            "text/plain": [
              "['72577668-c09a-4e8a-a26d-14e8c9230295',\n",
              " '85adb0a4-f74d-40d0-b2b7-ecfd362a1198',\n",
              " '985c14f4-a3a8-4de3-8b29-3a88c5b1ba7e',\n",
              " '2686627b-76c1-4465-af04-75574afb8742',\n",
              " 'dafca643-32a8-4021-b181-9a2a6dd0b0d5',\n",
              " '8294c379-2732-48c4-9fa4-a2ec649a77eb',\n",
              " '925d581e-a1dc-46e0-afca-614b3d4ec773',\n",
              " '21c56d67-956e-464b-a560-728b3cd8a5bc',\n",
              " '4773975b-2853-49ef-93b3-16298d1c846d',\n",
              " '5e69a5e9-2784-43b2-8731-62ad0e51bbfd',\n",
              " '62a3f80a-9eb7-41a7-9ed8-7d77df0b2260',\n",
              " 'a80f53e3-7884-413a-a0c3-cafafff89a75',\n",
              " 'a5f45c2b-7ccd-4c6b-afd7-882c835d72f8',\n",
              " '9985448a-0cc2-4f5c-b68d-53b4f2861c82',\n",
              " '4b6adec0-e6fe-4978-a093-7d1a5bcc7224']"
            ]
          },
          "execution_count": 209,
          "metadata": {},
          "output_type": "execute_result"
        }
      ],
      "source": [
        "vector_store.add(nodes)\n"
      ]
    },
    {
      "cell_type": "code",
      "execution_count": 23,
      "id": "4d074aff-3159-46d3-93c1-924a830fefea",
      "metadata": {
        "colab": {
          "base_uri": "https://localhost:8080/",
          "height": 164,
          "referenced_widgets": [
            "10516d9b2fdc4be38cd4b7d76723d55c",
            "d807279c2ca744ef905d9eb81b335766",
            "065ff599be69496bbf1671da0c62b7b4",
            "88aeaff09e444eb7a7d62c8e39f507b2",
            "f478456713c84cc094d8f26ab8e1844d",
            "83921ea6de0941ceb2063393c2623d45",
            "0125d303f4f047b6b3635fcb72349c47",
            "fea0245abc654bb386548e04f5f9aa86",
            "d1cc65c1e84a45b0a448e9e09db2ae54",
            "60d2857a8b0f48a39c631a969dd78cc2",
            "26e5fc27f1f84b0089cf6fc92d8c49ee",
            "f200555a7d1a4273951eab64bc4e8450",
            "4007240e4533477b91e208c73e8f62fd",
            "6c1559ed8c384772914bc31b03e4042a",
            "de521e16e4d647b58d581e8b8480971d",
            "df642d900a2b4143ad0b01fee287cfef",
            "79656e5ebbb940889b49256dc64eb1eb",
            "5a87f9abd0d4430ebd51e39febaf52a2",
            "923ff11e7d984b3b9ecc1836f46d47d7",
            "48d77cbfcf064b86a1ddbfb38792add0",
            "a0b23b8cfe624a8e84fdbb00a5206072",
            "abf992b632d04d8883cd98c1f1e408b3",
            "f7db5676ab964e91a4478b0ec13869a5",
            "439cc1ae91b84f4080a77a2a7b5201c8",
            "7cd683e1cb964782855aaf6ca802ec97",
            "5d308664b5744dadbe142f32d7ea6e80",
            "606df4dae0b54e689047a8717be86128",
            "9e302f812eca4cc9bdcb4b9f70ad6987",
            "c7920ed6f4854744900d4bb54cab5523",
            "db22de84d4ce441ab7ac26d9860a1ff9",
            "9de561d8b061496b8334017bbf7da692",
            "daa34833576049c9ab28aed7cab23fb1",
            "0d3d82bae9904c64a4d7c22379baee53",
            "3c39fd96b98f4433be71ac210bf2909c",
            "57f6e71c6df145418ffb3e43b12a7d89",
            "71d6ce86facb4363bcf22e4a682e5d29",
            "c0af27c2cbdf401c9e1d9c5bed4f0141",
            "74755e51af8d4f639b4cc5dca665f4d8",
            "1f1c4fe55cd24469aadd55452c4b3302",
            "7a5daf87409641b794ffdb865037e3d0",
            "fbbdce1b27ea4bc49327f348bba86a30",
            "97fbc97d7fcb4959bce0ef8965f610d2",
            "8745d4dbac2f4203bbcd1678eb478f50",
            "a20a2af6aae7421db667d56d2fd03ff5"
          ]
        },
        "id": "4d074aff-3159-46d3-93c1-924a830fefea",
        "outputId": "c1fad788-ee52-4116-9441-08f3641b0284"
      },
      "outputs": [
        {
          "output_type": "display_data",
          "data": {
            "text/plain": [
              "Fetching 5 files:   0%|          | 0/5 [00:00<?, ?it/s]"
            ],
            "application/vnd.jupyter.widget-view+json": {
              "version_major": 2,
              "version_minor": 0,
              "model_id": "10516d9b2fdc4be38cd4b7d76723d55c"
            }
          },
          "metadata": {}
        },
        {
          "output_type": "display_data",
          "data": {
            "text/plain": [
              "Fetching 5 files:   0%|          | 0/5 [00:00<?, ?it/s]"
            ],
            "application/vnd.jupyter.widget-view+json": {
              "version_major": 2,
              "version_minor": 0,
              "model_id": "f200555a7d1a4273951eab64bc4e8450"
            }
          },
          "metadata": {}
        },
        {
          "output_type": "display_data",
          "data": {
            "text/plain": [
              "Fetching 5 files:   0%|          | 0/5 [00:00<?, ?it/s]"
            ],
            "application/vnd.jupyter.widget-view+json": {
              "version_major": 2,
              "version_minor": 0,
              "model_id": "f7db5676ab964e91a4478b0ec13869a5"
            }
          },
          "metadata": {}
        },
        {
          "output_type": "display_data",
          "data": {
            "text/plain": [
              "Fetching 5 files:   0%|          | 0/5 [00:00<?, ?it/s]"
            ],
            "application/vnd.jupyter.widget-view+json": {
              "version_major": 2,
              "version_minor": 0,
              "model_id": "3c39fd96b98f4433be71ac210bf2909c"
            }
          },
          "metadata": {}
        },
        {
          "output_type": "execute_result",
          "data": {
            "text/plain": [
              "'The Comprehensive income (loss) for Amazon for the Three Months Ended March 31, 2022, was $(4,833) million.'"
            ],
            "application/vnd.google.colaboratory.intrinsic+json": {
              "type": "string"
            }
          },
          "metadata": {},
          "execution_count": 23
        }
      ],
      "source": [
        "vector_store = QdrantVectorStore(client=client, collection_name=\"04_Hybrid_search_1\",enable_hybrid=True)\n",
        "\n",
        "index = VectorStoreIndex.from_vector_store(vector_store)\n",
        "query_engine_4 = index.as_query_engine(similarity_top_k = 5, vector_store_query_mode=\"hybrid\")\n",
        "query = \"\"\"What was the Comprehensive income (loss) for Amazon for the Three Months Ended March 31, 2022?\"\"\"\n",
        "response = query_engine_4.query(query)\n",
        "str(response)"
      ]
    },
    {
      "cell_type": "markdown",
      "id": "967b4488-b447-48d2-beb0-91c88565e038",
      "metadata": {
        "id": "967b4488-b447-48d2-beb0-91c88565e038"
      },
      "source": [
        "# Evaluation"
      ]
    },
    {
      "cell_type": "code",
      "execution_count": null,
      "id": "12b6f58b-2523-42eb-b074-22cccda9c467",
      "metadata": {
        "id": "12b6f58b-2523-42eb-b074-22cccda9c467"
      },
      "outputs": [],
      "source": [
        "import json"
      ]
    },
    {
      "cell_type": "markdown",
      "id": "79916163-69ea-4e31-9f94-f6dede4dec2b",
      "metadata": {
        "id": "79916163-69ea-4e31-9f94-f6dede4dec2b"
      },
      "source": [
        "## ground truth evals"
      ]
    },
    {
      "cell_type": "code",
      "execution_count": null,
      "id": "3995bb94-e156-4a3b-94f0-e57ceb8150cf",
      "metadata": {
        "id": "3995bb94-e156-4a3b-94f0-e57ceb8150cf"
      },
      "outputs": [],
      "source": [
        "#evals = json.load(\"gt-aws-q1-2023.json\")\n",
        "f = open(\"gt-aws-q1-2023.json\")\n",
        "\n",
        "# returns JSON object as\n",
        "# a dictionary\n",
        "data_eval = json.load(f)\n"
      ]
    },
    {
      "cell_type": "code",
      "execution_count": null,
      "id": "add09ba5-b9ee-437f-a9f1-072e062daedd",
      "metadata": {
        "id": "add09ba5-b9ee-437f-a9f1-072e062daedd",
        "outputId": "f59b45cb-f86f-4725-d1fb-2758fff96e41"
      },
      "outputs": [
        {
          "data": {
            "text/plain": [
              "57"
            ]
          },
          "execution_count": 42,
          "metadata": {},
          "output_type": "execute_result"
        }
      ],
      "source": [
        "len(data_eval)"
      ]
    },
    {
      "cell_type": "code",
      "execution_count": null,
      "id": "61d73310-b75e-4cd8-b006-f951e6971146",
      "metadata": {
        "id": "61d73310-b75e-4cd8-b006-f951e6971146"
      },
      "outputs": [],
      "source": [
        "from llama_index.core.llms import ChatMessage, MessageRole\n",
        "from llama_index.core import ChatPromptTemplate, PromptTemplate\n",
        "from typing import Dict"
      ]
    },
    {
      "cell_type": "code",
      "execution_count": null,
      "id": "425ea177-235d-47e5-a8b6-a46ffd41671c",
      "metadata": {
        "id": "425ea177-235d-47e5-a8b6-a46ffd41671c"
      },
      "outputs": [],
      "source": [
        "CORRECTNESS_SYS_TMPL = \"\"\"\n",
        "You are an expert evaluation system for a financial document q&a tool.\n",
        "\n",
        "You are given the following information:\n",
        "- a user query,\n",
        "- a reference answer, and\n",
        "- a generated answer.\n",
        "\n",
        "Your job is to judge the correctness of the generated answer.\n",
        "Output a score that represents if the answer is correct (1) or wrong (0).\n",
        "\n",
        "If the generated answer is basically the same (e.g. if the reference answer is 54,330 million whereas the generated answer is 54 billion,\n",
        "give a score of 1. Only give 0 if the answer is completely wrong.)\n",
        "\n",
        "But if the answer is completely wrong (e.g. reference answer is 21 million, but generated answer is 54 billion, give 0.)\n",
        "\n",
        "You must return your response in a line with only the score.\n",
        "Do not return answers in any other format.\n",
        "On a separate line provide your reasoning for the score as well.\n",
        "\n",
        "\"\"\"\n",
        "\n",
        "CORRECTNESS_USER_TMPL = \"\"\"\n",
        "## User Query\n",
        "{query}\n",
        "\n",
        "## Reference Answer\n",
        "{reference_answer}\n",
        "\n",
        "## Generated Answer\n",
        "{generated_answer}\n",
        "\"\"\""
      ]
    },
    {
      "cell_type": "code",
      "execution_count": null,
      "id": "3235138d-1d84-4923-ab26-f81bb49861bd",
      "metadata": {
        "id": "3235138d-1d84-4923-ab26-f81bb49861bd"
      },
      "outputs": [],
      "source": [
        "from llama_index.llms.openai import OpenAI\n",
        "\n",
        "llm = OpenAI(model=\"gpt-4\")\n",
        "eval_chat_template = ChatPromptTemplate(\n",
        "    message_templates=[\n",
        "        ChatMessage(role=MessageRole.SYSTEM, content=CORRECTNESS_SYS_TMPL),\n",
        "        ChatMessage(role=MessageRole.USER, content=CORRECTNESS_USER_TMPL),\n",
        "    ]\n",
        ")"
      ]
    },
    {
      "cell_type": "code",
      "execution_count": null,
      "id": "de27adc8-ebc9-47b2-8e31-ab9df67392d1",
      "metadata": {
        "id": "de27adc8-ebc9-47b2-8e31-ab9df67392d1"
      },
      "outputs": [],
      "source": [
        "def run_correctness_eval(\n",
        "    query_str: str,\n",
        "    reference_answer: str,\n",
        "    generated_answer: str,\n",
        "    llm: OpenAI,\n",
        "    threshold: float = 0.0,\n",
        ") -> Dict:\n",
        "    \"\"\"Run correctness eval.\"\"\"\n",
        "    fmt_messages = eval_chat_template.format_messages(\n",
        "        llm=llm,\n",
        "        query=query_str,\n",
        "        reference_answer=reference_answer,\n",
        "        generated_answer=generated_answer,\n",
        "    )\n",
        "    chat_response = llm.chat(fmt_messages)\n",
        "    raw_output = chat_response.message.content\n",
        "\n",
        "    # Extract from response\n",
        "    score_str, reasoning_str = raw_output.split(\"\\n\", 1)\n",
        "    score = float(score_str)\n",
        "    reasoning = reasoning_str.lstrip(\"\\n\")\n",
        "\n",
        "    return {\"score\": score, \"reason\": reasoning}"
      ]
    },
    {
      "cell_type": "code",
      "execution_count": null,
      "id": "6cd3d816-0bcc-493f-9a20-f812a54d63ca",
      "metadata": {
        "id": "6cd3d816-0bcc-493f-9a20-f812a54d63ca"
      },
      "outputs": [],
      "source": [
        "query = data_eval[0]['question']\n",
        "reference_answer = data_eval[0]['answer']\n"
      ]
    },
    {
      "cell_type": "code",
      "execution_count": null,
      "id": "f83323f0-c56a-42f3-a79a-ad1ba37cf894",
      "metadata": {
        "id": "f83323f0-c56a-42f3-a79a-ad1ba37cf894"
      },
      "outputs": [],
      "source": [
        "query = data_eval[0]['question']\n",
        "reference_answer = data_eval[0]['answer']\n"
      ]
    },
    {
      "cell_type": "code",
      "execution_count": null,
      "id": "2a82d1a9-ab4b-4069-a701-003a469093b5",
      "metadata": {
        "id": "2a82d1a9-ab4b-4069-a701-003a469093b5"
      },
      "outputs": [],
      "source": [
        "response = query_engine_1.query(query)\n",
        "generated_answer = str(response)\n",
        "context = \" \".join([node.dict()['node']['text'] for node in response.source_nodes])\n",
        "#print(generated_answer,context)"
      ]
    },
    {
      "cell_type": "code",
      "execution_count": null,
      "id": "0c653687-ba3f-4936-886b-b5bdb348c1d1",
      "metadata": {
        "id": "0c653687-ba3f-4936-886b-b5bdb348c1d1",
        "outputId": "a17e063d-9a89-45c6-d516-c109b7f979ea"
      },
      "outputs": [
        {
          "data": {
            "text/plain": [
              "{'score': 1.0,\n",
              " 'reason': \"The generated answer is correct. The reference answer states that Amazon's operating cash flow for the trailing twelve months (TTM) in Q1 2023 was $54,330 million, which is equivalent to $54.3 billion as stated in the generated answer.\"}"
            ]
          },
          "metadata": {},
          "output_type": "display_data"
        }
      ],
      "source": [
        "eval_results = run_correctness_eval(\n",
        "    query, reference_answer, generated_answer, llm=llm, threshold=4.0\n",
        ")\n",
        "display(eval_results)"
      ]
    },
    {
      "cell_type": "code",
      "execution_count": null,
      "id": "22416423-de6f-4ec6-a8f1-ce393ba73db4",
      "metadata": {
        "id": "22416423-de6f-4ec6-a8f1-ce393ba73db4"
      },
      "outputs": [],
      "source": [
        "#looping!\n",
        "# score_1=[]\n",
        "# reason_1=[]\n",
        "# context_1=[]\n",
        "# ans_1=[]\n",
        "\n",
        "# score_2=[]\n",
        "# reason_2=[]\n",
        "# ans_2=[]\n",
        "# context_2=[]\n",
        "\n",
        "score_3=[]\n",
        "reason_3=[]\n",
        "ans_3=[]\n",
        "context_3=[]\n",
        "\n",
        "# score_4=[]\n",
        "# reason_4=[]\n",
        "# ans_4=[]\n",
        "# context_4=[]"
      ]
    },
    {
      "cell_type": "code",
      "execution_count": null,
      "id": "a45963de-0036-4382-8014-c4c3beb931a1",
      "metadata": {
        "id": "a45963de-0036-4382-8014-c4c3beb931a1",
        "outputId": "005a8c0e-8c17-4e3b-dccd-506a075a2d87"
      },
      "outputs": [
        {
          "name": "stdout",
          "output_type": "stream",
          "text": [
            "0\n",
            "1\n",
            "2\n",
            "3\n",
            "4\n",
            "5\n",
            "6\n",
            "7\n",
            "8\n",
            "9\n",
            "10\n",
            "11\n",
            "12\n",
            "13\n",
            "14\n",
            "15\n",
            "16\n",
            "17\n",
            "18\n",
            "19\n",
            "20\n",
            "21\n",
            "22\n",
            "23\n",
            "24\n",
            "25\n",
            "26\n",
            "27\n",
            "28\n",
            "29\n",
            "30\n",
            "31\n",
            "32\n",
            "33\n",
            "34\n",
            "35\n",
            "36\n",
            "37\n",
            "38\n",
            "39\n",
            "40\n",
            "41\n",
            "42\n",
            "43\n",
            "44\n",
            "45\n",
            "46\n",
            "47\n",
            "48\n",
            "49\n",
            "50\n",
            "51\n",
            "52\n",
            "53\n",
            "54\n",
            "55\n",
            "56\n"
          ]
        }
      ],
      "source": [
        "#looping!\n",
        "for i in range(0,len(data_eval)):\n",
        "    query = data_eval[i]['question']\n",
        "    reference_answer = data_eval[i]['answer']\n",
        "#     response = query_engine_1.query(query) #basic RAG\n",
        "#     generated_answer = str(response)\n",
        "#     context = \" \".join([node.dict()['node']['text'] for node in response.source_nodes])\n",
        "#     ans_1.append(generated_answer)\n",
        "#     context_1.append(context)\n",
        "\n",
        "#     eval_results = run_correctness_eval(\n",
        "#         query, reference_answer, generated_answer, llm=llm, threshold=1.0\n",
        "#     )\n",
        "\n",
        "#     score_1.append(eval_results['score'])\n",
        "#     reason_1.append(eval_results['reason'])\n",
        "\n",
        "#     response = query_engine_2.query(query) #llamaparse extraction\n",
        "#     generated_answer = str(response)\n",
        "#     context = \" \".join([node.dict()['node']['text'] for node in response.source_nodes])\n",
        "#     ans_2.append(generated_answer)\n",
        "#     context_2.append(context)\n",
        "\n",
        "\n",
        "#     eval_results = run_correctness_eval(\n",
        "#         query, reference_answer, generated_answer, llm=llm, threshold=1.0\n",
        "#     )\n",
        "\n",
        "#     score_2.append(eval_results['score'])\n",
        "#     reason_2.append(eval_results['reason'])\n",
        "\n",
        "\n",
        "    response = query_engine_3.query(query) #re-ranker RAG\n",
        "    generated_answer = str(response)\n",
        "    context = \" \".join([node.dict()['node']['text'] for node in response.source_nodes])\n",
        "    ans_3.append(generated_answer)\n",
        "    context_3.append(context)\n",
        "\n",
        "\n",
        "    eval_results = run_correctness_eval(\n",
        "        query, reference_answer, generated_answer, llm=llm, threshold=1.0\n",
        "    )\n",
        "\n",
        "    score_3.append(eval_results['score'])\n",
        "    reason_3.append(eval_results['reason'])\n",
        "\n",
        "#     response = query_engine_4.query(query) #hybrid RAG\n",
        "#     generated_answer = str(response)\n",
        "#     context = \" \".join([node.dict()['node']['text'] for node in response.source_nodes])\n",
        "#     ans_4.append(generated_answer)\n",
        "#     context_4.append(context)\n",
        "\n",
        "\n",
        "#     eval_results = run_correctness_eval(\n",
        "#         query, reference_answer, generated_answer, llm=llm, threshold=1.0\n",
        "#     )\n",
        "\n",
        "#     score_4.append(eval_results['score'])\n",
        "#     reason_4.append(eval_results['reason'])\n",
        "    print(i)\n"
      ]
    },
    {
      "cell_type": "code",
      "execution_count": null,
      "id": "fada6c65-5700-418d-90ca-89532ccde3c3",
      "metadata": {
        "id": "fada6c65-5700-418d-90ca-89532ccde3c3"
      },
      "outputs": [],
      "source": [
        "import numpy as np"
      ]
    },
    {
      "cell_type": "code",
      "execution_count": null,
      "id": "b58e88ba-587a-4c24-ac00-9f8a9ae5bb79",
      "metadata": {
        "id": "b58e88ba-587a-4c24-ac00-9f8a9ae5bb79"
      },
      "outputs": [],
      "source": [
        "import pandas as pd\n",
        "df=pd.DataFrame([score_1,reason_1,ans_1,context_1,\n",
        "                 score_2,reason_2,ans_2,context_2,\n",
        "                 score_3,reason_3,ans_3,context_3,\n",
        "                 score_4,reason_4,ans_4,context_4]).T"
      ]
    },
    {
      "cell_type": "code",
      "execution_count": null,
      "id": "faa774ef-0285-4968-b7fd-f6bf28bbcc4a",
      "metadata": {
        "id": "faa774ef-0285-4968-b7fd-f6bf28bbcc4a"
      },
      "outputs": [],
      "source": [
        "df.columns = ['score_1','reason_1','ans_1','context_1',\n",
        "              'score_2','reason_2','ans_2','context_2',\n",
        "              'score_3','reason_3','ans_3','context_3',\n",
        "              'score_4','reason_4','ans_4','context_4']\n",
        "df['reference_answer'] = [d['answer'] for d in data_eval]\n",
        "df['question'] = [d['question'] for d in data_eval]"
      ]
    },
    {
      "cell_type": "code",
      "execution_count": null,
      "id": "96d69a58-4133-4aac-a33e-cd3a925882fc",
      "metadata": {
        "id": "96d69a58-4133-4aac-a33e-cd3a925882fc"
      },
      "outputs": [],
      "source": [
        "df.to_csv('eval_ch3_3.csv',index=False)"
      ]
    },
    {
      "cell_type": "code",
      "execution_count": null,
      "id": "a11a409a-0b78-41e4-bb06-5a940724dda6",
      "metadata": {
        "id": "a11a409a-0b78-41e4-bb06-5a940724dda6",
        "outputId": "0ec617ae-6fb5-40e0-cdb3-9d35033f88f4"
      },
      "outputs": [
        {
          "name": "stdout",
          "output_type": "stream",
          "text": [
            "0.8157894736842105 0.7456140350877193 0.7894736842105263 0.8736842105263157\n"
          ]
        }
      ],
      "source": [
        "print(np.array(score_1,dtype=float).mean(),np.array(score_2,dtype=float).mean(),np.array(score_3,dtype=float).mean(),np.array(score_4,dtype=float).mean())"
      ]
    },
    {
      "cell_type": "markdown",
      "id": "fc4661d5-5717-48a6-b917-6730616a52e8",
      "metadata": {
        "id": "fc4661d5-5717-48a6-b917-6730616a52e8"
      },
      "source": [
        "## non-ground truth Eval using Deepeval"
      ]
    },
    {
      "cell_type": "code",
      "execution_count": 6,
      "id": "21d798cf-5e6b-4fc2-8a5e-9d2b7b3b7104",
      "metadata": {
        "id": "21d798cf-5e6b-4fc2-8a5e-9d2b7b3b7104"
      },
      "outputs": [],
      "source": [
        "from deepeval.metrics import FaithfulnessMetric\n",
        "from deepeval.test_case import LLMTestCase\n",
        "from deepeval.metrics import ContextualRelevancyMetric\n",
        "from deepeval.metrics import AnswerRelevancyMetric"
      ]
    },
    {
      "cell_type": "code",
      "source": [
        "#defining the 3 metrics\n",
        "\n",
        "def get_faithfulness_metric(user_query,final_answer,formatted_top_results):\n",
        "  metric = FaithfulnessMetric(\n",
        "  threshold=0.7,\n",
        "  model=\"gpt-4o\",\n",
        "  include_reason=True\n",
        "  )\n",
        "  test_case = LLMTestCase(\n",
        "  input= user_query,\n",
        "  actual_output=final_answer,\n",
        "  retrieval_context=formatted_top_results\n",
        "  )\n",
        "  metric.measure(test_case)\n",
        "  score = metric.score\n",
        "  reason = metric.reason\n",
        "  return score, reason\n",
        "\n",
        "def get_context_relevancy_metric(user_query,final_answer,formatted_top_results):\n",
        "\n",
        "  metric = ContextualRelevancyMetric(\n",
        "  threshold=0.7,\n",
        "  model=\"gpt-4o\",\n",
        "  include_reason=True\n",
        "  )\n",
        "  test_case = LLMTestCase(\n",
        "  input= user_query,\n",
        "  actual_output=final_answer,\n",
        "  retrieval_context=formatted_top_results\n",
        "  )\n",
        "  metric.measure(test_case)\n",
        "  score = metric.score\n",
        "  reason = metric.reason\n",
        "  return score, reason\n",
        "\n",
        "def get_answer_relevancy_metric(user_query,final_answer):\n",
        "  metric = AnswerRelevancyMetric(\n",
        "  threshold=0.7,\n",
        "  model=\"gpt-4o\",\n",
        "  include_reason=True\n",
        "  )\n",
        "  test_case = LLMTestCase(\n",
        "  input= user_query,\n",
        "  actual_output=final_answer,\n",
        "  # retrieval_context=formatted_top_results_hypoth\n",
        "  )\n",
        "  metric.measure(test_case)\n",
        "  score = metric.score\n",
        "  reason = metric.reason\n",
        "  return score, reason"
      ],
      "metadata": {
        "id": "a1tl0cM1qd35"
      },
      "id": "a1tl0cM1qd35",
      "execution_count": 20,
      "outputs": []
    },
    {
      "cell_type": "code",
      "source": [
        "import pandas as pd\n",
        "df=pd.read_csv('/content/eval_ch3_3.csv')"
      ],
      "metadata": {
        "id": "ML-wyu94rCz-"
      },
      "id": "ML-wyu94rCz-",
      "execution_count": 10,
      "outputs": []
    },
    {
      "cell_type": "code",
      "source": [
        "import nest_asyncio\n",
        "\n",
        "nest_asyncio.apply()\n",
        "\n",
        "import os"
      ],
      "metadata": {
        "id": "z7KeXXXnyIml"
      },
      "id": "z7KeXXXnyIml",
      "execution_count": 18,
      "outputs": []
    },
    {
      "cell_type": "code",
      "source": [
        "get_faithfulness_metric(df.iloc[0]['question'],df.iloc[0]['ans_1'],[df.iloc[0]['context_1']])"
      ],
      "metadata": {
        "colab": {
          "base_uri": "https://localhost:8080/",
          "height": 69,
          "referenced_widgets": [
            "69a2f5fd99494504a050aa45524eb262",
            "6e273832d399457381ada029c54748e0"
          ]
        },
        "id": "7d6Z-VuRxhgV",
        "outputId": "ec07de63-bd4a-49d1-aeb7-71eef3840799"
      },
      "id": "7d6Z-VuRxhgV",
      "execution_count": 19,
      "outputs": [
        {
          "output_type": "display_data",
          "data": {
            "text/plain": [
              "Output()"
            ],
            "application/vnd.jupyter.widget-view+json": {
              "version_major": 2,
              "version_minor": 0,
              "model_id": "69a2f5fd99494504a050aa45524eb262"
            }
          },
          "metadata": {}
        },
        {
          "output_type": "display_data",
          "data": {
            "text/plain": [
              "Event loop is already running. Applying nest_asyncio patch to allow async execution...\n"
            ],
            "text/html": [
              "<pre style=\"white-space:pre;overflow-x:auto;line-height:normal;font-family:Menlo,'DejaVu Sans Mono',consolas,'Courier New',monospace\">Event loop is already running. Applying nest_asyncio patch to allow async execution...\n",
              "</pre>\n"
            ]
          },
          "metadata": {}
        },
        {
          "output_type": "display_data",
          "data": {
            "text/plain": [],
            "text/html": [
              "<pre style=\"white-space:pre;overflow-x:auto;line-height:normal;font-family:Menlo,'DejaVu Sans Mono',consolas,'Courier New',monospace\"></pre>\n"
            ]
          },
          "metadata": {}
        },
        {
          "output_type": "display_data",
          "data": {
            "text/plain": [
              "\n"
            ],
            "text/html": [
              "<pre style=\"white-space:pre;overflow-x:auto;line-height:normal;font-family:Menlo,'DejaVu Sans Mono',consolas,'Courier New',monospace\">\n",
              "</pre>\n"
            ]
          },
          "metadata": {}
        },
        {
          "output_type": "execute_result",
          "data": {
            "text/plain": [
              "(1.0,\n",
              " 'The score is 1.00 because there are no contradictions between the retrieval context and the actual output.')"
            ]
          },
          "metadata": {},
          "execution_count": 19
        }
      ]
    },
    {
      "cell_type": "code",
      "source": [
        "f_1, f_2, f_3, f_4 = [], [], [], []\n",
        "cr_1, cr_2, cr_3, cr_4 = [], [], [], []\n",
        "ar_1, ar_2, ar_3, ar_4 = [], [], [], []\n",
        "f_1_reason, f_2_reason, f_3_reason, f_4_reason = [], [], [], []\n",
        "cr_1_reason, cr_2_reason, cr_3_reason, cr_4_reason = [], [], [], []\n",
        "ar_1_reason, ar_2_reason, ar_3_reason, ar_4_reason = [], [], [], []"
      ],
      "metadata": {
        "id": "53kRntaLx2zg"
      },
      "id": "53kRntaLx2zg",
      "execution_count": 37,
      "outputs": []
    },
    {
      "cell_type": "code",
      "source": [
        "for i in range(0,6):\n",
        "  for j in range(1, 5):  # Loop for answers 1 to 4\n",
        "    ans_key = f'ans_{j}'\n",
        "    context_key = f'context_{j}'\n",
        "\n",
        "    f_metric = get_faithfulness_metric(df.iloc[i]['question'], df.iloc[i][ans_key], [df.iloc[i][context_key]])\n",
        "    cr_metric = get_context_relevancy_metric(df.iloc[i]['question'], df.iloc[i][ans_key], [df.iloc[i][context_key]])\n",
        "    ar_metric = get_answer_relevancy_metric(df.iloc[i]['question'], df.iloc[i][ans_key])\n",
        "\n",
        "    globals()[f'f_{j}'].append(f_metric[0])\n",
        "    globals()[f'cr_{j}'].append(cr_metric[0])\n",
        "    globals()[f'ar_{j}'].append(ar_metric[0])\n",
        "    globals()[f'f_{j}_reason'].append(f_metric[1])\n",
        "    globals()[f'cr_{j}_reason'].append(cr_metric[1])\n",
        "    globals()[f'ar_{j}_reason'].append(ar_metric[1])\n",
        "  print(i)"
      ],
      "metadata": {
        "id": "CJedo4CS8mVD"
      },
      "id": "CJedo4CS8mVD",
      "execution_count": 47,
      "outputs": []
    },
    {
      "cell_type": "code",
      "source": [
        "import numpy as np"
      ],
      "metadata": {
        "id": "2jfnf8CpBXgv"
      },
      "id": "2jfnf8CpBXgv",
      "execution_count": 49,
      "outputs": []
    },
    {
      "cell_type": "code",
      "source": [
        "#comparing faithfulness scores\n",
        "print(np.mean(f_1), np.mean(f_2), np.mean(f_3), np.mean(f_4))"
      ],
      "metadata": {
        "colab": {
          "base_uri": "https://localhost:8080/"
        },
        "id": "t_HdWzZK3t8S",
        "outputId": "bf68b298-3a39-4cd7-e92a-17d5a9700bae"
      },
      "id": "t_HdWzZK3t8S",
      "execution_count": 50,
      "outputs": [
        {
          "output_type": "stream",
          "name": "stdout",
          "text": [
            "1.0 0.8333333333333334 1.0 1.0\n"
          ]
        }
      ]
    },
    {
      "cell_type": "code",
      "source": [
        "#comparing context relevancy scores\n",
        "print(np.mean(cr_1), np.mean(cr_2),np.mean(cr_3), np.mean(cr_4))"
      ],
      "metadata": {
        "colab": {
          "base_uri": "https://localhost:8080/"
        },
        "id": "FG4Jc0PY6lyQ",
        "outputId": "95d58c8c-4ea2-4854-92a4-a7771285c5d7"
      },
      "id": "FG4Jc0PY6lyQ",
      "execution_count": 51,
      "outputs": [
        {
          "output_type": "stream",
          "name": "stdout",
          "text": [
            "1.0 1.0 1.0 1.0\n"
          ]
        }
      ]
    },
    {
      "cell_type": "code",
      "source": [
        "#comparing answer relevancy scores\n",
        "print(np.mean(ar_1), np.mean(ar_2), np.mean(ar_3), np.mean(ar_4))"
      ],
      "metadata": {
        "colab": {
          "base_uri": "https://localhost:8080/"
        },
        "id": "fHS4ahHJ9TvT",
        "outputId": "192ae4b7-0219-4d62-98f7-d977bdda8ac6"
      },
      "id": "fHS4ahHJ9TvT",
      "execution_count": 52,
      "outputs": [
        {
          "output_type": "stream",
          "name": "stdout",
          "text": [
            "1.0 1.0 1.0 1.0\n"
          ]
        }
      ]
    },
    {
      "cell_type": "code",
      "source": [
        "f_2_reason"
      ],
      "metadata": {
        "colab": {
          "base_uri": "https://localhost:8080/"
        },
        "id": "GpxTvW9P_Kr_",
        "outputId": "69b514e6-6be0-4fe9-ed5d-9c5298ff4168"
      },
      "id": "GpxTvW9P_Kr_",
      "execution_count": 56,
      "outputs": [
        {
          "output_type": "execute_result",
          "data": {
            "text/plain": [
              "['The score is 1.00 because there are no contradictions, indicating the actual output is perfectly aligned with the retrieval context. Great job!',\n",
              " 'The score is 1.00 because there are no contradictions. Great job on maintaining perfect alignment with the retrieval context!',\n",
              " 'The score is 1.00 because there are no contradictions. Excellent job maintaining faithfulness to the retrieval context!',\n",
              " 'The score is 0.00 because the actual output claims the operating income for Amazon Web Services (AWS) in Q1 2023 was $5.1 billion, which contradicts the retrieval context stating it was $5.123 billion.',\n",
              " 'The score is 1.00 because there are no contradictions. Great job maintaining accuracy and faithfulness to the retrieval context!',\n",
              " 'The score is 1.00 because there are no contradictions. Great job!']"
            ]
          },
          "metadata": {},
          "execution_count": 56
        }
      ]
    },
    {
      "cell_type": "code",
      "source": [],
      "metadata": {
        "id": "xHcNzz7VCPVj"
      },
      "id": "xHcNzz7VCPVj",
      "execution_count": null,
      "outputs": []
    }
  ],
  "metadata": {
    "kernelspec": {
      "display_name": "Python 3 (ipykernel)",
      "language": "python",
      "name": "python3"
    },
    "language_info": {
      "codemirror_mode": {
        "name": "ipython",
        "version": 3
      },
      "file_extension": ".py",
      "mimetype": "text/x-python",
      "name": "python",
      "nbconvert_exporter": "python",
      "pygments_lexer": "ipython3",
      "version": "3.9.5"
    },
    "colab": {
      "provenance": [],
      "toc_visible": true
    },
    "widgets": {
      "application/vnd.jupyter.widget-state+json": {
        "de29cf0d79744fc8a7b4e93402da3b88": {
          "model_module": "@jupyter-widgets/controls",
          "model_name": "HBoxModel",
          "model_module_version": "1.5.0",
          "state": {
            "_dom_classes": [],
            "_model_module": "@jupyter-widgets/controls",
            "_model_module_version": "1.5.0",
            "_model_name": "HBoxModel",
            "_view_count": null,
            "_view_module": "@jupyter-widgets/controls",
            "_view_module_version": "1.5.0",
            "_view_name": "HBoxView",
            "box_style": "",
            "children": [
              "IPY_MODEL_2dc6a5ca1d8148908d1be0b2aa4d32e3",
              "IPY_MODEL_1d529973d0d04c8191a7d250231edf4b",
              "IPY_MODEL_e547834e9e4540fa8c71f5980fa1d817"
            ],
            "layout": "IPY_MODEL_ece1c3caf127434c880c475e174a5604"
          }
        },
        "2dc6a5ca1d8148908d1be0b2aa4d32e3": {
          "model_module": "@jupyter-widgets/controls",
          "model_name": "HTMLModel",
          "model_module_version": "1.5.0",
          "state": {
            "_dom_classes": [],
            "_model_module": "@jupyter-widgets/controls",
            "_model_module_version": "1.5.0",
            "_model_name": "HTMLModel",
            "_view_count": null,
            "_view_module": "@jupyter-widgets/controls",
            "_view_module_version": "1.5.0",
            "_view_name": "HTMLView",
            "description": "",
            "description_tooltip": null,
            "layout": "IPY_MODEL_651a15d9af79461bafa405caa7d90f77",
            "placeholder": "​",
            "style": "IPY_MODEL_2a6d7eb56639492c8c9105892c2a6001",
            "value": "Fetching 5 files: 100%"
          }
        },
        "1d529973d0d04c8191a7d250231edf4b": {
          "model_module": "@jupyter-widgets/controls",
          "model_name": "FloatProgressModel",
          "model_module_version": "1.5.0",
          "state": {
            "_dom_classes": [],
            "_model_module": "@jupyter-widgets/controls",
            "_model_module_version": "1.5.0",
            "_model_name": "FloatProgressModel",
            "_view_count": null,
            "_view_module": "@jupyter-widgets/controls",
            "_view_module_version": "1.5.0",
            "_view_name": "ProgressView",
            "bar_style": "success",
            "description": "",
            "description_tooltip": null,
            "layout": "IPY_MODEL_c21c822b71d24d1295f8300babe2c6fb",
            "max": 5,
            "min": 0,
            "orientation": "horizontal",
            "style": "IPY_MODEL_2758c9513efd4efa929c6a29e64537f0",
            "value": 5
          }
        },
        "e547834e9e4540fa8c71f5980fa1d817": {
          "model_module": "@jupyter-widgets/controls",
          "model_name": "HTMLModel",
          "model_module_version": "1.5.0",
          "state": {
            "_dom_classes": [],
            "_model_module": "@jupyter-widgets/controls",
            "_model_module_version": "1.5.0",
            "_model_name": "HTMLModel",
            "_view_count": null,
            "_view_module": "@jupyter-widgets/controls",
            "_view_module_version": "1.5.0",
            "_view_name": "HTMLView",
            "description": "",
            "description_tooltip": null,
            "layout": "IPY_MODEL_e5d85f1f906b4842b732e30d6aab755a",
            "placeholder": "​",
            "style": "IPY_MODEL_26e841099534410b9446b75ff609a7de",
            "value": " 5/5 [00:04&lt;00:00,  2.61s/it]"
          }
        },
        "ece1c3caf127434c880c475e174a5604": {
          "model_module": "@jupyter-widgets/base",
          "model_name": "LayoutModel",
          "model_module_version": "1.2.0",
          "state": {
            "_model_module": "@jupyter-widgets/base",
            "_model_module_version": "1.2.0",
            "_model_name": "LayoutModel",
            "_view_count": null,
            "_view_module": "@jupyter-widgets/base",
            "_view_module_version": "1.2.0",
            "_view_name": "LayoutView",
            "align_content": null,
            "align_items": null,
            "align_self": null,
            "border": null,
            "bottom": null,
            "display": null,
            "flex": null,
            "flex_flow": null,
            "grid_area": null,
            "grid_auto_columns": null,
            "grid_auto_flow": null,
            "grid_auto_rows": null,
            "grid_column": null,
            "grid_gap": null,
            "grid_row": null,
            "grid_template_areas": null,
            "grid_template_columns": null,
            "grid_template_rows": null,
            "height": null,
            "justify_content": null,
            "justify_items": null,
            "left": null,
            "margin": null,
            "max_height": null,
            "max_width": null,
            "min_height": null,
            "min_width": null,
            "object_fit": null,
            "object_position": null,
            "order": null,
            "overflow": null,
            "overflow_x": null,
            "overflow_y": null,
            "padding": null,
            "right": null,
            "top": null,
            "visibility": null,
            "width": null
          }
        },
        "651a15d9af79461bafa405caa7d90f77": {
          "model_module": "@jupyter-widgets/base",
          "model_name": "LayoutModel",
          "model_module_version": "1.2.0",
          "state": {
            "_model_module": "@jupyter-widgets/base",
            "_model_module_version": "1.2.0",
            "_model_name": "LayoutModel",
            "_view_count": null,
            "_view_module": "@jupyter-widgets/base",
            "_view_module_version": "1.2.0",
            "_view_name": "LayoutView",
            "align_content": null,
            "align_items": null,
            "align_self": null,
            "border": null,
            "bottom": null,
            "display": null,
            "flex": null,
            "flex_flow": null,
            "grid_area": null,
            "grid_auto_columns": null,
            "grid_auto_flow": null,
            "grid_auto_rows": null,
            "grid_column": null,
            "grid_gap": null,
            "grid_row": null,
            "grid_template_areas": null,
            "grid_template_columns": null,
            "grid_template_rows": null,
            "height": null,
            "justify_content": null,
            "justify_items": null,
            "left": null,
            "margin": null,
            "max_height": null,
            "max_width": null,
            "min_height": null,
            "min_width": null,
            "object_fit": null,
            "object_position": null,
            "order": null,
            "overflow": null,
            "overflow_x": null,
            "overflow_y": null,
            "padding": null,
            "right": null,
            "top": null,
            "visibility": null,
            "width": null
          }
        },
        "2a6d7eb56639492c8c9105892c2a6001": {
          "model_module": "@jupyter-widgets/controls",
          "model_name": "DescriptionStyleModel",
          "model_module_version": "1.5.0",
          "state": {
            "_model_module": "@jupyter-widgets/controls",
            "_model_module_version": "1.5.0",
            "_model_name": "DescriptionStyleModel",
            "_view_count": null,
            "_view_module": "@jupyter-widgets/base",
            "_view_module_version": "1.2.0",
            "_view_name": "StyleView",
            "description_width": ""
          }
        },
        "c21c822b71d24d1295f8300babe2c6fb": {
          "model_module": "@jupyter-widgets/base",
          "model_name": "LayoutModel",
          "model_module_version": "1.2.0",
          "state": {
            "_model_module": "@jupyter-widgets/base",
            "_model_module_version": "1.2.0",
            "_model_name": "LayoutModel",
            "_view_count": null,
            "_view_module": "@jupyter-widgets/base",
            "_view_module_version": "1.2.0",
            "_view_name": "LayoutView",
            "align_content": null,
            "align_items": null,
            "align_self": null,
            "border": null,
            "bottom": null,
            "display": null,
            "flex": null,
            "flex_flow": null,
            "grid_area": null,
            "grid_auto_columns": null,
            "grid_auto_flow": null,
            "grid_auto_rows": null,
            "grid_column": null,
            "grid_gap": null,
            "grid_row": null,
            "grid_template_areas": null,
            "grid_template_columns": null,
            "grid_template_rows": null,
            "height": null,
            "justify_content": null,
            "justify_items": null,
            "left": null,
            "margin": null,
            "max_height": null,
            "max_width": null,
            "min_height": null,
            "min_width": null,
            "object_fit": null,
            "object_position": null,
            "order": null,
            "overflow": null,
            "overflow_x": null,
            "overflow_y": null,
            "padding": null,
            "right": null,
            "top": null,
            "visibility": null,
            "width": null
          }
        },
        "2758c9513efd4efa929c6a29e64537f0": {
          "model_module": "@jupyter-widgets/controls",
          "model_name": "ProgressStyleModel",
          "model_module_version": "1.5.0",
          "state": {
            "_model_module": "@jupyter-widgets/controls",
            "_model_module_version": "1.5.0",
            "_model_name": "ProgressStyleModel",
            "_view_count": null,
            "_view_module": "@jupyter-widgets/base",
            "_view_module_version": "1.2.0",
            "_view_name": "StyleView",
            "bar_color": null,
            "description_width": ""
          }
        },
        "e5d85f1f906b4842b732e30d6aab755a": {
          "model_module": "@jupyter-widgets/base",
          "model_name": "LayoutModel",
          "model_module_version": "1.2.0",
          "state": {
            "_model_module": "@jupyter-widgets/base",
            "_model_module_version": "1.2.0",
            "_model_name": "LayoutModel",
            "_view_count": null,
            "_view_module": "@jupyter-widgets/base",
            "_view_module_version": "1.2.0",
            "_view_name": "LayoutView",
            "align_content": null,
            "align_items": null,
            "align_self": null,
            "border": null,
            "bottom": null,
            "display": null,
            "flex": null,
            "flex_flow": null,
            "grid_area": null,
            "grid_auto_columns": null,
            "grid_auto_flow": null,
            "grid_auto_rows": null,
            "grid_column": null,
            "grid_gap": null,
            "grid_row": null,
            "grid_template_areas": null,
            "grid_template_columns": null,
            "grid_template_rows": null,
            "height": null,
            "justify_content": null,
            "justify_items": null,
            "left": null,
            "margin": null,
            "max_height": null,
            "max_width": null,
            "min_height": null,
            "min_width": null,
            "object_fit": null,
            "object_position": null,
            "order": null,
            "overflow": null,
            "overflow_x": null,
            "overflow_y": null,
            "padding": null,
            "right": null,
            "top": null,
            "visibility": null,
            "width": null
          }
        },
        "26e841099534410b9446b75ff609a7de": {
          "model_module": "@jupyter-widgets/controls",
          "model_name": "DescriptionStyleModel",
          "model_module_version": "1.5.0",
          "state": {
            "_model_module": "@jupyter-widgets/controls",
            "_model_module_version": "1.5.0",
            "_model_name": "DescriptionStyleModel",
            "_view_count": null,
            "_view_module": "@jupyter-widgets/base",
            "_view_module_version": "1.2.0",
            "_view_name": "StyleView",
            "description_width": ""
          }
        },
        "99d9811083154da2ad3f9b7c82223bcc": {
          "model_module": "@jupyter-widgets/controls",
          "model_name": "HBoxModel",
          "model_module_version": "1.5.0",
          "state": {
            "_dom_classes": [],
            "_model_module": "@jupyter-widgets/controls",
            "_model_module_version": "1.5.0",
            "_model_name": "HBoxModel",
            "_view_count": null,
            "_view_module": "@jupyter-widgets/controls",
            "_view_module_version": "1.5.0",
            "_view_name": "HBoxView",
            "box_style": "",
            "children": [
              "IPY_MODEL_7194d1bd237b49dc93315dc9b47b9682",
              "IPY_MODEL_9d1ce6c3355d4fa589a75bffb16b47ff",
              "IPY_MODEL_43bfac5b427f431e8eb96592d24e174e"
            ],
            "layout": "IPY_MODEL_044719ee811645fe8991c72d5880340c"
          }
        },
        "7194d1bd237b49dc93315dc9b47b9682": {
          "model_module": "@jupyter-widgets/controls",
          "model_name": "HTMLModel",
          "model_module_version": "1.5.0",
          "state": {
            "_dom_classes": [],
            "_model_module": "@jupyter-widgets/controls",
            "_model_module_version": "1.5.0",
            "_model_name": "HTMLModel",
            "_view_count": null,
            "_view_module": "@jupyter-widgets/controls",
            "_view_module_version": "1.5.0",
            "_view_name": "HTMLView",
            "description": "",
            "description_tooltip": null,
            "layout": "IPY_MODEL_fa9e5b5b03744daea1340961f1d5bb75",
            "placeholder": "​",
            "style": "IPY_MODEL_22b7e5a7885941298d806ab3ffcbb5a9",
            "value": "config.json: 100%"
          }
        },
        "9d1ce6c3355d4fa589a75bffb16b47ff": {
          "model_module": "@jupyter-widgets/controls",
          "model_name": "FloatProgressModel",
          "model_module_version": "1.5.0",
          "state": {
            "_dom_classes": [],
            "_model_module": "@jupyter-widgets/controls",
            "_model_module_version": "1.5.0",
            "_model_name": "FloatProgressModel",
            "_view_count": null,
            "_view_module": "@jupyter-widgets/controls",
            "_view_module_version": "1.5.0",
            "_view_name": "ProgressView",
            "bar_style": "success",
            "description": "",
            "description_tooltip": null,
            "layout": "IPY_MODEL_06105f5647a5491286d33c8e2030bacc",
            "max": 755,
            "min": 0,
            "orientation": "horizontal",
            "style": "IPY_MODEL_429b91b0bbc14b1fb3a6dd935ea04cfa",
            "value": 755
          }
        },
        "43bfac5b427f431e8eb96592d24e174e": {
          "model_module": "@jupyter-widgets/controls",
          "model_name": "HTMLModel",
          "model_module_version": "1.5.0",
          "state": {
            "_dom_classes": [],
            "_model_module": "@jupyter-widgets/controls",
            "_model_module_version": "1.5.0",
            "_model_name": "HTMLModel",
            "_view_count": null,
            "_view_module": "@jupyter-widgets/controls",
            "_view_module_version": "1.5.0",
            "_view_name": "HTMLView",
            "description": "",
            "description_tooltip": null,
            "layout": "IPY_MODEL_a8625fc35b994912ab68e3dc2b6d3e56",
            "placeholder": "​",
            "style": "IPY_MODEL_08e54a834fbe4bf8a544b210c224da7f",
            "value": " 755/755 [00:00&lt;00:00, 11.1kB/s]"
          }
        },
        "044719ee811645fe8991c72d5880340c": {
          "model_module": "@jupyter-widgets/base",
          "model_name": "LayoutModel",
          "model_module_version": "1.2.0",
          "state": {
            "_model_module": "@jupyter-widgets/base",
            "_model_module_version": "1.2.0",
            "_model_name": "LayoutModel",
            "_view_count": null,
            "_view_module": "@jupyter-widgets/base",
            "_view_module_version": "1.2.0",
            "_view_name": "LayoutView",
            "align_content": null,
            "align_items": null,
            "align_self": null,
            "border": null,
            "bottom": null,
            "display": null,
            "flex": null,
            "flex_flow": null,
            "grid_area": null,
            "grid_auto_columns": null,
            "grid_auto_flow": null,
            "grid_auto_rows": null,
            "grid_column": null,
            "grid_gap": null,
            "grid_row": null,
            "grid_template_areas": null,
            "grid_template_columns": null,
            "grid_template_rows": null,
            "height": null,
            "justify_content": null,
            "justify_items": null,
            "left": null,
            "margin": null,
            "max_height": null,
            "max_width": null,
            "min_height": null,
            "min_width": null,
            "object_fit": null,
            "object_position": null,
            "order": null,
            "overflow": null,
            "overflow_x": null,
            "overflow_y": null,
            "padding": null,
            "right": null,
            "top": null,
            "visibility": null,
            "width": null
          }
        },
        "fa9e5b5b03744daea1340961f1d5bb75": {
          "model_module": "@jupyter-widgets/base",
          "model_name": "LayoutModel",
          "model_module_version": "1.2.0",
          "state": {
            "_model_module": "@jupyter-widgets/base",
            "_model_module_version": "1.2.0",
            "_model_name": "LayoutModel",
            "_view_count": null,
            "_view_module": "@jupyter-widgets/base",
            "_view_module_version": "1.2.0",
            "_view_name": "LayoutView",
            "align_content": null,
            "align_items": null,
            "align_self": null,
            "border": null,
            "bottom": null,
            "display": null,
            "flex": null,
            "flex_flow": null,
            "grid_area": null,
            "grid_auto_columns": null,
            "grid_auto_flow": null,
            "grid_auto_rows": null,
            "grid_column": null,
            "grid_gap": null,
            "grid_row": null,
            "grid_template_areas": null,
            "grid_template_columns": null,
            "grid_template_rows": null,
            "height": null,
            "justify_content": null,
            "justify_items": null,
            "left": null,
            "margin": null,
            "max_height": null,
            "max_width": null,
            "min_height": null,
            "min_width": null,
            "object_fit": null,
            "object_position": null,
            "order": null,
            "overflow": null,
            "overflow_x": null,
            "overflow_y": null,
            "padding": null,
            "right": null,
            "top": null,
            "visibility": null,
            "width": null
          }
        },
        "22b7e5a7885941298d806ab3ffcbb5a9": {
          "model_module": "@jupyter-widgets/controls",
          "model_name": "DescriptionStyleModel",
          "model_module_version": "1.5.0",
          "state": {
            "_model_module": "@jupyter-widgets/controls",
            "_model_module_version": "1.5.0",
            "_model_name": "DescriptionStyleModel",
            "_view_count": null,
            "_view_module": "@jupyter-widgets/base",
            "_view_module_version": "1.2.0",
            "_view_name": "StyleView",
            "description_width": ""
          }
        },
        "06105f5647a5491286d33c8e2030bacc": {
          "model_module": "@jupyter-widgets/base",
          "model_name": "LayoutModel",
          "model_module_version": "1.2.0",
          "state": {
            "_model_module": "@jupyter-widgets/base",
            "_model_module_version": "1.2.0",
            "_model_name": "LayoutModel",
            "_view_count": null,
            "_view_module": "@jupyter-widgets/base",
            "_view_module_version": "1.2.0",
            "_view_name": "LayoutView",
            "align_content": null,
            "align_items": null,
            "align_self": null,
            "border": null,
            "bottom": null,
            "display": null,
            "flex": null,
            "flex_flow": null,
            "grid_area": null,
            "grid_auto_columns": null,
            "grid_auto_flow": null,
            "grid_auto_rows": null,
            "grid_column": null,
            "grid_gap": null,
            "grid_row": null,
            "grid_template_areas": null,
            "grid_template_columns": null,
            "grid_template_rows": null,
            "height": null,
            "justify_content": null,
            "justify_items": null,
            "left": null,
            "margin": null,
            "max_height": null,
            "max_width": null,
            "min_height": null,
            "min_width": null,
            "object_fit": null,
            "object_position": null,
            "order": null,
            "overflow": null,
            "overflow_x": null,
            "overflow_y": null,
            "padding": null,
            "right": null,
            "top": null,
            "visibility": null,
            "width": null
          }
        },
        "429b91b0bbc14b1fb3a6dd935ea04cfa": {
          "model_module": "@jupyter-widgets/controls",
          "model_name": "ProgressStyleModel",
          "model_module_version": "1.5.0",
          "state": {
            "_model_module": "@jupyter-widgets/controls",
            "_model_module_version": "1.5.0",
            "_model_name": "ProgressStyleModel",
            "_view_count": null,
            "_view_module": "@jupyter-widgets/base",
            "_view_module_version": "1.2.0",
            "_view_name": "StyleView",
            "bar_color": null,
            "description_width": ""
          }
        },
        "a8625fc35b994912ab68e3dc2b6d3e56": {
          "model_module": "@jupyter-widgets/base",
          "model_name": "LayoutModel",
          "model_module_version": "1.2.0",
          "state": {
            "_model_module": "@jupyter-widgets/base",
            "_model_module_version": "1.2.0",
            "_model_name": "LayoutModel",
            "_view_count": null,
            "_view_module": "@jupyter-widgets/base",
            "_view_module_version": "1.2.0",
            "_view_name": "LayoutView",
            "align_content": null,
            "align_items": null,
            "align_self": null,
            "border": null,
            "bottom": null,
            "display": null,
            "flex": null,
            "flex_flow": null,
            "grid_area": null,
            "grid_auto_columns": null,
            "grid_auto_flow": null,
            "grid_auto_rows": null,
            "grid_column": null,
            "grid_gap": null,
            "grid_row": null,
            "grid_template_areas": null,
            "grid_template_columns": null,
            "grid_template_rows": null,
            "height": null,
            "justify_content": null,
            "justify_items": null,
            "left": null,
            "margin": null,
            "max_height": null,
            "max_width": null,
            "min_height": null,
            "min_width": null,
            "object_fit": null,
            "object_position": null,
            "order": null,
            "overflow": null,
            "overflow_x": null,
            "overflow_y": null,
            "padding": null,
            "right": null,
            "top": null,
            "visibility": null,
            "width": null
          }
        },
        "08e54a834fbe4bf8a544b210c224da7f": {
          "model_module": "@jupyter-widgets/controls",
          "model_name": "DescriptionStyleModel",
          "model_module_version": "1.5.0",
          "state": {
            "_model_module": "@jupyter-widgets/controls",
            "_model_module_version": "1.5.0",
            "_model_name": "DescriptionStyleModel",
            "_view_count": null,
            "_view_module": "@jupyter-widgets/base",
            "_view_module_version": "1.2.0",
            "_view_name": "StyleView",
            "description_width": ""
          }
        },
        "f1656b9a973b4b9ea606b299e4e7c9ff": {
          "model_module": "@jupyter-widgets/controls",
          "model_name": "HBoxModel",
          "model_module_version": "1.5.0",
          "state": {
            "_dom_classes": [],
            "_model_module": "@jupyter-widgets/controls",
            "_model_module_version": "1.5.0",
            "_model_name": "HBoxModel",
            "_view_count": null,
            "_view_module": "@jupyter-widgets/controls",
            "_view_module_version": "1.5.0",
            "_view_name": "HBoxView",
            "box_style": "",
            "children": [
              "IPY_MODEL_1643f840b7334edb9bbb2b0942c919a1",
              "IPY_MODEL_fc85b1f4abf2404e87cf1aaaebda74d4",
              "IPY_MODEL_e05f900bd3794561a588e2fa5520d67f"
            ],
            "layout": "IPY_MODEL_7fbbee24fb5e429d8322cd3c595e71ec"
          }
        },
        "1643f840b7334edb9bbb2b0942c919a1": {
          "model_module": "@jupyter-widgets/controls",
          "model_name": "HTMLModel",
          "model_module_version": "1.5.0",
          "state": {
            "_dom_classes": [],
            "_model_module": "@jupyter-widgets/controls",
            "_model_module_version": "1.5.0",
            "_model_name": "HTMLModel",
            "_view_count": null,
            "_view_module": "@jupyter-widgets/controls",
            "_view_module_version": "1.5.0",
            "_view_name": "HTMLView",
            "description": "",
            "description_tooltip": null,
            "layout": "IPY_MODEL_96e6a53da70249e8929103c9f274b738",
            "placeholder": "​",
            "style": "IPY_MODEL_93ffb13da5a147ea9b97f6eb528321e3",
            "value": "tokenizer_config.json: 100%"
          }
        },
        "fc85b1f4abf2404e87cf1aaaebda74d4": {
          "model_module": "@jupyter-widgets/controls",
          "model_name": "FloatProgressModel",
          "model_module_version": "1.5.0",
          "state": {
            "_dom_classes": [],
            "_model_module": "@jupyter-widgets/controls",
            "_model_module_version": "1.5.0",
            "_model_name": "FloatProgressModel",
            "_view_count": null,
            "_view_module": "@jupyter-widgets/controls",
            "_view_module_version": "1.5.0",
            "_view_name": "ProgressView",
            "bar_style": "success",
            "description": "",
            "description_tooltip": null,
            "layout": "IPY_MODEL_9aa3cc82ff254ce9b5fb728ae599fc06",
            "max": 1381,
            "min": 0,
            "orientation": "horizontal",
            "style": "IPY_MODEL_df87756a22084649a5e49e3a4be0559c",
            "value": 1381
          }
        },
        "e05f900bd3794561a588e2fa5520d67f": {
          "model_module": "@jupyter-widgets/controls",
          "model_name": "HTMLModel",
          "model_module_version": "1.5.0",
          "state": {
            "_dom_classes": [],
            "_model_module": "@jupyter-widgets/controls",
            "_model_module_version": "1.5.0",
            "_model_name": "HTMLModel",
            "_view_count": null,
            "_view_module": "@jupyter-widgets/controls",
            "_view_module_version": "1.5.0",
            "_view_name": "HTMLView",
            "description": "",
            "description_tooltip": null,
            "layout": "IPY_MODEL_4366a9abd68c491c96d0c372d8df54be",
            "placeholder": "​",
            "style": "IPY_MODEL_024acce66f3442449422ee31a179d7fe",
            "value": " 1.38k/1.38k [00:00&lt;00:00, 14.0kB/s]"
          }
        },
        "7fbbee24fb5e429d8322cd3c595e71ec": {
          "model_module": "@jupyter-widgets/base",
          "model_name": "LayoutModel",
          "model_module_version": "1.2.0",
          "state": {
            "_model_module": "@jupyter-widgets/base",
            "_model_module_version": "1.2.0",
            "_model_name": "LayoutModel",
            "_view_count": null,
            "_view_module": "@jupyter-widgets/base",
            "_view_module_version": "1.2.0",
            "_view_name": "LayoutView",
            "align_content": null,
            "align_items": null,
            "align_self": null,
            "border": null,
            "bottom": null,
            "display": null,
            "flex": null,
            "flex_flow": null,
            "grid_area": null,
            "grid_auto_columns": null,
            "grid_auto_flow": null,
            "grid_auto_rows": null,
            "grid_column": null,
            "grid_gap": null,
            "grid_row": null,
            "grid_template_areas": null,
            "grid_template_columns": null,
            "grid_template_rows": null,
            "height": null,
            "justify_content": null,
            "justify_items": null,
            "left": null,
            "margin": null,
            "max_height": null,
            "max_width": null,
            "min_height": null,
            "min_width": null,
            "object_fit": null,
            "object_position": null,
            "order": null,
            "overflow": null,
            "overflow_x": null,
            "overflow_y": null,
            "padding": null,
            "right": null,
            "top": null,
            "visibility": null,
            "width": null
          }
        },
        "96e6a53da70249e8929103c9f274b738": {
          "model_module": "@jupyter-widgets/base",
          "model_name": "LayoutModel",
          "model_module_version": "1.2.0",
          "state": {
            "_model_module": "@jupyter-widgets/base",
            "_model_module_version": "1.2.0",
            "_model_name": "LayoutModel",
            "_view_count": null,
            "_view_module": "@jupyter-widgets/base",
            "_view_module_version": "1.2.0",
            "_view_name": "LayoutView",
            "align_content": null,
            "align_items": null,
            "align_self": null,
            "border": null,
            "bottom": null,
            "display": null,
            "flex": null,
            "flex_flow": null,
            "grid_area": null,
            "grid_auto_columns": null,
            "grid_auto_flow": null,
            "grid_auto_rows": null,
            "grid_column": null,
            "grid_gap": null,
            "grid_row": null,
            "grid_template_areas": null,
            "grid_template_columns": null,
            "grid_template_rows": null,
            "height": null,
            "justify_content": null,
            "justify_items": null,
            "left": null,
            "margin": null,
            "max_height": null,
            "max_width": null,
            "min_height": null,
            "min_width": null,
            "object_fit": null,
            "object_position": null,
            "order": null,
            "overflow": null,
            "overflow_x": null,
            "overflow_y": null,
            "padding": null,
            "right": null,
            "top": null,
            "visibility": null,
            "width": null
          }
        },
        "93ffb13da5a147ea9b97f6eb528321e3": {
          "model_module": "@jupyter-widgets/controls",
          "model_name": "DescriptionStyleModel",
          "model_module_version": "1.5.0",
          "state": {
            "_model_module": "@jupyter-widgets/controls",
            "_model_module_version": "1.5.0",
            "_model_name": "DescriptionStyleModel",
            "_view_count": null,
            "_view_module": "@jupyter-widgets/base",
            "_view_module_version": "1.2.0",
            "_view_name": "StyleView",
            "description_width": ""
          }
        },
        "9aa3cc82ff254ce9b5fb728ae599fc06": {
          "model_module": "@jupyter-widgets/base",
          "model_name": "LayoutModel",
          "model_module_version": "1.2.0",
          "state": {
            "_model_module": "@jupyter-widgets/base",
            "_model_module_version": "1.2.0",
            "_model_name": "LayoutModel",
            "_view_count": null,
            "_view_module": "@jupyter-widgets/base",
            "_view_module_version": "1.2.0",
            "_view_name": "LayoutView",
            "align_content": null,
            "align_items": null,
            "align_self": null,
            "border": null,
            "bottom": null,
            "display": null,
            "flex": null,
            "flex_flow": null,
            "grid_area": null,
            "grid_auto_columns": null,
            "grid_auto_flow": null,
            "grid_auto_rows": null,
            "grid_column": null,
            "grid_gap": null,
            "grid_row": null,
            "grid_template_areas": null,
            "grid_template_columns": null,
            "grid_template_rows": null,
            "height": null,
            "justify_content": null,
            "justify_items": null,
            "left": null,
            "margin": null,
            "max_height": null,
            "max_width": null,
            "min_height": null,
            "min_width": null,
            "object_fit": null,
            "object_position": null,
            "order": null,
            "overflow": null,
            "overflow_x": null,
            "overflow_y": null,
            "padding": null,
            "right": null,
            "top": null,
            "visibility": null,
            "width": null
          }
        },
        "df87756a22084649a5e49e3a4be0559c": {
          "model_module": "@jupyter-widgets/controls",
          "model_name": "ProgressStyleModel",
          "model_module_version": "1.5.0",
          "state": {
            "_model_module": "@jupyter-widgets/controls",
            "_model_module_version": "1.5.0",
            "_model_name": "ProgressStyleModel",
            "_view_count": null,
            "_view_module": "@jupyter-widgets/base",
            "_view_module_version": "1.2.0",
            "_view_name": "StyleView",
            "bar_color": null,
            "description_width": ""
          }
        },
        "4366a9abd68c491c96d0c372d8df54be": {
          "model_module": "@jupyter-widgets/base",
          "model_name": "LayoutModel",
          "model_module_version": "1.2.0",
          "state": {
            "_model_module": "@jupyter-widgets/base",
            "_model_module_version": "1.2.0",
            "_model_name": "LayoutModel",
            "_view_count": null,
            "_view_module": "@jupyter-widgets/base",
            "_view_module_version": "1.2.0",
            "_view_name": "LayoutView",
            "align_content": null,
            "align_items": null,
            "align_self": null,
            "border": null,
            "bottom": null,
            "display": null,
            "flex": null,
            "flex_flow": null,
            "grid_area": null,
            "grid_auto_columns": null,
            "grid_auto_flow": null,
            "grid_auto_rows": null,
            "grid_column": null,
            "grid_gap": null,
            "grid_row": null,
            "grid_template_areas": null,
            "grid_template_columns": null,
            "grid_template_rows": null,
            "height": null,
            "justify_content": null,
            "justify_items": null,
            "left": null,
            "margin": null,
            "max_height": null,
            "max_width": null,
            "min_height": null,
            "min_width": null,
            "object_fit": null,
            "object_position": null,
            "order": null,
            "overflow": null,
            "overflow_x": null,
            "overflow_y": null,
            "padding": null,
            "right": null,
            "top": null,
            "visibility": null,
            "width": null
          }
        },
        "024acce66f3442449422ee31a179d7fe": {
          "model_module": "@jupyter-widgets/controls",
          "model_name": "DescriptionStyleModel",
          "model_module_version": "1.5.0",
          "state": {
            "_model_module": "@jupyter-widgets/controls",
            "_model_module_version": "1.5.0",
            "_model_name": "DescriptionStyleModel",
            "_view_count": null,
            "_view_module": "@jupyter-widgets/base",
            "_view_module_version": "1.2.0",
            "_view_name": "StyleView",
            "description_width": ""
          }
        },
        "bda9cfb0064c4b08849eb6befcf2a072": {
          "model_module": "@jupyter-widgets/controls",
          "model_name": "HBoxModel",
          "model_module_version": "1.5.0",
          "state": {
            "_dom_classes": [],
            "_model_module": "@jupyter-widgets/controls",
            "_model_module_version": "1.5.0",
            "_model_name": "HBoxModel",
            "_view_count": null,
            "_view_module": "@jupyter-widgets/controls",
            "_view_module_version": "1.5.0",
            "_view_name": "HBoxView",
            "box_style": "",
            "children": [
              "IPY_MODEL_7013ae63560c4e6ea4b927a1af0de48a",
              "IPY_MODEL_bed48b4a353e4f25a346c4420433459f",
              "IPY_MODEL_8af56e3fe6a8403aa4807b0366431b33"
            ],
            "layout": "IPY_MODEL_9a32bc3140fa4d768a432a85f6bf2abd"
          }
        },
        "7013ae63560c4e6ea4b927a1af0de48a": {
          "model_module": "@jupyter-widgets/controls",
          "model_name": "HTMLModel",
          "model_module_version": "1.5.0",
          "state": {
            "_dom_classes": [],
            "_model_module": "@jupyter-widgets/controls",
            "_model_module_version": "1.5.0",
            "_model_name": "HTMLModel",
            "_view_count": null,
            "_view_module": "@jupyter-widgets/controls",
            "_view_module_version": "1.5.0",
            "_view_name": "HTMLView",
            "description": "",
            "description_tooltip": null,
            "layout": "IPY_MODEL_2630407a26de42838174e63b18c92a00",
            "placeholder": "​",
            "style": "IPY_MODEL_c82b0e39757b4339932bbd9dc51b4a20",
            "value": "special_tokens_map.json: 100%"
          }
        },
        "bed48b4a353e4f25a346c4420433459f": {
          "model_module": "@jupyter-widgets/controls",
          "model_name": "FloatProgressModel",
          "model_module_version": "1.5.0",
          "state": {
            "_dom_classes": [],
            "_model_module": "@jupyter-widgets/controls",
            "_model_module_version": "1.5.0",
            "_model_name": "FloatProgressModel",
            "_view_count": null,
            "_view_module": "@jupyter-widgets/controls",
            "_view_module_version": "1.5.0",
            "_view_name": "ProgressView",
            "bar_style": "success",
            "description": "",
            "description_tooltip": null,
            "layout": "IPY_MODEL_101eeb9ea79e4166b06ab2ff2510d06c",
            "max": 695,
            "min": 0,
            "orientation": "horizontal",
            "style": "IPY_MODEL_61d7b6bdad53407aa990178e96ab816e",
            "value": 695
          }
        },
        "8af56e3fe6a8403aa4807b0366431b33": {
          "model_module": "@jupyter-widgets/controls",
          "model_name": "HTMLModel",
          "model_module_version": "1.5.0",
          "state": {
            "_dom_classes": [],
            "_model_module": "@jupyter-widgets/controls",
            "_model_module_version": "1.5.0",
            "_model_name": "HTMLModel",
            "_view_count": null,
            "_view_module": "@jupyter-widgets/controls",
            "_view_module_version": "1.5.0",
            "_view_name": "HTMLView",
            "description": "",
            "description_tooltip": null,
            "layout": "IPY_MODEL_a5f0688f41f34befb7e82b6131ef8f81",
            "placeholder": "​",
            "style": "IPY_MODEL_e1ac7f4492554351926a1e7e02987e1a",
            "value": " 695/695 [00:00&lt;00:00, 8.43kB/s]"
          }
        },
        "9a32bc3140fa4d768a432a85f6bf2abd": {
          "model_module": "@jupyter-widgets/base",
          "model_name": "LayoutModel",
          "model_module_version": "1.2.0",
          "state": {
            "_model_module": "@jupyter-widgets/base",
            "_model_module_version": "1.2.0",
            "_model_name": "LayoutModel",
            "_view_count": null,
            "_view_module": "@jupyter-widgets/base",
            "_view_module_version": "1.2.0",
            "_view_name": "LayoutView",
            "align_content": null,
            "align_items": null,
            "align_self": null,
            "border": null,
            "bottom": null,
            "display": null,
            "flex": null,
            "flex_flow": null,
            "grid_area": null,
            "grid_auto_columns": null,
            "grid_auto_flow": null,
            "grid_auto_rows": null,
            "grid_column": null,
            "grid_gap": null,
            "grid_row": null,
            "grid_template_areas": null,
            "grid_template_columns": null,
            "grid_template_rows": null,
            "height": null,
            "justify_content": null,
            "justify_items": null,
            "left": null,
            "margin": null,
            "max_height": null,
            "max_width": null,
            "min_height": null,
            "min_width": null,
            "object_fit": null,
            "object_position": null,
            "order": null,
            "overflow": null,
            "overflow_x": null,
            "overflow_y": null,
            "padding": null,
            "right": null,
            "top": null,
            "visibility": null,
            "width": null
          }
        },
        "2630407a26de42838174e63b18c92a00": {
          "model_module": "@jupyter-widgets/base",
          "model_name": "LayoutModel",
          "model_module_version": "1.2.0",
          "state": {
            "_model_module": "@jupyter-widgets/base",
            "_model_module_version": "1.2.0",
            "_model_name": "LayoutModel",
            "_view_count": null,
            "_view_module": "@jupyter-widgets/base",
            "_view_module_version": "1.2.0",
            "_view_name": "LayoutView",
            "align_content": null,
            "align_items": null,
            "align_self": null,
            "border": null,
            "bottom": null,
            "display": null,
            "flex": null,
            "flex_flow": null,
            "grid_area": null,
            "grid_auto_columns": null,
            "grid_auto_flow": null,
            "grid_auto_rows": null,
            "grid_column": null,
            "grid_gap": null,
            "grid_row": null,
            "grid_template_areas": null,
            "grid_template_columns": null,
            "grid_template_rows": null,
            "height": null,
            "justify_content": null,
            "justify_items": null,
            "left": null,
            "margin": null,
            "max_height": null,
            "max_width": null,
            "min_height": null,
            "min_width": null,
            "object_fit": null,
            "object_position": null,
            "order": null,
            "overflow": null,
            "overflow_x": null,
            "overflow_y": null,
            "padding": null,
            "right": null,
            "top": null,
            "visibility": null,
            "width": null
          }
        },
        "c82b0e39757b4339932bbd9dc51b4a20": {
          "model_module": "@jupyter-widgets/controls",
          "model_name": "DescriptionStyleModel",
          "model_module_version": "1.5.0",
          "state": {
            "_model_module": "@jupyter-widgets/controls",
            "_model_module_version": "1.5.0",
            "_model_name": "DescriptionStyleModel",
            "_view_count": null,
            "_view_module": "@jupyter-widgets/base",
            "_view_module_version": "1.2.0",
            "_view_name": "StyleView",
            "description_width": ""
          }
        },
        "101eeb9ea79e4166b06ab2ff2510d06c": {
          "model_module": "@jupyter-widgets/base",
          "model_name": "LayoutModel",
          "model_module_version": "1.2.0",
          "state": {
            "_model_module": "@jupyter-widgets/base",
            "_model_module_version": "1.2.0",
            "_model_name": "LayoutModel",
            "_view_count": null,
            "_view_module": "@jupyter-widgets/base",
            "_view_module_version": "1.2.0",
            "_view_name": "LayoutView",
            "align_content": null,
            "align_items": null,
            "align_self": null,
            "border": null,
            "bottom": null,
            "display": null,
            "flex": null,
            "flex_flow": null,
            "grid_area": null,
            "grid_auto_columns": null,
            "grid_auto_flow": null,
            "grid_auto_rows": null,
            "grid_column": null,
            "grid_gap": null,
            "grid_row": null,
            "grid_template_areas": null,
            "grid_template_columns": null,
            "grid_template_rows": null,
            "height": null,
            "justify_content": null,
            "justify_items": null,
            "left": null,
            "margin": null,
            "max_height": null,
            "max_width": null,
            "min_height": null,
            "min_width": null,
            "object_fit": null,
            "object_position": null,
            "order": null,
            "overflow": null,
            "overflow_x": null,
            "overflow_y": null,
            "padding": null,
            "right": null,
            "top": null,
            "visibility": null,
            "width": null
          }
        },
        "61d7b6bdad53407aa990178e96ab816e": {
          "model_module": "@jupyter-widgets/controls",
          "model_name": "ProgressStyleModel",
          "model_module_version": "1.5.0",
          "state": {
            "_model_module": "@jupyter-widgets/controls",
            "_model_module_version": "1.5.0",
            "_model_name": "ProgressStyleModel",
            "_view_count": null,
            "_view_module": "@jupyter-widgets/base",
            "_view_module_version": "1.2.0",
            "_view_name": "StyleView",
            "bar_color": null,
            "description_width": ""
          }
        },
        "a5f0688f41f34befb7e82b6131ef8f81": {
          "model_module": "@jupyter-widgets/base",
          "model_name": "LayoutModel",
          "model_module_version": "1.2.0",
          "state": {
            "_model_module": "@jupyter-widgets/base",
            "_model_module_version": "1.2.0",
            "_model_name": "LayoutModel",
            "_view_count": null,
            "_view_module": "@jupyter-widgets/base",
            "_view_module_version": "1.2.0",
            "_view_name": "LayoutView",
            "align_content": null,
            "align_items": null,
            "align_self": null,
            "border": null,
            "bottom": null,
            "display": null,
            "flex": null,
            "flex_flow": null,
            "grid_area": null,
            "grid_auto_columns": null,
            "grid_auto_flow": null,
            "grid_auto_rows": null,
            "grid_column": null,
            "grid_gap": null,
            "grid_row": null,
            "grid_template_areas": null,
            "grid_template_columns": null,
            "grid_template_rows": null,
            "height": null,
            "justify_content": null,
            "justify_items": null,
            "left": null,
            "margin": null,
            "max_height": null,
            "max_width": null,
            "min_height": null,
            "min_width": null,
            "object_fit": null,
            "object_position": null,
            "order": null,
            "overflow": null,
            "overflow_x": null,
            "overflow_y": null,
            "padding": null,
            "right": null,
            "top": null,
            "visibility": null,
            "width": null
          }
        },
        "e1ac7f4492554351926a1e7e02987e1a": {
          "model_module": "@jupyter-widgets/controls",
          "model_name": "DescriptionStyleModel",
          "model_module_version": "1.5.0",
          "state": {
            "_model_module": "@jupyter-widgets/controls",
            "_model_module_version": "1.5.0",
            "_model_name": "DescriptionStyleModel",
            "_view_count": null,
            "_view_module": "@jupyter-widgets/base",
            "_view_module_version": "1.2.0",
            "_view_name": "StyleView",
            "description_width": ""
          }
        },
        "f3044cf4bb4a418ab1b236e534ef7469": {
          "model_module": "@jupyter-widgets/controls",
          "model_name": "HBoxModel",
          "model_module_version": "1.5.0",
          "state": {
            "_dom_classes": [],
            "_model_module": "@jupyter-widgets/controls",
            "_model_module_version": "1.5.0",
            "_model_name": "HBoxModel",
            "_view_count": null,
            "_view_module": "@jupyter-widgets/controls",
            "_view_module_version": "1.5.0",
            "_view_name": "HBoxView",
            "box_style": "",
            "children": [
              "IPY_MODEL_c198f9e9742e48e49ee8f3feace668f4",
              "IPY_MODEL_96f8562fffcd4d88a78972290b96a5e2",
              "IPY_MODEL_2d3805fb9e214669b9d1253052f588b7"
            ],
            "layout": "IPY_MODEL_e41a0871949540d09bdcbc5e10e2bdc8"
          }
        },
        "c198f9e9742e48e49ee8f3feace668f4": {
          "model_module": "@jupyter-widgets/controls",
          "model_name": "HTMLModel",
          "model_module_version": "1.5.0",
          "state": {
            "_dom_classes": [],
            "_model_module": "@jupyter-widgets/controls",
            "_model_module_version": "1.5.0",
            "_model_name": "HTMLModel",
            "_view_count": null,
            "_view_module": "@jupyter-widgets/controls",
            "_view_module_version": "1.5.0",
            "_view_name": "HTMLView",
            "description": "",
            "description_tooltip": null,
            "layout": "IPY_MODEL_ab40bdec8b4b445196f9e3d2ceb71e94",
            "placeholder": "​",
            "style": "IPY_MODEL_4e29fd23e51049c69be5744f908a118e",
            "value": "tokenizer.json: 100%"
          }
        },
        "96f8562fffcd4d88a78972290b96a5e2": {
          "model_module": "@jupyter-widgets/controls",
          "model_name": "FloatProgressModel",
          "model_module_version": "1.5.0",
          "state": {
            "_dom_classes": [],
            "_model_module": "@jupyter-widgets/controls",
            "_model_module_version": "1.5.0",
            "_model_name": "FloatProgressModel",
            "_view_count": null,
            "_view_module": "@jupyter-widgets/controls",
            "_view_module_version": "1.5.0",
            "_view_name": "ProgressView",
            "bar_style": "success",
            "description": "",
            "description_tooltip": null,
            "layout": "IPY_MODEL_9f0353c38ae544a18177fc7586f37ced",
            "max": 711649,
            "min": 0,
            "orientation": "horizontal",
            "style": "IPY_MODEL_5aede8e6f60f4801a608b037a5559983",
            "value": 711649
          }
        },
        "2d3805fb9e214669b9d1253052f588b7": {
          "model_module": "@jupyter-widgets/controls",
          "model_name": "HTMLModel",
          "model_module_version": "1.5.0",
          "state": {
            "_dom_classes": [],
            "_model_module": "@jupyter-widgets/controls",
            "_model_module_version": "1.5.0",
            "_model_name": "HTMLModel",
            "_view_count": null,
            "_view_module": "@jupyter-widgets/controls",
            "_view_module_version": "1.5.0",
            "_view_name": "HTMLView",
            "description": "",
            "description_tooltip": null,
            "layout": "IPY_MODEL_0cd12812ab6b4a2e96c935ec3da672a8",
            "placeholder": "​",
            "style": "IPY_MODEL_f6ae93a56cf14831bb4e2af8c9ab713d",
            "value": " 712k/712k [00:00&lt;00:00, 4.13MB/s]"
          }
        },
        "e41a0871949540d09bdcbc5e10e2bdc8": {
          "model_module": "@jupyter-widgets/base",
          "model_name": "LayoutModel",
          "model_module_version": "1.2.0",
          "state": {
            "_model_module": "@jupyter-widgets/base",
            "_model_module_version": "1.2.0",
            "_model_name": "LayoutModel",
            "_view_count": null,
            "_view_module": "@jupyter-widgets/base",
            "_view_module_version": "1.2.0",
            "_view_name": "LayoutView",
            "align_content": null,
            "align_items": null,
            "align_self": null,
            "border": null,
            "bottom": null,
            "display": null,
            "flex": null,
            "flex_flow": null,
            "grid_area": null,
            "grid_auto_columns": null,
            "grid_auto_flow": null,
            "grid_auto_rows": null,
            "grid_column": null,
            "grid_gap": null,
            "grid_row": null,
            "grid_template_areas": null,
            "grid_template_columns": null,
            "grid_template_rows": null,
            "height": null,
            "justify_content": null,
            "justify_items": null,
            "left": null,
            "margin": null,
            "max_height": null,
            "max_width": null,
            "min_height": null,
            "min_width": null,
            "object_fit": null,
            "object_position": null,
            "order": null,
            "overflow": null,
            "overflow_x": null,
            "overflow_y": null,
            "padding": null,
            "right": null,
            "top": null,
            "visibility": null,
            "width": null
          }
        },
        "ab40bdec8b4b445196f9e3d2ceb71e94": {
          "model_module": "@jupyter-widgets/base",
          "model_name": "LayoutModel",
          "model_module_version": "1.2.0",
          "state": {
            "_model_module": "@jupyter-widgets/base",
            "_model_module_version": "1.2.0",
            "_model_name": "LayoutModel",
            "_view_count": null,
            "_view_module": "@jupyter-widgets/base",
            "_view_module_version": "1.2.0",
            "_view_name": "LayoutView",
            "align_content": null,
            "align_items": null,
            "align_self": null,
            "border": null,
            "bottom": null,
            "display": null,
            "flex": null,
            "flex_flow": null,
            "grid_area": null,
            "grid_auto_columns": null,
            "grid_auto_flow": null,
            "grid_auto_rows": null,
            "grid_column": null,
            "grid_gap": null,
            "grid_row": null,
            "grid_template_areas": null,
            "grid_template_columns": null,
            "grid_template_rows": null,
            "height": null,
            "justify_content": null,
            "justify_items": null,
            "left": null,
            "margin": null,
            "max_height": null,
            "max_width": null,
            "min_height": null,
            "min_width": null,
            "object_fit": null,
            "object_position": null,
            "order": null,
            "overflow": null,
            "overflow_x": null,
            "overflow_y": null,
            "padding": null,
            "right": null,
            "top": null,
            "visibility": null,
            "width": null
          }
        },
        "4e29fd23e51049c69be5744f908a118e": {
          "model_module": "@jupyter-widgets/controls",
          "model_name": "DescriptionStyleModel",
          "model_module_version": "1.5.0",
          "state": {
            "_model_module": "@jupyter-widgets/controls",
            "_model_module_version": "1.5.0",
            "_model_name": "DescriptionStyleModel",
            "_view_count": null,
            "_view_module": "@jupyter-widgets/base",
            "_view_module_version": "1.2.0",
            "_view_name": "StyleView",
            "description_width": ""
          }
        },
        "9f0353c38ae544a18177fc7586f37ced": {
          "model_module": "@jupyter-widgets/base",
          "model_name": "LayoutModel",
          "model_module_version": "1.2.0",
          "state": {
            "_model_module": "@jupyter-widgets/base",
            "_model_module_version": "1.2.0",
            "_model_name": "LayoutModel",
            "_view_count": null,
            "_view_module": "@jupyter-widgets/base",
            "_view_module_version": "1.2.0",
            "_view_name": "LayoutView",
            "align_content": null,
            "align_items": null,
            "align_self": null,
            "border": null,
            "bottom": null,
            "display": null,
            "flex": null,
            "flex_flow": null,
            "grid_area": null,
            "grid_auto_columns": null,
            "grid_auto_flow": null,
            "grid_auto_rows": null,
            "grid_column": null,
            "grid_gap": null,
            "grid_row": null,
            "grid_template_areas": null,
            "grid_template_columns": null,
            "grid_template_rows": null,
            "height": null,
            "justify_content": null,
            "justify_items": null,
            "left": null,
            "margin": null,
            "max_height": null,
            "max_width": null,
            "min_height": null,
            "min_width": null,
            "object_fit": null,
            "object_position": null,
            "order": null,
            "overflow": null,
            "overflow_x": null,
            "overflow_y": null,
            "padding": null,
            "right": null,
            "top": null,
            "visibility": null,
            "width": null
          }
        },
        "5aede8e6f60f4801a608b037a5559983": {
          "model_module": "@jupyter-widgets/controls",
          "model_name": "ProgressStyleModel",
          "model_module_version": "1.5.0",
          "state": {
            "_model_module": "@jupyter-widgets/controls",
            "_model_module_version": "1.5.0",
            "_model_name": "ProgressStyleModel",
            "_view_count": null,
            "_view_module": "@jupyter-widgets/base",
            "_view_module_version": "1.2.0",
            "_view_name": "StyleView",
            "bar_color": null,
            "description_width": ""
          }
        },
        "0cd12812ab6b4a2e96c935ec3da672a8": {
          "model_module": "@jupyter-widgets/base",
          "model_name": "LayoutModel",
          "model_module_version": "1.2.0",
          "state": {
            "_model_module": "@jupyter-widgets/base",
            "_model_module_version": "1.2.0",
            "_model_name": "LayoutModel",
            "_view_count": null,
            "_view_module": "@jupyter-widgets/base",
            "_view_module_version": "1.2.0",
            "_view_name": "LayoutView",
            "align_content": null,
            "align_items": null,
            "align_self": null,
            "border": null,
            "bottom": null,
            "display": null,
            "flex": null,
            "flex_flow": null,
            "grid_area": null,
            "grid_auto_columns": null,
            "grid_auto_flow": null,
            "grid_auto_rows": null,
            "grid_column": null,
            "grid_gap": null,
            "grid_row": null,
            "grid_template_areas": null,
            "grid_template_columns": null,
            "grid_template_rows": null,
            "height": null,
            "justify_content": null,
            "justify_items": null,
            "left": null,
            "margin": null,
            "max_height": null,
            "max_width": null,
            "min_height": null,
            "min_width": null,
            "object_fit": null,
            "object_position": null,
            "order": null,
            "overflow": null,
            "overflow_x": null,
            "overflow_y": null,
            "padding": null,
            "right": null,
            "top": null,
            "visibility": null,
            "width": null
          }
        },
        "f6ae93a56cf14831bb4e2af8c9ab713d": {
          "model_module": "@jupyter-widgets/controls",
          "model_name": "DescriptionStyleModel",
          "model_module_version": "1.5.0",
          "state": {
            "_model_module": "@jupyter-widgets/controls",
            "_model_module_version": "1.5.0",
            "_model_name": "DescriptionStyleModel",
            "_view_count": null,
            "_view_module": "@jupyter-widgets/base",
            "_view_module_version": "1.2.0",
            "_view_name": "StyleView",
            "description_width": ""
          }
        },
        "2876fb8aeeda4f4c8d65762e73410ca6": {
          "model_module": "@jupyter-widgets/controls",
          "model_name": "HBoxModel",
          "model_module_version": "1.5.0",
          "state": {
            "_dom_classes": [],
            "_model_module": "@jupyter-widgets/controls",
            "_model_module_version": "1.5.0",
            "_model_name": "HBoxModel",
            "_view_count": null,
            "_view_module": "@jupyter-widgets/controls",
            "_view_module_version": "1.5.0",
            "_view_name": "HBoxView",
            "box_style": "",
            "children": [
              "IPY_MODEL_3f2724f1d8844011891e4079dc6c4483",
              "IPY_MODEL_eee17f088fbc4a67b1c5dc24bc479ef2",
              "IPY_MODEL_060d45fea78a4840966b7b19b64709c4"
            ],
            "layout": "IPY_MODEL_55e279a533534634b12277a555c6f20d"
          }
        },
        "3f2724f1d8844011891e4079dc6c4483": {
          "model_module": "@jupyter-widgets/controls",
          "model_name": "HTMLModel",
          "model_module_version": "1.5.0",
          "state": {
            "_dom_classes": [],
            "_model_module": "@jupyter-widgets/controls",
            "_model_module_version": "1.5.0",
            "_model_name": "HTMLModel",
            "_view_count": null,
            "_view_module": "@jupyter-widgets/controls",
            "_view_module_version": "1.5.0",
            "_view_name": "HTMLView",
            "description": "",
            "description_tooltip": null,
            "layout": "IPY_MODEL_f012124093d748fca64bfe9bc2b80811",
            "placeholder": "​",
            "style": "IPY_MODEL_4e8f1f6e247348f5b2d5607a335825f9",
            "value": "model.onnx: 100%"
          }
        },
        "eee17f088fbc4a67b1c5dc24bc479ef2": {
          "model_module": "@jupyter-widgets/controls",
          "model_name": "FloatProgressModel",
          "model_module_version": "1.5.0",
          "state": {
            "_dom_classes": [],
            "_model_module": "@jupyter-widgets/controls",
            "_model_module_version": "1.5.0",
            "_model_name": "FloatProgressModel",
            "_view_count": null,
            "_view_module": "@jupyter-widgets/controls",
            "_view_module_version": "1.5.0",
            "_view_name": "ProgressView",
            "bar_style": "success",
            "description": "",
            "description_tooltip": null,
            "layout": "IPY_MODEL_f049a6db11d345c6a210c7eccbab6e90",
            "max": 532091260,
            "min": 0,
            "orientation": "horizontal",
            "style": "IPY_MODEL_26461ffb2265480cbe0a04f91df83302",
            "value": 532091260
          }
        },
        "060d45fea78a4840966b7b19b64709c4": {
          "model_module": "@jupyter-widgets/controls",
          "model_name": "HTMLModel",
          "model_module_version": "1.5.0",
          "state": {
            "_dom_classes": [],
            "_model_module": "@jupyter-widgets/controls",
            "_model_module_version": "1.5.0",
            "_model_name": "HTMLModel",
            "_view_count": null,
            "_view_module": "@jupyter-widgets/controls",
            "_view_module_version": "1.5.0",
            "_view_name": "HTMLView",
            "description": "",
            "description_tooltip": null,
            "layout": "IPY_MODEL_0afc562e66984108a310c40ba36027e0",
            "placeholder": "​",
            "style": "IPY_MODEL_1dd06232771045b7965416c4a27f1c8c",
            "value": " 532M/532M [00:03&lt;00:00, 185MB/s]"
          }
        },
        "55e279a533534634b12277a555c6f20d": {
          "model_module": "@jupyter-widgets/base",
          "model_name": "LayoutModel",
          "model_module_version": "1.2.0",
          "state": {
            "_model_module": "@jupyter-widgets/base",
            "_model_module_version": "1.2.0",
            "_model_name": "LayoutModel",
            "_view_count": null,
            "_view_module": "@jupyter-widgets/base",
            "_view_module_version": "1.2.0",
            "_view_name": "LayoutView",
            "align_content": null,
            "align_items": null,
            "align_self": null,
            "border": null,
            "bottom": null,
            "display": null,
            "flex": null,
            "flex_flow": null,
            "grid_area": null,
            "grid_auto_columns": null,
            "grid_auto_flow": null,
            "grid_auto_rows": null,
            "grid_column": null,
            "grid_gap": null,
            "grid_row": null,
            "grid_template_areas": null,
            "grid_template_columns": null,
            "grid_template_rows": null,
            "height": null,
            "justify_content": null,
            "justify_items": null,
            "left": null,
            "margin": null,
            "max_height": null,
            "max_width": null,
            "min_height": null,
            "min_width": null,
            "object_fit": null,
            "object_position": null,
            "order": null,
            "overflow": null,
            "overflow_x": null,
            "overflow_y": null,
            "padding": null,
            "right": null,
            "top": null,
            "visibility": null,
            "width": null
          }
        },
        "f012124093d748fca64bfe9bc2b80811": {
          "model_module": "@jupyter-widgets/base",
          "model_name": "LayoutModel",
          "model_module_version": "1.2.0",
          "state": {
            "_model_module": "@jupyter-widgets/base",
            "_model_module_version": "1.2.0",
            "_model_name": "LayoutModel",
            "_view_count": null,
            "_view_module": "@jupyter-widgets/base",
            "_view_module_version": "1.2.0",
            "_view_name": "LayoutView",
            "align_content": null,
            "align_items": null,
            "align_self": null,
            "border": null,
            "bottom": null,
            "display": null,
            "flex": null,
            "flex_flow": null,
            "grid_area": null,
            "grid_auto_columns": null,
            "grid_auto_flow": null,
            "grid_auto_rows": null,
            "grid_column": null,
            "grid_gap": null,
            "grid_row": null,
            "grid_template_areas": null,
            "grid_template_columns": null,
            "grid_template_rows": null,
            "height": null,
            "justify_content": null,
            "justify_items": null,
            "left": null,
            "margin": null,
            "max_height": null,
            "max_width": null,
            "min_height": null,
            "min_width": null,
            "object_fit": null,
            "object_position": null,
            "order": null,
            "overflow": null,
            "overflow_x": null,
            "overflow_y": null,
            "padding": null,
            "right": null,
            "top": null,
            "visibility": null,
            "width": null
          }
        },
        "4e8f1f6e247348f5b2d5607a335825f9": {
          "model_module": "@jupyter-widgets/controls",
          "model_name": "DescriptionStyleModel",
          "model_module_version": "1.5.0",
          "state": {
            "_model_module": "@jupyter-widgets/controls",
            "_model_module_version": "1.5.0",
            "_model_name": "DescriptionStyleModel",
            "_view_count": null,
            "_view_module": "@jupyter-widgets/base",
            "_view_module_version": "1.2.0",
            "_view_name": "StyleView",
            "description_width": ""
          }
        },
        "f049a6db11d345c6a210c7eccbab6e90": {
          "model_module": "@jupyter-widgets/base",
          "model_name": "LayoutModel",
          "model_module_version": "1.2.0",
          "state": {
            "_model_module": "@jupyter-widgets/base",
            "_model_module_version": "1.2.0",
            "_model_name": "LayoutModel",
            "_view_count": null,
            "_view_module": "@jupyter-widgets/base",
            "_view_module_version": "1.2.0",
            "_view_name": "LayoutView",
            "align_content": null,
            "align_items": null,
            "align_self": null,
            "border": null,
            "bottom": null,
            "display": null,
            "flex": null,
            "flex_flow": null,
            "grid_area": null,
            "grid_auto_columns": null,
            "grid_auto_flow": null,
            "grid_auto_rows": null,
            "grid_column": null,
            "grid_gap": null,
            "grid_row": null,
            "grid_template_areas": null,
            "grid_template_columns": null,
            "grid_template_rows": null,
            "height": null,
            "justify_content": null,
            "justify_items": null,
            "left": null,
            "margin": null,
            "max_height": null,
            "max_width": null,
            "min_height": null,
            "min_width": null,
            "object_fit": null,
            "object_position": null,
            "order": null,
            "overflow": null,
            "overflow_x": null,
            "overflow_y": null,
            "padding": null,
            "right": null,
            "top": null,
            "visibility": null,
            "width": null
          }
        },
        "26461ffb2265480cbe0a04f91df83302": {
          "model_module": "@jupyter-widgets/controls",
          "model_name": "ProgressStyleModel",
          "model_module_version": "1.5.0",
          "state": {
            "_model_module": "@jupyter-widgets/controls",
            "_model_module_version": "1.5.0",
            "_model_name": "ProgressStyleModel",
            "_view_count": null,
            "_view_module": "@jupyter-widgets/base",
            "_view_module_version": "1.2.0",
            "_view_name": "StyleView",
            "bar_color": null,
            "description_width": ""
          }
        },
        "0afc562e66984108a310c40ba36027e0": {
          "model_module": "@jupyter-widgets/base",
          "model_name": "LayoutModel",
          "model_module_version": "1.2.0",
          "state": {
            "_model_module": "@jupyter-widgets/base",
            "_model_module_version": "1.2.0",
            "_model_name": "LayoutModel",
            "_view_count": null,
            "_view_module": "@jupyter-widgets/base",
            "_view_module_version": "1.2.0",
            "_view_name": "LayoutView",
            "align_content": null,
            "align_items": null,
            "align_self": null,
            "border": null,
            "bottom": null,
            "display": null,
            "flex": null,
            "flex_flow": null,
            "grid_area": null,
            "grid_auto_columns": null,
            "grid_auto_flow": null,
            "grid_auto_rows": null,
            "grid_column": null,
            "grid_gap": null,
            "grid_row": null,
            "grid_template_areas": null,
            "grid_template_columns": null,
            "grid_template_rows": null,
            "height": null,
            "justify_content": null,
            "justify_items": null,
            "left": null,
            "margin": null,
            "max_height": null,
            "max_width": null,
            "min_height": null,
            "min_width": null,
            "object_fit": null,
            "object_position": null,
            "order": null,
            "overflow": null,
            "overflow_x": null,
            "overflow_y": null,
            "padding": null,
            "right": null,
            "top": null,
            "visibility": null,
            "width": null
          }
        },
        "1dd06232771045b7965416c4a27f1c8c": {
          "model_module": "@jupyter-widgets/controls",
          "model_name": "DescriptionStyleModel",
          "model_module_version": "1.5.0",
          "state": {
            "_model_module": "@jupyter-widgets/controls",
            "_model_module_version": "1.5.0",
            "_model_name": "DescriptionStyleModel",
            "_view_count": null,
            "_view_module": "@jupyter-widgets/base",
            "_view_module_version": "1.2.0",
            "_view_name": "StyleView",
            "description_width": ""
          }
        },
        "6188d9e327b64424931bd92464f2faec": {
          "model_module": "@jupyter-widgets/controls",
          "model_name": "HBoxModel",
          "model_module_version": "1.5.0",
          "state": {
            "_dom_classes": [],
            "_model_module": "@jupyter-widgets/controls",
            "_model_module_version": "1.5.0",
            "_model_name": "HBoxModel",
            "_view_count": null,
            "_view_module": "@jupyter-widgets/controls",
            "_view_module_version": "1.5.0",
            "_view_name": "HBoxView",
            "box_style": "",
            "children": [
              "IPY_MODEL_f7d007d531b9439aa4c08b83a667e8ec",
              "IPY_MODEL_401e561b58ee469db8e1cfcf450e5d8a",
              "IPY_MODEL_dc38cba2f601479eaa9c11b9e888201b"
            ],
            "layout": "IPY_MODEL_70db45f0d7fc4312b15c08330fb10120"
          }
        },
        "f7d007d531b9439aa4c08b83a667e8ec": {
          "model_module": "@jupyter-widgets/controls",
          "model_name": "HTMLModel",
          "model_module_version": "1.5.0",
          "state": {
            "_dom_classes": [],
            "_model_module": "@jupyter-widgets/controls",
            "_model_module_version": "1.5.0",
            "_model_name": "HTMLModel",
            "_view_count": null,
            "_view_module": "@jupyter-widgets/controls",
            "_view_module_version": "1.5.0",
            "_view_name": "HTMLView",
            "description": "",
            "description_tooltip": null,
            "layout": "IPY_MODEL_b84bd879adfa4a07b8d264118da30036",
            "placeholder": "​",
            "style": "IPY_MODEL_5661c90269064be5b29e59ff8fd6dad8",
            "value": "Fetching 5 files: 100%"
          }
        },
        "401e561b58ee469db8e1cfcf450e5d8a": {
          "model_module": "@jupyter-widgets/controls",
          "model_name": "FloatProgressModel",
          "model_module_version": "1.5.0",
          "state": {
            "_dom_classes": [],
            "_model_module": "@jupyter-widgets/controls",
            "_model_module_version": "1.5.0",
            "_model_name": "FloatProgressModel",
            "_view_count": null,
            "_view_module": "@jupyter-widgets/controls",
            "_view_module_version": "1.5.0",
            "_view_name": "ProgressView",
            "bar_style": "success",
            "description": "",
            "description_tooltip": null,
            "layout": "IPY_MODEL_3ccab60a50a1464ba78a63ccdeb5c920",
            "max": 5,
            "min": 0,
            "orientation": "horizontal",
            "style": "IPY_MODEL_9261a409ccbe4f0da3440260a38f514f",
            "value": 5
          }
        },
        "dc38cba2f601479eaa9c11b9e888201b": {
          "model_module": "@jupyter-widgets/controls",
          "model_name": "HTMLModel",
          "model_module_version": "1.5.0",
          "state": {
            "_dom_classes": [],
            "_model_module": "@jupyter-widgets/controls",
            "_model_module_version": "1.5.0",
            "_model_name": "HTMLModel",
            "_view_count": null,
            "_view_module": "@jupyter-widgets/controls",
            "_view_module_version": "1.5.0",
            "_view_name": "HTMLView",
            "description": "",
            "description_tooltip": null,
            "layout": "IPY_MODEL_059f55fd8cae4e08b312d54ed5294dc5",
            "placeholder": "​",
            "style": "IPY_MODEL_310e232c86384a2298adc3a54f48c4da",
            "value": " 5/5 [00:00&lt;00:00, 165.12it/s]"
          }
        },
        "70db45f0d7fc4312b15c08330fb10120": {
          "model_module": "@jupyter-widgets/base",
          "model_name": "LayoutModel",
          "model_module_version": "1.2.0",
          "state": {
            "_model_module": "@jupyter-widgets/base",
            "_model_module_version": "1.2.0",
            "_model_name": "LayoutModel",
            "_view_count": null,
            "_view_module": "@jupyter-widgets/base",
            "_view_module_version": "1.2.0",
            "_view_name": "LayoutView",
            "align_content": null,
            "align_items": null,
            "align_self": null,
            "border": null,
            "bottom": null,
            "display": null,
            "flex": null,
            "flex_flow": null,
            "grid_area": null,
            "grid_auto_columns": null,
            "grid_auto_flow": null,
            "grid_auto_rows": null,
            "grid_column": null,
            "grid_gap": null,
            "grid_row": null,
            "grid_template_areas": null,
            "grid_template_columns": null,
            "grid_template_rows": null,
            "height": null,
            "justify_content": null,
            "justify_items": null,
            "left": null,
            "margin": null,
            "max_height": null,
            "max_width": null,
            "min_height": null,
            "min_width": null,
            "object_fit": null,
            "object_position": null,
            "order": null,
            "overflow": null,
            "overflow_x": null,
            "overflow_y": null,
            "padding": null,
            "right": null,
            "top": null,
            "visibility": null,
            "width": null
          }
        },
        "b84bd879adfa4a07b8d264118da30036": {
          "model_module": "@jupyter-widgets/base",
          "model_name": "LayoutModel",
          "model_module_version": "1.2.0",
          "state": {
            "_model_module": "@jupyter-widgets/base",
            "_model_module_version": "1.2.0",
            "_model_name": "LayoutModel",
            "_view_count": null,
            "_view_module": "@jupyter-widgets/base",
            "_view_module_version": "1.2.0",
            "_view_name": "LayoutView",
            "align_content": null,
            "align_items": null,
            "align_self": null,
            "border": null,
            "bottom": null,
            "display": null,
            "flex": null,
            "flex_flow": null,
            "grid_area": null,
            "grid_auto_columns": null,
            "grid_auto_flow": null,
            "grid_auto_rows": null,
            "grid_column": null,
            "grid_gap": null,
            "grid_row": null,
            "grid_template_areas": null,
            "grid_template_columns": null,
            "grid_template_rows": null,
            "height": null,
            "justify_content": null,
            "justify_items": null,
            "left": null,
            "margin": null,
            "max_height": null,
            "max_width": null,
            "min_height": null,
            "min_width": null,
            "object_fit": null,
            "object_position": null,
            "order": null,
            "overflow": null,
            "overflow_x": null,
            "overflow_y": null,
            "padding": null,
            "right": null,
            "top": null,
            "visibility": null,
            "width": null
          }
        },
        "5661c90269064be5b29e59ff8fd6dad8": {
          "model_module": "@jupyter-widgets/controls",
          "model_name": "DescriptionStyleModel",
          "model_module_version": "1.5.0",
          "state": {
            "_model_module": "@jupyter-widgets/controls",
            "_model_module_version": "1.5.0",
            "_model_name": "DescriptionStyleModel",
            "_view_count": null,
            "_view_module": "@jupyter-widgets/base",
            "_view_module_version": "1.2.0",
            "_view_name": "StyleView",
            "description_width": ""
          }
        },
        "3ccab60a50a1464ba78a63ccdeb5c920": {
          "model_module": "@jupyter-widgets/base",
          "model_name": "LayoutModel",
          "model_module_version": "1.2.0",
          "state": {
            "_model_module": "@jupyter-widgets/base",
            "_model_module_version": "1.2.0",
            "_model_name": "LayoutModel",
            "_view_count": null,
            "_view_module": "@jupyter-widgets/base",
            "_view_module_version": "1.2.0",
            "_view_name": "LayoutView",
            "align_content": null,
            "align_items": null,
            "align_self": null,
            "border": null,
            "bottom": null,
            "display": null,
            "flex": null,
            "flex_flow": null,
            "grid_area": null,
            "grid_auto_columns": null,
            "grid_auto_flow": null,
            "grid_auto_rows": null,
            "grid_column": null,
            "grid_gap": null,
            "grid_row": null,
            "grid_template_areas": null,
            "grid_template_columns": null,
            "grid_template_rows": null,
            "height": null,
            "justify_content": null,
            "justify_items": null,
            "left": null,
            "margin": null,
            "max_height": null,
            "max_width": null,
            "min_height": null,
            "min_width": null,
            "object_fit": null,
            "object_position": null,
            "order": null,
            "overflow": null,
            "overflow_x": null,
            "overflow_y": null,
            "padding": null,
            "right": null,
            "top": null,
            "visibility": null,
            "width": null
          }
        },
        "9261a409ccbe4f0da3440260a38f514f": {
          "model_module": "@jupyter-widgets/controls",
          "model_name": "ProgressStyleModel",
          "model_module_version": "1.5.0",
          "state": {
            "_model_module": "@jupyter-widgets/controls",
            "_model_module_version": "1.5.0",
            "_model_name": "ProgressStyleModel",
            "_view_count": null,
            "_view_module": "@jupyter-widgets/base",
            "_view_module_version": "1.2.0",
            "_view_name": "StyleView",
            "bar_color": null,
            "description_width": ""
          }
        },
        "059f55fd8cae4e08b312d54ed5294dc5": {
          "model_module": "@jupyter-widgets/base",
          "model_name": "LayoutModel",
          "model_module_version": "1.2.0",
          "state": {
            "_model_module": "@jupyter-widgets/base",
            "_model_module_version": "1.2.0",
            "_model_name": "LayoutModel",
            "_view_count": null,
            "_view_module": "@jupyter-widgets/base",
            "_view_module_version": "1.2.0",
            "_view_name": "LayoutView",
            "align_content": null,
            "align_items": null,
            "align_self": null,
            "border": null,
            "bottom": null,
            "display": null,
            "flex": null,
            "flex_flow": null,
            "grid_area": null,
            "grid_auto_columns": null,
            "grid_auto_flow": null,
            "grid_auto_rows": null,
            "grid_column": null,
            "grid_gap": null,
            "grid_row": null,
            "grid_template_areas": null,
            "grid_template_columns": null,
            "grid_template_rows": null,
            "height": null,
            "justify_content": null,
            "justify_items": null,
            "left": null,
            "margin": null,
            "max_height": null,
            "max_width": null,
            "min_height": null,
            "min_width": null,
            "object_fit": null,
            "object_position": null,
            "order": null,
            "overflow": null,
            "overflow_x": null,
            "overflow_y": null,
            "padding": null,
            "right": null,
            "top": null,
            "visibility": null,
            "width": null
          }
        },
        "310e232c86384a2298adc3a54f48c4da": {
          "model_module": "@jupyter-widgets/controls",
          "model_name": "DescriptionStyleModel",
          "model_module_version": "1.5.0",
          "state": {
            "_model_module": "@jupyter-widgets/controls",
            "_model_module_version": "1.5.0",
            "_model_name": "DescriptionStyleModel",
            "_view_count": null,
            "_view_module": "@jupyter-widgets/base",
            "_view_module_version": "1.2.0",
            "_view_name": "StyleView",
            "description_width": ""
          }
        },
        "cee7644b23424c25b8a8285f5e8aeb28": {
          "model_module": "@jupyter-widgets/controls",
          "model_name": "HBoxModel",
          "model_module_version": "1.5.0",
          "state": {
            "_dom_classes": [],
            "_model_module": "@jupyter-widgets/controls",
            "_model_module_version": "1.5.0",
            "_model_name": "HBoxModel",
            "_view_count": null,
            "_view_module": "@jupyter-widgets/controls",
            "_view_module_version": "1.5.0",
            "_view_name": "HBoxView",
            "box_style": "",
            "children": [
              "IPY_MODEL_641b9cb9345148ef9e5a779023ce5c30",
              "IPY_MODEL_3814909495dc4b5f88cf0ffc48ea622e",
              "IPY_MODEL_6710dde681b44a5ea0d28d3af9aa245b"
            ],
            "layout": "IPY_MODEL_426e37d651c042d594923c5f8dd0be7c"
          }
        },
        "641b9cb9345148ef9e5a779023ce5c30": {
          "model_module": "@jupyter-widgets/controls",
          "model_name": "HTMLModel",
          "model_module_version": "1.5.0",
          "state": {
            "_dom_classes": [],
            "_model_module": "@jupyter-widgets/controls",
            "_model_module_version": "1.5.0",
            "_model_name": "HTMLModel",
            "_view_count": null,
            "_view_module": "@jupyter-widgets/controls",
            "_view_module_version": "1.5.0",
            "_view_name": "HTMLView",
            "description": "",
            "description_tooltip": null,
            "layout": "IPY_MODEL_d3df75e94af44985a11f90786d985dd5",
            "placeholder": "​",
            "style": "IPY_MODEL_c2ea18a12b19466f8f675ed262fb993f",
            "value": "Fetching 5 files: 100%"
          }
        },
        "3814909495dc4b5f88cf0ffc48ea622e": {
          "model_module": "@jupyter-widgets/controls",
          "model_name": "FloatProgressModel",
          "model_module_version": "1.5.0",
          "state": {
            "_dom_classes": [],
            "_model_module": "@jupyter-widgets/controls",
            "_model_module_version": "1.5.0",
            "_model_name": "FloatProgressModel",
            "_view_count": null,
            "_view_module": "@jupyter-widgets/controls",
            "_view_module_version": "1.5.0",
            "_view_name": "ProgressView",
            "bar_style": "success",
            "description": "",
            "description_tooltip": null,
            "layout": "IPY_MODEL_111c90bc135443cb8a85328c5dac4b99",
            "max": 5,
            "min": 0,
            "orientation": "horizontal",
            "style": "IPY_MODEL_8de27f551b184ae48d77882f0f04ab2f",
            "value": 5
          }
        },
        "6710dde681b44a5ea0d28d3af9aa245b": {
          "model_module": "@jupyter-widgets/controls",
          "model_name": "HTMLModel",
          "model_module_version": "1.5.0",
          "state": {
            "_dom_classes": [],
            "_model_module": "@jupyter-widgets/controls",
            "_model_module_version": "1.5.0",
            "_model_name": "HTMLModel",
            "_view_count": null,
            "_view_module": "@jupyter-widgets/controls",
            "_view_module_version": "1.5.0",
            "_view_name": "HTMLView",
            "description": "",
            "description_tooltip": null,
            "layout": "IPY_MODEL_45266ae5000d4e13bd5017b1ce16b924",
            "placeholder": "​",
            "style": "IPY_MODEL_f31ee0d4a19249f3a6962698918e130e",
            "value": " 5/5 [00:00&lt;00:00, 214.98it/s]"
          }
        },
        "426e37d651c042d594923c5f8dd0be7c": {
          "model_module": "@jupyter-widgets/base",
          "model_name": "LayoutModel",
          "model_module_version": "1.2.0",
          "state": {
            "_model_module": "@jupyter-widgets/base",
            "_model_module_version": "1.2.0",
            "_model_name": "LayoutModel",
            "_view_count": null,
            "_view_module": "@jupyter-widgets/base",
            "_view_module_version": "1.2.0",
            "_view_name": "LayoutView",
            "align_content": null,
            "align_items": null,
            "align_self": null,
            "border": null,
            "bottom": null,
            "display": null,
            "flex": null,
            "flex_flow": null,
            "grid_area": null,
            "grid_auto_columns": null,
            "grid_auto_flow": null,
            "grid_auto_rows": null,
            "grid_column": null,
            "grid_gap": null,
            "grid_row": null,
            "grid_template_areas": null,
            "grid_template_columns": null,
            "grid_template_rows": null,
            "height": null,
            "justify_content": null,
            "justify_items": null,
            "left": null,
            "margin": null,
            "max_height": null,
            "max_width": null,
            "min_height": null,
            "min_width": null,
            "object_fit": null,
            "object_position": null,
            "order": null,
            "overflow": null,
            "overflow_x": null,
            "overflow_y": null,
            "padding": null,
            "right": null,
            "top": null,
            "visibility": null,
            "width": null
          }
        },
        "d3df75e94af44985a11f90786d985dd5": {
          "model_module": "@jupyter-widgets/base",
          "model_name": "LayoutModel",
          "model_module_version": "1.2.0",
          "state": {
            "_model_module": "@jupyter-widgets/base",
            "_model_module_version": "1.2.0",
            "_model_name": "LayoutModel",
            "_view_count": null,
            "_view_module": "@jupyter-widgets/base",
            "_view_module_version": "1.2.0",
            "_view_name": "LayoutView",
            "align_content": null,
            "align_items": null,
            "align_self": null,
            "border": null,
            "bottom": null,
            "display": null,
            "flex": null,
            "flex_flow": null,
            "grid_area": null,
            "grid_auto_columns": null,
            "grid_auto_flow": null,
            "grid_auto_rows": null,
            "grid_column": null,
            "grid_gap": null,
            "grid_row": null,
            "grid_template_areas": null,
            "grid_template_columns": null,
            "grid_template_rows": null,
            "height": null,
            "justify_content": null,
            "justify_items": null,
            "left": null,
            "margin": null,
            "max_height": null,
            "max_width": null,
            "min_height": null,
            "min_width": null,
            "object_fit": null,
            "object_position": null,
            "order": null,
            "overflow": null,
            "overflow_x": null,
            "overflow_y": null,
            "padding": null,
            "right": null,
            "top": null,
            "visibility": null,
            "width": null
          }
        },
        "c2ea18a12b19466f8f675ed262fb993f": {
          "model_module": "@jupyter-widgets/controls",
          "model_name": "DescriptionStyleModel",
          "model_module_version": "1.5.0",
          "state": {
            "_model_module": "@jupyter-widgets/controls",
            "_model_module_version": "1.5.0",
            "_model_name": "DescriptionStyleModel",
            "_view_count": null,
            "_view_module": "@jupyter-widgets/base",
            "_view_module_version": "1.2.0",
            "_view_name": "StyleView",
            "description_width": ""
          }
        },
        "111c90bc135443cb8a85328c5dac4b99": {
          "model_module": "@jupyter-widgets/base",
          "model_name": "LayoutModel",
          "model_module_version": "1.2.0",
          "state": {
            "_model_module": "@jupyter-widgets/base",
            "_model_module_version": "1.2.0",
            "_model_name": "LayoutModel",
            "_view_count": null,
            "_view_module": "@jupyter-widgets/base",
            "_view_module_version": "1.2.0",
            "_view_name": "LayoutView",
            "align_content": null,
            "align_items": null,
            "align_self": null,
            "border": null,
            "bottom": null,
            "display": null,
            "flex": null,
            "flex_flow": null,
            "grid_area": null,
            "grid_auto_columns": null,
            "grid_auto_flow": null,
            "grid_auto_rows": null,
            "grid_column": null,
            "grid_gap": null,
            "grid_row": null,
            "grid_template_areas": null,
            "grid_template_columns": null,
            "grid_template_rows": null,
            "height": null,
            "justify_content": null,
            "justify_items": null,
            "left": null,
            "margin": null,
            "max_height": null,
            "max_width": null,
            "min_height": null,
            "min_width": null,
            "object_fit": null,
            "object_position": null,
            "order": null,
            "overflow": null,
            "overflow_x": null,
            "overflow_y": null,
            "padding": null,
            "right": null,
            "top": null,
            "visibility": null,
            "width": null
          }
        },
        "8de27f551b184ae48d77882f0f04ab2f": {
          "model_module": "@jupyter-widgets/controls",
          "model_name": "ProgressStyleModel",
          "model_module_version": "1.5.0",
          "state": {
            "_model_module": "@jupyter-widgets/controls",
            "_model_module_version": "1.5.0",
            "_model_name": "ProgressStyleModel",
            "_view_count": null,
            "_view_module": "@jupyter-widgets/base",
            "_view_module_version": "1.2.0",
            "_view_name": "StyleView",
            "bar_color": null,
            "description_width": ""
          }
        },
        "45266ae5000d4e13bd5017b1ce16b924": {
          "model_module": "@jupyter-widgets/base",
          "model_name": "LayoutModel",
          "model_module_version": "1.2.0",
          "state": {
            "_model_module": "@jupyter-widgets/base",
            "_model_module_version": "1.2.0",
            "_model_name": "LayoutModel",
            "_view_count": null,
            "_view_module": "@jupyter-widgets/base",
            "_view_module_version": "1.2.0",
            "_view_name": "LayoutView",
            "align_content": null,
            "align_items": null,
            "align_self": null,
            "border": null,
            "bottom": null,
            "display": null,
            "flex": null,
            "flex_flow": null,
            "grid_area": null,
            "grid_auto_columns": null,
            "grid_auto_flow": null,
            "grid_auto_rows": null,
            "grid_column": null,
            "grid_gap": null,
            "grid_row": null,
            "grid_template_areas": null,
            "grid_template_columns": null,
            "grid_template_rows": null,
            "height": null,
            "justify_content": null,
            "justify_items": null,
            "left": null,
            "margin": null,
            "max_height": null,
            "max_width": null,
            "min_height": null,
            "min_width": null,
            "object_fit": null,
            "object_position": null,
            "order": null,
            "overflow": null,
            "overflow_x": null,
            "overflow_y": null,
            "padding": null,
            "right": null,
            "top": null,
            "visibility": null,
            "width": null
          }
        },
        "f31ee0d4a19249f3a6962698918e130e": {
          "model_module": "@jupyter-widgets/controls",
          "model_name": "DescriptionStyleModel",
          "model_module_version": "1.5.0",
          "state": {
            "_model_module": "@jupyter-widgets/controls",
            "_model_module_version": "1.5.0",
            "_model_name": "DescriptionStyleModel",
            "_view_count": null,
            "_view_module": "@jupyter-widgets/base",
            "_view_module_version": "1.2.0",
            "_view_name": "StyleView",
            "description_width": ""
          }
        },
        "7d9d5e2f93dc41e7b21312986b75a12d": {
          "model_module": "@jupyter-widgets/controls",
          "model_name": "HBoxModel",
          "model_module_version": "1.5.0",
          "state": {
            "_dom_classes": [],
            "_model_module": "@jupyter-widgets/controls",
            "_model_module_version": "1.5.0",
            "_model_name": "HBoxModel",
            "_view_count": null,
            "_view_module": "@jupyter-widgets/controls",
            "_view_module_version": "1.5.0",
            "_view_name": "HBoxView",
            "box_style": "",
            "children": [
              "IPY_MODEL_f224d87a3c754ab09b3337307a968b84",
              "IPY_MODEL_fe7a857047f944a2ba81bc2fb9703b94",
              "IPY_MODEL_3031b253e09149b69a96f6e6c6618586"
            ],
            "layout": "IPY_MODEL_3744143625b3427e8e5e7c646d3da423"
          }
        },
        "f224d87a3c754ab09b3337307a968b84": {
          "model_module": "@jupyter-widgets/controls",
          "model_name": "HTMLModel",
          "model_module_version": "1.5.0",
          "state": {
            "_dom_classes": [],
            "_model_module": "@jupyter-widgets/controls",
            "_model_module_version": "1.5.0",
            "_model_name": "HTMLModel",
            "_view_count": null,
            "_view_module": "@jupyter-widgets/controls",
            "_view_module_version": "1.5.0",
            "_view_name": "HTMLView",
            "description": "",
            "description_tooltip": null,
            "layout": "IPY_MODEL_f56a161e3a8945c6ad89c313cbb87762",
            "placeholder": "​",
            "style": "IPY_MODEL_24332430712b497987fc5a3ffb99f72c",
            "value": "Fetching 5 files: 100%"
          }
        },
        "fe7a857047f944a2ba81bc2fb9703b94": {
          "model_module": "@jupyter-widgets/controls",
          "model_name": "FloatProgressModel",
          "model_module_version": "1.5.0",
          "state": {
            "_dom_classes": [],
            "_model_module": "@jupyter-widgets/controls",
            "_model_module_version": "1.5.0",
            "_model_name": "FloatProgressModel",
            "_view_count": null,
            "_view_module": "@jupyter-widgets/controls",
            "_view_module_version": "1.5.0",
            "_view_name": "ProgressView",
            "bar_style": "success",
            "description": "",
            "description_tooltip": null,
            "layout": "IPY_MODEL_341ae2fa1125432dadd6ef130a99a9fa",
            "max": 5,
            "min": 0,
            "orientation": "horizontal",
            "style": "IPY_MODEL_3b963401dbb84ce09c91c9ffa1429d0a",
            "value": 5
          }
        },
        "3031b253e09149b69a96f6e6c6618586": {
          "model_module": "@jupyter-widgets/controls",
          "model_name": "HTMLModel",
          "model_module_version": "1.5.0",
          "state": {
            "_dom_classes": [],
            "_model_module": "@jupyter-widgets/controls",
            "_model_module_version": "1.5.0",
            "_model_name": "HTMLModel",
            "_view_count": null,
            "_view_module": "@jupyter-widgets/controls",
            "_view_module_version": "1.5.0",
            "_view_name": "HTMLView",
            "description": "",
            "description_tooltip": null,
            "layout": "IPY_MODEL_c6f3495378bf4188a6f91d8ff8481ff6",
            "placeholder": "​",
            "style": "IPY_MODEL_44c8c11c3e434f1590de13bb9afae967",
            "value": " 5/5 [00:00&lt;00:00, 253.09it/s]"
          }
        },
        "3744143625b3427e8e5e7c646d3da423": {
          "model_module": "@jupyter-widgets/base",
          "model_name": "LayoutModel",
          "model_module_version": "1.2.0",
          "state": {
            "_model_module": "@jupyter-widgets/base",
            "_model_module_version": "1.2.0",
            "_model_name": "LayoutModel",
            "_view_count": null,
            "_view_module": "@jupyter-widgets/base",
            "_view_module_version": "1.2.0",
            "_view_name": "LayoutView",
            "align_content": null,
            "align_items": null,
            "align_self": null,
            "border": null,
            "bottom": null,
            "display": null,
            "flex": null,
            "flex_flow": null,
            "grid_area": null,
            "grid_auto_columns": null,
            "grid_auto_flow": null,
            "grid_auto_rows": null,
            "grid_column": null,
            "grid_gap": null,
            "grid_row": null,
            "grid_template_areas": null,
            "grid_template_columns": null,
            "grid_template_rows": null,
            "height": null,
            "justify_content": null,
            "justify_items": null,
            "left": null,
            "margin": null,
            "max_height": null,
            "max_width": null,
            "min_height": null,
            "min_width": null,
            "object_fit": null,
            "object_position": null,
            "order": null,
            "overflow": null,
            "overflow_x": null,
            "overflow_y": null,
            "padding": null,
            "right": null,
            "top": null,
            "visibility": null,
            "width": null
          }
        },
        "f56a161e3a8945c6ad89c313cbb87762": {
          "model_module": "@jupyter-widgets/base",
          "model_name": "LayoutModel",
          "model_module_version": "1.2.0",
          "state": {
            "_model_module": "@jupyter-widgets/base",
            "_model_module_version": "1.2.0",
            "_model_name": "LayoutModel",
            "_view_count": null,
            "_view_module": "@jupyter-widgets/base",
            "_view_module_version": "1.2.0",
            "_view_name": "LayoutView",
            "align_content": null,
            "align_items": null,
            "align_self": null,
            "border": null,
            "bottom": null,
            "display": null,
            "flex": null,
            "flex_flow": null,
            "grid_area": null,
            "grid_auto_columns": null,
            "grid_auto_flow": null,
            "grid_auto_rows": null,
            "grid_column": null,
            "grid_gap": null,
            "grid_row": null,
            "grid_template_areas": null,
            "grid_template_columns": null,
            "grid_template_rows": null,
            "height": null,
            "justify_content": null,
            "justify_items": null,
            "left": null,
            "margin": null,
            "max_height": null,
            "max_width": null,
            "min_height": null,
            "min_width": null,
            "object_fit": null,
            "object_position": null,
            "order": null,
            "overflow": null,
            "overflow_x": null,
            "overflow_y": null,
            "padding": null,
            "right": null,
            "top": null,
            "visibility": null,
            "width": null
          }
        },
        "24332430712b497987fc5a3ffb99f72c": {
          "model_module": "@jupyter-widgets/controls",
          "model_name": "DescriptionStyleModel",
          "model_module_version": "1.5.0",
          "state": {
            "_model_module": "@jupyter-widgets/controls",
            "_model_module_version": "1.5.0",
            "_model_name": "DescriptionStyleModel",
            "_view_count": null,
            "_view_module": "@jupyter-widgets/base",
            "_view_module_version": "1.2.0",
            "_view_name": "StyleView",
            "description_width": ""
          }
        },
        "341ae2fa1125432dadd6ef130a99a9fa": {
          "model_module": "@jupyter-widgets/base",
          "model_name": "LayoutModel",
          "model_module_version": "1.2.0",
          "state": {
            "_model_module": "@jupyter-widgets/base",
            "_model_module_version": "1.2.0",
            "_model_name": "LayoutModel",
            "_view_count": null,
            "_view_module": "@jupyter-widgets/base",
            "_view_module_version": "1.2.0",
            "_view_name": "LayoutView",
            "align_content": null,
            "align_items": null,
            "align_self": null,
            "border": null,
            "bottom": null,
            "display": null,
            "flex": null,
            "flex_flow": null,
            "grid_area": null,
            "grid_auto_columns": null,
            "grid_auto_flow": null,
            "grid_auto_rows": null,
            "grid_column": null,
            "grid_gap": null,
            "grid_row": null,
            "grid_template_areas": null,
            "grid_template_columns": null,
            "grid_template_rows": null,
            "height": null,
            "justify_content": null,
            "justify_items": null,
            "left": null,
            "margin": null,
            "max_height": null,
            "max_width": null,
            "min_height": null,
            "min_width": null,
            "object_fit": null,
            "object_position": null,
            "order": null,
            "overflow": null,
            "overflow_x": null,
            "overflow_y": null,
            "padding": null,
            "right": null,
            "top": null,
            "visibility": null,
            "width": null
          }
        },
        "3b963401dbb84ce09c91c9ffa1429d0a": {
          "model_module": "@jupyter-widgets/controls",
          "model_name": "ProgressStyleModel",
          "model_module_version": "1.5.0",
          "state": {
            "_model_module": "@jupyter-widgets/controls",
            "_model_module_version": "1.5.0",
            "_model_name": "ProgressStyleModel",
            "_view_count": null,
            "_view_module": "@jupyter-widgets/base",
            "_view_module_version": "1.2.0",
            "_view_name": "StyleView",
            "bar_color": null,
            "description_width": ""
          }
        },
        "c6f3495378bf4188a6f91d8ff8481ff6": {
          "model_module": "@jupyter-widgets/base",
          "model_name": "LayoutModel",
          "model_module_version": "1.2.0",
          "state": {
            "_model_module": "@jupyter-widgets/base",
            "_model_module_version": "1.2.0",
            "_model_name": "LayoutModel",
            "_view_count": null,
            "_view_module": "@jupyter-widgets/base",
            "_view_module_version": "1.2.0",
            "_view_name": "LayoutView",
            "align_content": null,
            "align_items": null,
            "align_self": null,
            "border": null,
            "bottom": null,
            "display": null,
            "flex": null,
            "flex_flow": null,
            "grid_area": null,
            "grid_auto_columns": null,
            "grid_auto_flow": null,
            "grid_auto_rows": null,
            "grid_column": null,
            "grid_gap": null,
            "grid_row": null,
            "grid_template_areas": null,
            "grid_template_columns": null,
            "grid_template_rows": null,
            "height": null,
            "justify_content": null,
            "justify_items": null,
            "left": null,
            "margin": null,
            "max_height": null,
            "max_width": null,
            "min_height": null,
            "min_width": null,
            "object_fit": null,
            "object_position": null,
            "order": null,
            "overflow": null,
            "overflow_x": null,
            "overflow_y": null,
            "padding": null,
            "right": null,
            "top": null,
            "visibility": null,
            "width": null
          }
        },
        "44c8c11c3e434f1590de13bb9afae967": {
          "model_module": "@jupyter-widgets/controls",
          "model_name": "DescriptionStyleModel",
          "model_module_version": "1.5.0",
          "state": {
            "_model_module": "@jupyter-widgets/controls",
            "_model_module_version": "1.5.0",
            "_model_name": "DescriptionStyleModel",
            "_view_count": null,
            "_view_module": "@jupyter-widgets/base",
            "_view_module_version": "1.2.0",
            "_view_name": "StyleView",
            "description_width": ""
          }
        },
        "10516d9b2fdc4be38cd4b7d76723d55c": {
          "model_module": "@jupyter-widgets/controls",
          "model_name": "HBoxModel",
          "model_module_version": "1.5.0",
          "state": {
            "_dom_classes": [],
            "_model_module": "@jupyter-widgets/controls",
            "_model_module_version": "1.5.0",
            "_model_name": "HBoxModel",
            "_view_count": null,
            "_view_module": "@jupyter-widgets/controls",
            "_view_module_version": "1.5.0",
            "_view_name": "HBoxView",
            "box_style": "",
            "children": [
              "IPY_MODEL_d807279c2ca744ef905d9eb81b335766",
              "IPY_MODEL_065ff599be69496bbf1671da0c62b7b4",
              "IPY_MODEL_88aeaff09e444eb7a7d62c8e39f507b2"
            ],
            "layout": "IPY_MODEL_f478456713c84cc094d8f26ab8e1844d"
          }
        },
        "d807279c2ca744ef905d9eb81b335766": {
          "model_module": "@jupyter-widgets/controls",
          "model_name": "HTMLModel",
          "model_module_version": "1.5.0",
          "state": {
            "_dom_classes": [],
            "_model_module": "@jupyter-widgets/controls",
            "_model_module_version": "1.5.0",
            "_model_name": "HTMLModel",
            "_view_count": null,
            "_view_module": "@jupyter-widgets/controls",
            "_view_module_version": "1.5.0",
            "_view_name": "HTMLView",
            "description": "",
            "description_tooltip": null,
            "layout": "IPY_MODEL_83921ea6de0941ceb2063393c2623d45",
            "placeholder": "​",
            "style": "IPY_MODEL_0125d303f4f047b6b3635fcb72349c47",
            "value": "Fetching 5 files: 100%"
          }
        },
        "065ff599be69496bbf1671da0c62b7b4": {
          "model_module": "@jupyter-widgets/controls",
          "model_name": "FloatProgressModel",
          "model_module_version": "1.5.0",
          "state": {
            "_dom_classes": [],
            "_model_module": "@jupyter-widgets/controls",
            "_model_module_version": "1.5.0",
            "_model_name": "FloatProgressModel",
            "_view_count": null,
            "_view_module": "@jupyter-widgets/controls",
            "_view_module_version": "1.5.0",
            "_view_name": "ProgressView",
            "bar_style": "success",
            "description": "",
            "description_tooltip": null,
            "layout": "IPY_MODEL_fea0245abc654bb386548e04f5f9aa86",
            "max": 5,
            "min": 0,
            "orientation": "horizontal",
            "style": "IPY_MODEL_d1cc65c1e84a45b0a448e9e09db2ae54",
            "value": 5
          }
        },
        "88aeaff09e444eb7a7d62c8e39f507b2": {
          "model_module": "@jupyter-widgets/controls",
          "model_name": "HTMLModel",
          "model_module_version": "1.5.0",
          "state": {
            "_dom_classes": [],
            "_model_module": "@jupyter-widgets/controls",
            "_model_module_version": "1.5.0",
            "_model_name": "HTMLModel",
            "_view_count": null,
            "_view_module": "@jupyter-widgets/controls",
            "_view_module_version": "1.5.0",
            "_view_name": "HTMLView",
            "description": "",
            "description_tooltip": null,
            "layout": "IPY_MODEL_60d2857a8b0f48a39c631a969dd78cc2",
            "placeholder": "​",
            "style": "IPY_MODEL_26e5fc27f1f84b0089cf6fc92d8c49ee",
            "value": " 5/5 [00:00&lt;00:00, 309.45it/s]"
          }
        },
        "f478456713c84cc094d8f26ab8e1844d": {
          "model_module": "@jupyter-widgets/base",
          "model_name": "LayoutModel",
          "model_module_version": "1.2.0",
          "state": {
            "_model_module": "@jupyter-widgets/base",
            "_model_module_version": "1.2.0",
            "_model_name": "LayoutModel",
            "_view_count": null,
            "_view_module": "@jupyter-widgets/base",
            "_view_module_version": "1.2.0",
            "_view_name": "LayoutView",
            "align_content": null,
            "align_items": null,
            "align_self": null,
            "border": null,
            "bottom": null,
            "display": null,
            "flex": null,
            "flex_flow": null,
            "grid_area": null,
            "grid_auto_columns": null,
            "grid_auto_flow": null,
            "grid_auto_rows": null,
            "grid_column": null,
            "grid_gap": null,
            "grid_row": null,
            "grid_template_areas": null,
            "grid_template_columns": null,
            "grid_template_rows": null,
            "height": null,
            "justify_content": null,
            "justify_items": null,
            "left": null,
            "margin": null,
            "max_height": null,
            "max_width": null,
            "min_height": null,
            "min_width": null,
            "object_fit": null,
            "object_position": null,
            "order": null,
            "overflow": null,
            "overflow_x": null,
            "overflow_y": null,
            "padding": null,
            "right": null,
            "top": null,
            "visibility": null,
            "width": null
          }
        },
        "83921ea6de0941ceb2063393c2623d45": {
          "model_module": "@jupyter-widgets/base",
          "model_name": "LayoutModel",
          "model_module_version": "1.2.0",
          "state": {
            "_model_module": "@jupyter-widgets/base",
            "_model_module_version": "1.2.0",
            "_model_name": "LayoutModel",
            "_view_count": null,
            "_view_module": "@jupyter-widgets/base",
            "_view_module_version": "1.2.0",
            "_view_name": "LayoutView",
            "align_content": null,
            "align_items": null,
            "align_self": null,
            "border": null,
            "bottom": null,
            "display": null,
            "flex": null,
            "flex_flow": null,
            "grid_area": null,
            "grid_auto_columns": null,
            "grid_auto_flow": null,
            "grid_auto_rows": null,
            "grid_column": null,
            "grid_gap": null,
            "grid_row": null,
            "grid_template_areas": null,
            "grid_template_columns": null,
            "grid_template_rows": null,
            "height": null,
            "justify_content": null,
            "justify_items": null,
            "left": null,
            "margin": null,
            "max_height": null,
            "max_width": null,
            "min_height": null,
            "min_width": null,
            "object_fit": null,
            "object_position": null,
            "order": null,
            "overflow": null,
            "overflow_x": null,
            "overflow_y": null,
            "padding": null,
            "right": null,
            "top": null,
            "visibility": null,
            "width": null
          }
        },
        "0125d303f4f047b6b3635fcb72349c47": {
          "model_module": "@jupyter-widgets/controls",
          "model_name": "DescriptionStyleModel",
          "model_module_version": "1.5.0",
          "state": {
            "_model_module": "@jupyter-widgets/controls",
            "_model_module_version": "1.5.0",
            "_model_name": "DescriptionStyleModel",
            "_view_count": null,
            "_view_module": "@jupyter-widgets/base",
            "_view_module_version": "1.2.0",
            "_view_name": "StyleView",
            "description_width": ""
          }
        },
        "fea0245abc654bb386548e04f5f9aa86": {
          "model_module": "@jupyter-widgets/base",
          "model_name": "LayoutModel",
          "model_module_version": "1.2.0",
          "state": {
            "_model_module": "@jupyter-widgets/base",
            "_model_module_version": "1.2.0",
            "_model_name": "LayoutModel",
            "_view_count": null,
            "_view_module": "@jupyter-widgets/base",
            "_view_module_version": "1.2.0",
            "_view_name": "LayoutView",
            "align_content": null,
            "align_items": null,
            "align_self": null,
            "border": null,
            "bottom": null,
            "display": null,
            "flex": null,
            "flex_flow": null,
            "grid_area": null,
            "grid_auto_columns": null,
            "grid_auto_flow": null,
            "grid_auto_rows": null,
            "grid_column": null,
            "grid_gap": null,
            "grid_row": null,
            "grid_template_areas": null,
            "grid_template_columns": null,
            "grid_template_rows": null,
            "height": null,
            "justify_content": null,
            "justify_items": null,
            "left": null,
            "margin": null,
            "max_height": null,
            "max_width": null,
            "min_height": null,
            "min_width": null,
            "object_fit": null,
            "object_position": null,
            "order": null,
            "overflow": null,
            "overflow_x": null,
            "overflow_y": null,
            "padding": null,
            "right": null,
            "top": null,
            "visibility": null,
            "width": null
          }
        },
        "d1cc65c1e84a45b0a448e9e09db2ae54": {
          "model_module": "@jupyter-widgets/controls",
          "model_name": "ProgressStyleModel",
          "model_module_version": "1.5.0",
          "state": {
            "_model_module": "@jupyter-widgets/controls",
            "_model_module_version": "1.5.0",
            "_model_name": "ProgressStyleModel",
            "_view_count": null,
            "_view_module": "@jupyter-widgets/base",
            "_view_module_version": "1.2.0",
            "_view_name": "StyleView",
            "bar_color": null,
            "description_width": ""
          }
        },
        "60d2857a8b0f48a39c631a969dd78cc2": {
          "model_module": "@jupyter-widgets/base",
          "model_name": "LayoutModel",
          "model_module_version": "1.2.0",
          "state": {
            "_model_module": "@jupyter-widgets/base",
            "_model_module_version": "1.2.0",
            "_model_name": "LayoutModel",
            "_view_count": null,
            "_view_module": "@jupyter-widgets/base",
            "_view_module_version": "1.2.0",
            "_view_name": "LayoutView",
            "align_content": null,
            "align_items": null,
            "align_self": null,
            "border": null,
            "bottom": null,
            "display": null,
            "flex": null,
            "flex_flow": null,
            "grid_area": null,
            "grid_auto_columns": null,
            "grid_auto_flow": null,
            "grid_auto_rows": null,
            "grid_column": null,
            "grid_gap": null,
            "grid_row": null,
            "grid_template_areas": null,
            "grid_template_columns": null,
            "grid_template_rows": null,
            "height": null,
            "justify_content": null,
            "justify_items": null,
            "left": null,
            "margin": null,
            "max_height": null,
            "max_width": null,
            "min_height": null,
            "min_width": null,
            "object_fit": null,
            "object_position": null,
            "order": null,
            "overflow": null,
            "overflow_x": null,
            "overflow_y": null,
            "padding": null,
            "right": null,
            "top": null,
            "visibility": null,
            "width": null
          }
        },
        "26e5fc27f1f84b0089cf6fc92d8c49ee": {
          "model_module": "@jupyter-widgets/controls",
          "model_name": "DescriptionStyleModel",
          "model_module_version": "1.5.0",
          "state": {
            "_model_module": "@jupyter-widgets/controls",
            "_model_module_version": "1.5.0",
            "_model_name": "DescriptionStyleModel",
            "_view_count": null,
            "_view_module": "@jupyter-widgets/base",
            "_view_module_version": "1.2.0",
            "_view_name": "StyleView",
            "description_width": ""
          }
        },
        "f200555a7d1a4273951eab64bc4e8450": {
          "model_module": "@jupyter-widgets/controls",
          "model_name": "HBoxModel",
          "model_module_version": "1.5.0",
          "state": {
            "_dom_classes": [],
            "_model_module": "@jupyter-widgets/controls",
            "_model_module_version": "1.5.0",
            "_model_name": "HBoxModel",
            "_view_count": null,
            "_view_module": "@jupyter-widgets/controls",
            "_view_module_version": "1.5.0",
            "_view_name": "HBoxView",
            "box_style": "",
            "children": [
              "IPY_MODEL_4007240e4533477b91e208c73e8f62fd",
              "IPY_MODEL_6c1559ed8c384772914bc31b03e4042a",
              "IPY_MODEL_de521e16e4d647b58d581e8b8480971d"
            ],
            "layout": "IPY_MODEL_df642d900a2b4143ad0b01fee287cfef"
          }
        },
        "4007240e4533477b91e208c73e8f62fd": {
          "model_module": "@jupyter-widgets/controls",
          "model_name": "HTMLModel",
          "model_module_version": "1.5.0",
          "state": {
            "_dom_classes": [],
            "_model_module": "@jupyter-widgets/controls",
            "_model_module_version": "1.5.0",
            "_model_name": "HTMLModel",
            "_view_count": null,
            "_view_module": "@jupyter-widgets/controls",
            "_view_module_version": "1.5.0",
            "_view_name": "HTMLView",
            "description": "",
            "description_tooltip": null,
            "layout": "IPY_MODEL_79656e5ebbb940889b49256dc64eb1eb",
            "placeholder": "​",
            "style": "IPY_MODEL_5a87f9abd0d4430ebd51e39febaf52a2",
            "value": "Fetching 5 files: 100%"
          }
        },
        "6c1559ed8c384772914bc31b03e4042a": {
          "model_module": "@jupyter-widgets/controls",
          "model_name": "FloatProgressModel",
          "model_module_version": "1.5.0",
          "state": {
            "_dom_classes": [],
            "_model_module": "@jupyter-widgets/controls",
            "_model_module_version": "1.5.0",
            "_model_name": "FloatProgressModel",
            "_view_count": null,
            "_view_module": "@jupyter-widgets/controls",
            "_view_module_version": "1.5.0",
            "_view_name": "ProgressView",
            "bar_style": "success",
            "description": "",
            "description_tooltip": null,
            "layout": "IPY_MODEL_923ff11e7d984b3b9ecc1836f46d47d7",
            "max": 5,
            "min": 0,
            "orientation": "horizontal",
            "style": "IPY_MODEL_48d77cbfcf064b86a1ddbfb38792add0",
            "value": 5
          }
        },
        "de521e16e4d647b58d581e8b8480971d": {
          "model_module": "@jupyter-widgets/controls",
          "model_name": "HTMLModel",
          "model_module_version": "1.5.0",
          "state": {
            "_dom_classes": [],
            "_model_module": "@jupyter-widgets/controls",
            "_model_module_version": "1.5.0",
            "_model_name": "HTMLModel",
            "_view_count": null,
            "_view_module": "@jupyter-widgets/controls",
            "_view_module_version": "1.5.0",
            "_view_name": "HTMLView",
            "description": "",
            "description_tooltip": null,
            "layout": "IPY_MODEL_a0b23b8cfe624a8e84fdbb00a5206072",
            "placeholder": "​",
            "style": "IPY_MODEL_abf992b632d04d8883cd98c1f1e408b3",
            "value": " 5/5 [00:00&lt;00:00, 200.85it/s]"
          }
        },
        "df642d900a2b4143ad0b01fee287cfef": {
          "model_module": "@jupyter-widgets/base",
          "model_name": "LayoutModel",
          "model_module_version": "1.2.0",
          "state": {
            "_model_module": "@jupyter-widgets/base",
            "_model_module_version": "1.2.0",
            "_model_name": "LayoutModel",
            "_view_count": null,
            "_view_module": "@jupyter-widgets/base",
            "_view_module_version": "1.2.0",
            "_view_name": "LayoutView",
            "align_content": null,
            "align_items": null,
            "align_self": null,
            "border": null,
            "bottom": null,
            "display": null,
            "flex": null,
            "flex_flow": null,
            "grid_area": null,
            "grid_auto_columns": null,
            "grid_auto_flow": null,
            "grid_auto_rows": null,
            "grid_column": null,
            "grid_gap": null,
            "grid_row": null,
            "grid_template_areas": null,
            "grid_template_columns": null,
            "grid_template_rows": null,
            "height": null,
            "justify_content": null,
            "justify_items": null,
            "left": null,
            "margin": null,
            "max_height": null,
            "max_width": null,
            "min_height": null,
            "min_width": null,
            "object_fit": null,
            "object_position": null,
            "order": null,
            "overflow": null,
            "overflow_x": null,
            "overflow_y": null,
            "padding": null,
            "right": null,
            "top": null,
            "visibility": null,
            "width": null
          }
        },
        "79656e5ebbb940889b49256dc64eb1eb": {
          "model_module": "@jupyter-widgets/base",
          "model_name": "LayoutModel",
          "model_module_version": "1.2.0",
          "state": {
            "_model_module": "@jupyter-widgets/base",
            "_model_module_version": "1.2.0",
            "_model_name": "LayoutModel",
            "_view_count": null,
            "_view_module": "@jupyter-widgets/base",
            "_view_module_version": "1.2.0",
            "_view_name": "LayoutView",
            "align_content": null,
            "align_items": null,
            "align_self": null,
            "border": null,
            "bottom": null,
            "display": null,
            "flex": null,
            "flex_flow": null,
            "grid_area": null,
            "grid_auto_columns": null,
            "grid_auto_flow": null,
            "grid_auto_rows": null,
            "grid_column": null,
            "grid_gap": null,
            "grid_row": null,
            "grid_template_areas": null,
            "grid_template_columns": null,
            "grid_template_rows": null,
            "height": null,
            "justify_content": null,
            "justify_items": null,
            "left": null,
            "margin": null,
            "max_height": null,
            "max_width": null,
            "min_height": null,
            "min_width": null,
            "object_fit": null,
            "object_position": null,
            "order": null,
            "overflow": null,
            "overflow_x": null,
            "overflow_y": null,
            "padding": null,
            "right": null,
            "top": null,
            "visibility": null,
            "width": null
          }
        },
        "5a87f9abd0d4430ebd51e39febaf52a2": {
          "model_module": "@jupyter-widgets/controls",
          "model_name": "DescriptionStyleModel",
          "model_module_version": "1.5.0",
          "state": {
            "_model_module": "@jupyter-widgets/controls",
            "_model_module_version": "1.5.0",
            "_model_name": "DescriptionStyleModel",
            "_view_count": null,
            "_view_module": "@jupyter-widgets/base",
            "_view_module_version": "1.2.0",
            "_view_name": "StyleView",
            "description_width": ""
          }
        },
        "923ff11e7d984b3b9ecc1836f46d47d7": {
          "model_module": "@jupyter-widgets/base",
          "model_name": "LayoutModel",
          "model_module_version": "1.2.0",
          "state": {
            "_model_module": "@jupyter-widgets/base",
            "_model_module_version": "1.2.0",
            "_model_name": "LayoutModel",
            "_view_count": null,
            "_view_module": "@jupyter-widgets/base",
            "_view_module_version": "1.2.0",
            "_view_name": "LayoutView",
            "align_content": null,
            "align_items": null,
            "align_self": null,
            "border": null,
            "bottom": null,
            "display": null,
            "flex": null,
            "flex_flow": null,
            "grid_area": null,
            "grid_auto_columns": null,
            "grid_auto_flow": null,
            "grid_auto_rows": null,
            "grid_column": null,
            "grid_gap": null,
            "grid_row": null,
            "grid_template_areas": null,
            "grid_template_columns": null,
            "grid_template_rows": null,
            "height": null,
            "justify_content": null,
            "justify_items": null,
            "left": null,
            "margin": null,
            "max_height": null,
            "max_width": null,
            "min_height": null,
            "min_width": null,
            "object_fit": null,
            "object_position": null,
            "order": null,
            "overflow": null,
            "overflow_x": null,
            "overflow_y": null,
            "padding": null,
            "right": null,
            "top": null,
            "visibility": null,
            "width": null
          }
        },
        "48d77cbfcf064b86a1ddbfb38792add0": {
          "model_module": "@jupyter-widgets/controls",
          "model_name": "ProgressStyleModel",
          "model_module_version": "1.5.0",
          "state": {
            "_model_module": "@jupyter-widgets/controls",
            "_model_module_version": "1.5.0",
            "_model_name": "ProgressStyleModel",
            "_view_count": null,
            "_view_module": "@jupyter-widgets/base",
            "_view_module_version": "1.2.0",
            "_view_name": "StyleView",
            "bar_color": null,
            "description_width": ""
          }
        },
        "a0b23b8cfe624a8e84fdbb00a5206072": {
          "model_module": "@jupyter-widgets/base",
          "model_name": "LayoutModel",
          "model_module_version": "1.2.0",
          "state": {
            "_model_module": "@jupyter-widgets/base",
            "_model_module_version": "1.2.0",
            "_model_name": "LayoutModel",
            "_view_count": null,
            "_view_module": "@jupyter-widgets/base",
            "_view_module_version": "1.2.0",
            "_view_name": "LayoutView",
            "align_content": null,
            "align_items": null,
            "align_self": null,
            "border": null,
            "bottom": null,
            "display": null,
            "flex": null,
            "flex_flow": null,
            "grid_area": null,
            "grid_auto_columns": null,
            "grid_auto_flow": null,
            "grid_auto_rows": null,
            "grid_column": null,
            "grid_gap": null,
            "grid_row": null,
            "grid_template_areas": null,
            "grid_template_columns": null,
            "grid_template_rows": null,
            "height": null,
            "justify_content": null,
            "justify_items": null,
            "left": null,
            "margin": null,
            "max_height": null,
            "max_width": null,
            "min_height": null,
            "min_width": null,
            "object_fit": null,
            "object_position": null,
            "order": null,
            "overflow": null,
            "overflow_x": null,
            "overflow_y": null,
            "padding": null,
            "right": null,
            "top": null,
            "visibility": null,
            "width": null
          }
        },
        "abf992b632d04d8883cd98c1f1e408b3": {
          "model_module": "@jupyter-widgets/controls",
          "model_name": "DescriptionStyleModel",
          "model_module_version": "1.5.0",
          "state": {
            "_model_module": "@jupyter-widgets/controls",
            "_model_module_version": "1.5.0",
            "_model_name": "DescriptionStyleModel",
            "_view_count": null,
            "_view_module": "@jupyter-widgets/base",
            "_view_module_version": "1.2.0",
            "_view_name": "StyleView",
            "description_width": ""
          }
        },
        "f7db5676ab964e91a4478b0ec13869a5": {
          "model_module": "@jupyter-widgets/controls",
          "model_name": "HBoxModel",
          "model_module_version": "1.5.0",
          "state": {
            "_dom_classes": [],
            "_model_module": "@jupyter-widgets/controls",
            "_model_module_version": "1.5.0",
            "_model_name": "HBoxModel",
            "_view_count": null,
            "_view_module": "@jupyter-widgets/controls",
            "_view_module_version": "1.5.0",
            "_view_name": "HBoxView",
            "box_style": "",
            "children": [
              "IPY_MODEL_439cc1ae91b84f4080a77a2a7b5201c8",
              "IPY_MODEL_7cd683e1cb964782855aaf6ca802ec97",
              "IPY_MODEL_5d308664b5744dadbe142f32d7ea6e80"
            ],
            "layout": "IPY_MODEL_606df4dae0b54e689047a8717be86128"
          }
        },
        "439cc1ae91b84f4080a77a2a7b5201c8": {
          "model_module": "@jupyter-widgets/controls",
          "model_name": "HTMLModel",
          "model_module_version": "1.5.0",
          "state": {
            "_dom_classes": [],
            "_model_module": "@jupyter-widgets/controls",
            "_model_module_version": "1.5.0",
            "_model_name": "HTMLModel",
            "_view_count": null,
            "_view_module": "@jupyter-widgets/controls",
            "_view_module_version": "1.5.0",
            "_view_name": "HTMLView",
            "description": "",
            "description_tooltip": null,
            "layout": "IPY_MODEL_9e302f812eca4cc9bdcb4b9f70ad6987",
            "placeholder": "​",
            "style": "IPY_MODEL_c7920ed6f4854744900d4bb54cab5523",
            "value": "Fetching 5 files: 100%"
          }
        },
        "7cd683e1cb964782855aaf6ca802ec97": {
          "model_module": "@jupyter-widgets/controls",
          "model_name": "FloatProgressModel",
          "model_module_version": "1.5.0",
          "state": {
            "_dom_classes": [],
            "_model_module": "@jupyter-widgets/controls",
            "_model_module_version": "1.5.0",
            "_model_name": "FloatProgressModel",
            "_view_count": null,
            "_view_module": "@jupyter-widgets/controls",
            "_view_module_version": "1.5.0",
            "_view_name": "ProgressView",
            "bar_style": "success",
            "description": "",
            "description_tooltip": null,
            "layout": "IPY_MODEL_db22de84d4ce441ab7ac26d9860a1ff9",
            "max": 5,
            "min": 0,
            "orientation": "horizontal",
            "style": "IPY_MODEL_9de561d8b061496b8334017bbf7da692",
            "value": 5
          }
        },
        "5d308664b5744dadbe142f32d7ea6e80": {
          "model_module": "@jupyter-widgets/controls",
          "model_name": "HTMLModel",
          "model_module_version": "1.5.0",
          "state": {
            "_dom_classes": [],
            "_model_module": "@jupyter-widgets/controls",
            "_model_module_version": "1.5.0",
            "_model_name": "HTMLModel",
            "_view_count": null,
            "_view_module": "@jupyter-widgets/controls",
            "_view_module_version": "1.5.0",
            "_view_name": "HTMLView",
            "description": "",
            "description_tooltip": null,
            "layout": "IPY_MODEL_daa34833576049c9ab28aed7cab23fb1",
            "placeholder": "​",
            "style": "IPY_MODEL_0d3d82bae9904c64a4d7c22379baee53",
            "value": " 5/5 [00:00&lt;00:00, 307.20it/s]"
          }
        },
        "606df4dae0b54e689047a8717be86128": {
          "model_module": "@jupyter-widgets/base",
          "model_name": "LayoutModel",
          "model_module_version": "1.2.0",
          "state": {
            "_model_module": "@jupyter-widgets/base",
            "_model_module_version": "1.2.0",
            "_model_name": "LayoutModel",
            "_view_count": null,
            "_view_module": "@jupyter-widgets/base",
            "_view_module_version": "1.2.0",
            "_view_name": "LayoutView",
            "align_content": null,
            "align_items": null,
            "align_self": null,
            "border": null,
            "bottom": null,
            "display": null,
            "flex": null,
            "flex_flow": null,
            "grid_area": null,
            "grid_auto_columns": null,
            "grid_auto_flow": null,
            "grid_auto_rows": null,
            "grid_column": null,
            "grid_gap": null,
            "grid_row": null,
            "grid_template_areas": null,
            "grid_template_columns": null,
            "grid_template_rows": null,
            "height": null,
            "justify_content": null,
            "justify_items": null,
            "left": null,
            "margin": null,
            "max_height": null,
            "max_width": null,
            "min_height": null,
            "min_width": null,
            "object_fit": null,
            "object_position": null,
            "order": null,
            "overflow": null,
            "overflow_x": null,
            "overflow_y": null,
            "padding": null,
            "right": null,
            "top": null,
            "visibility": null,
            "width": null
          }
        },
        "9e302f812eca4cc9bdcb4b9f70ad6987": {
          "model_module": "@jupyter-widgets/base",
          "model_name": "LayoutModel",
          "model_module_version": "1.2.0",
          "state": {
            "_model_module": "@jupyter-widgets/base",
            "_model_module_version": "1.2.0",
            "_model_name": "LayoutModel",
            "_view_count": null,
            "_view_module": "@jupyter-widgets/base",
            "_view_module_version": "1.2.0",
            "_view_name": "LayoutView",
            "align_content": null,
            "align_items": null,
            "align_self": null,
            "border": null,
            "bottom": null,
            "display": null,
            "flex": null,
            "flex_flow": null,
            "grid_area": null,
            "grid_auto_columns": null,
            "grid_auto_flow": null,
            "grid_auto_rows": null,
            "grid_column": null,
            "grid_gap": null,
            "grid_row": null,
            "grid_template_areas": null,
            "grid_template_columns": null,
            "grid_template_rows": null,
            "height": null,
            "justify_content": null,
            "justify_items": null,
            "left": null,
            "margin": null,
            "max_height": null,
            "max_width": null,
            "min_height": null,
            "min_width": null,
            "object_fit": null,
            "object_position": null,
            "order": null,
            "overflow": null,
            "overflow_x": null,
            "overflow_y": null,
            "padding": null,
            "right": null,
            "top": null,
            "visibility": null,
            "width": null
          }
        },
        "c7920ed6f4854744900d4bb54cab5523": {
          "model_module": "@jupyter-widgets/controls",
          "model_name": "DescriptionStyleModel",
          "model_module_version": "1.5.0",
          "state": {
            "_model_module": "@jupyter-widgets/controls",
            "_model_module_version": "1.5.0",
            "_model_name": "DescriptionStyleModel",
            "_view_count": null,
            "_view_module": "@jupyter-widgets/base",
            "_view_module_version": "1.2.0",
            "_view_name": "StyleView",
            "description_width": ""
          }
        },
        "db22de84d4ce441ab7ac26d9860a1ff9": {
          "model_module": "@jupyter-widgets/base",
          "model_name": "LayoutModel",
          "model_module_version": "1.2.0",
          "state": {
            "_model_module": "@jupyter-widgets/base",
            "_model_module_version": "1.2.0",
            "_model_name": "LayoutModel",
            "_view_count": null,
            "_view_module": "@jupyter-widgets/base",
            "_view_module_version": "1.2.0",
            "_view_name": "LayoutView",
            "align_content": null,
            "align_items": null,
            "align_self": null,
            "border": null,
            "bottom": null,
            "display": null,
            "flex": null,
            "flex_flow": null,
            "grid_area": null,
            "grid_auto_columns": null,
            "grid_auto_flow": null,
            "grid_auto_rows": null,
            "grid_column": null,
            "grid_gap": null,
            "grid_row": null,
            "grid_template_areas": null,
            "grid_template_columns": null,
            "grid_template_rows": null,
            "height": null,
            "justify_content": null,
            "justify_items": null,
            "left": null,
            "margin": null,
            "max_height": null,
            "max_width": null,
            "min_height": null,
            "min_width": null,
            "object_fit": null,
            "object_position": null,
            "order": null,
            "overflow": null,
            "overflow_x": null,
            "overflow_y": null,
            "padding": null,
            "right": null,
            "top": null,
            "visibility": null,
            "width": null
          }
        },
        "9de561d8b061496b8334017bbf7da692": {
          "model_module": "@jupyter-widgets/controls",
          "model_name": "ProgressStyleModel",
          "model_module_version": "1.5.0",
          "state": {
            "_model_module": "@jupyter-widgets/controls",
            "_model_module_version": "1.5.0",
            "_model_name": "ProgressStyleModel",
            "_view_count": null,
            "_view_module": "@jupyter-widgets/base",
            "_view_module_version": "1.2.0",
            "_view_name": "StyleView",
            "bar_color": null,
            "description_width": ""
          }
        },
        "daa34833576049c9ab28aed7cab23fb1": {
          "model_module": "@jupyter-widgets/base",
          "model_name": "LayoutModel",
          "model_module_version": "1.2.0",
          "state": {
            "_model_module": "@jupyter-widgets/base",
            "_model_module_version": "1.2.0",
            "_model_name": "LayoutModel",
            "_view_count": null,
            "_view_module": "@jupyter-widgets/base",
            "_view_module_version": "1.2.0",
            "_view_name": "LayoutView",
            "align_content": null,
            "align_items": null,
            "align_self": null,
            "border": null,
            "bottom": null,
            "display": null,
            "flex": null,
            "flex_flow": null,
            "grid_area": null,
            "grid_auto_columns": null,
            "grid_auto_flow": null,
            "grid_auto_rows": null,
            "grid_column": null,
            "grid_gap": null,
            "grid_row": null,
            "grid_template_areas": null,
            "grid_template_columns": null,
            "grid_template_rows": null,
            "height": null,
            "justify_content": null,
            "justify_items": null,
            "left": null,
            "margin": null,
            "max_height": null,
            "max_width": null,
            "min_height": null,
            "min_width": null,
            "object_fit": null,
            "object_position": null,
            "order": null,
            "overflow": null,
            "overflow_x": null,
            "overflow_y": null,
            "padding": null,
            "right": null,
            "top": null,
            "visibility": null,
            "width": null
          }
        },
        "0d3d82bae9904c64a4d7c22379baee53": {
          "model_module": "@jupyter-widgets/controls",
          "model_name": "DescriptionStyleModel",
          "model_module_version": "1.5.0",
          "state": {
            "_model_module": "@jupyter-widgets/controls",
            "_model_module_version": "1.5.0",
            "_model_name": "DescriptionStyleModel",
            "_view_count": null,
            "_view_module": "@jupyter-widgets/base",
            "_view_module_version": "1.2.0",
            "_view_name": "StyleView",
            "description_width": ""
          }
        },
        "3c39fd96b98f4433be71ac210bf2909c": {
          "model_module": "@jupyter-widgets/controls",
          "model_name": "HBoxModel",
          "model_module_version": "1.5.0",
          "state": {
            "_dom_classes": [],
            "_model_module": "@jupyter-widgets/controls",
            "_model_module_version": "1.5.0",
            "_model_name": "HBoxModel",
            "_view_count": null,
            "_view_module": "@jupyter-widgets/controls",
            "_view_module_version": "1.5.0",
            "_view_name": "HBoxView",
            "box_style": "",
            "children": [
              "IPY_MODEL_57f6e71c6df145418ffb3e43b12a7d89",
              "IPY_MODEL_71d6ce86facb4363bcf22e4a682e5d29",
              "IPY_MODEL_c0af27c2cbdf401c9e1d9c5bed4f0141"
            ],
            "layout": "IPY_MODEL_74755e51af8d4f639b4cc5dca665f4d8"
          }
        },
        "57f6e71c6df145418ffb3e43b12a7d89": {
          "model_module": "@jupyter-widgets/controls",
          "model_name": "HTMLModel",
          "model_module_version": "1.5.0",
          "state": {
            "_dom_classes": [],
            "_model_module": "@jupyter-widgets/controls",
            "_model_module_version": "1.5.0",
            "_model_name": "HTMLModel",
            "_view_count": null,
            "_view_module": "@jupyter-widgets/controls",
            "_view_module_version": "1.5.0",
            "_view_name": "HTMLView",
            "description": "",
            "description_tooltip": null,
            "layout": "IPY_MODEL_1f1c4fe55cd24469aadd55452c4b3302",
            "placeholder": "​",
            "style": "IPY_MODEL_7a5daf87409641b794ffdb865037e3d0",
            "value": "Fetching 5 files: 100%"
          }
        },
        "71d6ce86facb4363bcf22e4a682e5d29": {
          "model_module": "@jupyter-widgets/controls",
          "model_name": "FloatProgressModel",
          "model_module_version": "1.5.0",
          "state": {
            "_dom_classes": [],
            "_model_module": "@jupyter-widgets/controls",
            "_model_module_version": "1.5.0",
            "_model_name": "FloatProgressModel",
            "_view_count": null,
            "_view_module": "@jupyter-widgets/controls",
            "_view_module_version": "1.5.0",
            "_view_name": "ProgressView",
            "bar_style": "success",
            "description": "",
            "description_tooltip": null,
            "layout": "IPY_MODEL_fbbdce1b27ea4bc49327f348bba86a30",
            "max": 5,
            "min": 0,
            "orientation": "horizontal",
            "style": "IPY_MODEL_97fbc97d7fcb4959bce0ef8965f610d2",
            "value": 5
          }
        },
        "c0af27c2cbdf401c9e1d9c5bed4f0141": {
          "model_module": "@jupyter-widgets/controls",
          "model_name": "HTMLModel",
          "model_module_version": "1.5.0",
          "state": {
            "_dom_classes": [],
            "_model_module": "@jupyter-widgets/controls",
            "_model_module_version": "1.5.0",
            "_model_name": "HTMLModel",
            "_view_count": null,
            "_view_module": "@jupyter-widgets/controls",
            "_view_module_version": "1.5.0",
            "_view_name": "HTMLView",
            "description": "",
            "description_tooltip": null,
            "layout": "IPY_MODEL_8745d4dbac2f4203bbcd1678eb478f50",
            "placeholder": "​",
            "style": "IPY_MODEL_a20a2af6aae7421db667d56d2fd03ff5",
            "value": " 5/5 [00:00&lt;00:00, 222.57it/s]"
          }
        },
        "74755e51af8d4f639b4cc5dca665f4d8": {
          "model_module": "@jupyter-widgets/base",
          "model_name": "LayoutModel",
          "model_module_version": "1.2.0",
          "state": {
            "_model_module": "@jupyter-widgets/base",
            "_model_module_version": "1.2.0",
            "_model_name": "LayoutModel",
            "_view_count": null,
            "_view_module": "@jupyter-widgets/base",
            "_view_module_version": "1.2.0",
            "_view_name": "LayoutView",
            "align_content": null,
            "align_items": null,
            "align_self": null,
            "border": null,
            "bottom": null,
            "display": null,
            "flex": null,
            "flex_flow": null,
            "grid_area": null,
            "grid_auto_columns": null,
            "grid_auto_flow": null,
            "grid_auto_rows": null,
            "grid_column": null,
            "grid_gap": null,
            "grid_row": null,
            "grid_template_areas": null,
            "grid_template_columns": null,
            "grid_template_rows": null,
            "height": null,
            "justify_content": null,
            "justify_items": null,
            "left": null,
            "margin": null,
            "max_height": null,
            "max_width": null,
            "min_height": null,
            "min_width": null,
            "object_fit": null,
            "object_position": null,
            "order": null,
            "overflow": null,
            "overflow_x": null,
            "overflow_y": null,
            "padding": null,
            "right": null,
            "top": null,
            "visibility": null,
            "width": null
          }
        },
        "1f1c4fe55cd24469aadd55452c4b3302": {
          "model_module": "@jupyter-widgets/base",
          "model_name": "LayoutModel",
          "model_module_version": "1.2.0",
          "state": {
            "_model_module": "@jupyter-widgets/base",
            "_model_module_version": "1.2.0",
            "_model_name": "LayoutModel",
            "_view_count": null,
            "_view_module": "@jupyter-widgets/base",
            "_view_module_version": "1.2.0",
            "_view_name": "LayoutView",
            "align_content": null,
            "align_items": null,
            "align_self": null,
            "border": null,
            "bottom": null,
            "display": null,
            "flex": null,
            "flex_flow": null,
            "grid_area": null,
            "grid_auto_columns": null,
            "grid_auto_flow": null,
            "grid_auto_rows": null,
            "grid_column": null,
            "grid_gap": null,
            "grid_row": null,
            "grid_template_areas": null,
            "grid_template_columns": null,
            "grid_template_rows": null,
            "height": null,
            "justify_content": null,
            "justify_items": null,
            "left": null,
            "margin": null,
            "max_height": null,
            "max_width": null,
            "min_height": null,
            "min_width": null,
            "object_fit": null,
            "object_position": null,
            "order": null,
            "overflow": null,
            "overflow_x": null,
            "overflow_y": null,
            "padding": null,
            "right": null,
            "top": null,
            "visibility": null,
            "width": null
          }
        },
        "7a5daf87409641b794ffdb865037e3d0": {
          "model_module": "@jupyter-widgets/controls",
          "model_name": "DescriptionStyleModel",
          "model_module_version": "1.5.0",
          "state": {
            "_model_module": "@jupyter-widgets/controls",
            "_model_module_version": "1.5.0",
            "_model_name": "DescriptionStyleModel",
            "_view_count": null,
            "_view_module": "@jupyter-widgets/base",
            "_view_module_version": "1.2.0",
            "_view_name": "StyleView",
            "description_width": ""
          }
        },
        "fbbdce1b27ea4bc49327f348bba86a30": {
          "model_module": "@jupyter-widgets/base",
          "model_name": "LayoutModel",
          "model_module_version": "1.2.0",
          "state": {
            "_model_module": "@jupyter-widgets/base",
            "_model_module_version": "1.2.0",
            "_model_name": "LayoutModel",
            "_view_count": null,
            "_view_module": "@jupyter-widgets/base",
            "_view_module_version": "1.2.0",
            "_view_name": "LayoutView",
            "align_content": null,
            "align_items": null,
            "align_self": null,
            "border": null,
            "bottom": null,
            "display": null,
            "flex": null,
            "flex_flow": null,
            "grid_area": null,
            "grid_auto_columns": null,
            "grid_auto_flow": null,
            "grid_auto_rows": null,
            "grid_column": null,
            "grid_gap": null,
            "grid_row": null,
            "grid_template_areas": null,
            "grid_template_columns": null,
            "grid_template_rows": null,
            "height": null,
            "justify_content": null,
            "justify_items": null,
            "left": null,
            "margin": null,
            "max_height": null,
            "max_width": null,
            "min_height": null,
            "min_width": null,
            "object_fit": null,
            "object_position": null,
            "order": null,
            "overflow": null,
            "overflow_x": null,
            "overflow_y": null,
            "padding": null,
            "right": null,
            "top": null,
            "visibility": null,
            "width": null
          }
        },
        "97fbc97d7fcb4959bce0ef8965f610d2": {
          "model_module": "@jupyter-widgets/controls",
          "model_name": "ProgressStyleModel",
          "model_module_version": "1.5.0",
          "state": {
            "_model_module": "@jupyter-widgets/controls",
            "_model_module_version": "1.5.0",
            "_model_name": "ProgressStyleModel",
            "_view_count": null,
            "_view_module": "@jupyter-widgets/base",
            "_view_module_version": "1.2.0",
            "_view_name": "StyleView",
            "bar_color": null,
            "description_width": ""
          }
        },
        "8745d4dbac2f4203bbcd1678eb478f50": {
          "model_module": "@jupyter-widgets/base",
          "model_name": "LayoutModel",
          "model_module_version": "1.2.0",
          "state": {
            "_model_module": "@jupyter-widgets/base",
            "_model_module_version": "1.2.0",
            "_model_name": "LayoutModel",
            "_view_count": null,
            "_view_module": "@jupyter-widgets/base",
            "_view_module_version": "1.2.0",
            "_view_name": "LayoutView",
            "align_content": null,
            "align_items": null,
            "align_self": null,
            "border": null,
            "bottom": null,
            "display": null,
            "flex": null,
            "flex_flow": null,
            "grid_area": null,
            "grid_auto_columns": null,
            "grid_auto_flow": null,
            "grid_auto_rows": null,
            "grid_column": null,
            "grid_gap": null,
            "grid_row": null,
            "grid_template_areas": null,
            "grid_template_columns": null,
            "grid_template_rows": null,
            "height": null,
            "justify_content": null,
            "justify_items": null,
            "left": null,
            "margin": null,
            "max_height": null,
            "max_width": null,
            "min_height": null,
            "min_width": null,
            "object_fit": null,
            "object_position": null,
            "order": null,
            "overflow": null,
            "overflow_x": null,
            "overflow_y": null,
            "padding": null,
            "right": null,
            "top": null,
            "visibility": null,
            "width": null
          }
        },
        "a20a2af6aae7421db667d56d2fd03ff5": {
          "model_module": "@jupyter-widgets/controls",
          "model_name": "DescriptionStyleModel",
          "model_module_version": "1.5.0",
          "state": {
            "_model_module": "@jupyter-widgets/controls",
            "_model_module_version": "1.5.0",
            "_model_name": "DescriptionStyleModel",
            "_view_count": null,
            "_view_module": "@jupyter-widgets/base",
            "_view_module_version": "1.2.0",
            "_view_name": "StyleView",
            "description_width": ""
          }
        },
        "69a2f5fd99494504a050aa45524eb262": {
          "model_module": "@jupyter-widgets/output",
          "model_name": "OutputModel",
          "model_module_version": "1.0.0",
          "state": {
            "_dom_classes": [],
            "_model_module": "@jupyter-widgets/output",
            "_model_module_version": "1.0.0",
            "_model_name": "OutputModel",
            "_view_count": null,
            "_view_module": "@jupyter-widgets/output",
            "_view_module_version": "1.0.0",
            "_view_name": "OutputView",
            "layout": "IPY_MODEL_6e273832d399457381ada029c54748e0",
            "msg_id": "",
            "outputs": [
              {
                "output_type": "display_data",
                "data": {
                  "text/plain": "\u001b[38;2;106;0;255m⠇\u001b[0m ✨ You're running DeepEval's latest \u001b[38;2;106;0;255mFaithfulness Metric\u001b[0m! \u001b[38;2;55;65;81m(using gpt-4, strict=False, async_mode=True)...\u001b[0m\n",
                  "text/html": "<pre style=\"white-space:pre;overflow-x:auto;line-height:normal;font-family:Menlo,'DejaVu Sans Mono',consolas,'Courier New',monospace\"><span style=\"color: #6a00ff; text-decoration-color: #6a00ff\">⠇</span> ✨ You're running DeepEval's latest <span style=\"color: #6a00ff; text-decoration-color: #6a00ff\">Faithfulness Metric</span>! <span style=\"color: #374151; text-decoration-color: #374151\">(using gpt-4, strict=False, async_mode=True)...</span>\n</pre>\n"
                },
                "metadata": {}
              }
            ]
          }
        },
        "6e273832d399457381ada029c54748e0": {
          "model_module": "@jupyter-widgets/base",
          "model_name": "LayoutModel",
          "model_module_version": "1.2.0",
          "state": {
            "_model_module": "@jupyter-widgets/base",
            "_model_module_version": "1.2.0",
            "_model_name": "LayoutModel",
            "_view_count": null,
            "_view_module": "@jupyter-widgets/base",
            "_view_module_version": "1.2.0",
            "_view_name": "LayoutView",
            "align_content": null,
            "align_items": null,
            "align_self": null,
            "border": null,
            "bottom": null,
            "display": null,
            "flex": null,
            "flex_flow": null,
            "grid_area": null,
            "grid_auto_columns": null,
            "grid_auto_flow": null,
            "grid_auto_rows": null,
            "grid_column": null,
            "grid_gap": null,
            "grid_row": null,
            "grid_template_areas": null,
            "grid_template_columns": null,
            "grid_template_rows": null,
            "height": null,
            "justify_content": null,
            "justify_items": null,
            "left": null,
            "margin": null,
            "max_height": null,
            "max_width": null,
            "min_height": null,
            "min_width": null,
            "object_fit": null,
            "object_position": null,
            "order": null,
            "overflow": null,
            "overflow_x": null,
            "overflow_y": null,
            "padding": null,
            "right": null,
            "top": null,
            "visibility": null,
            "width": null
          }
        }
      }
    }
  },
  "nbformat": 4,
  "nbformat_minor": 5
}